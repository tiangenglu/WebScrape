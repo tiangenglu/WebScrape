{
 "cells": [
  {
   "cell_type": "markdown",
   "id": "2b3d0ff3",
   "metadata": {},
   "source": [
    "# Scraped `.pdf` to `.txt` Speed Test\n",
    "\n",
    "1. Loop\n",
    "2. List Comprehension"
   ]
  },
  {
   "cell_type": "code",
   "execution_count": 1,
   "id": "0799d54d",
   "metadata": {},
   "outputs": [
    {
     "name": "stdout",
     "output_type": "stream",
     "text": [
      "3.12.2 | packaged by conda-forge | (main, Feb 16 2024, 21:00:12) [Clang 16.0.6 ]\n"
     ]
    }
   ],
   "source": [
    "import sys\n",
    "print(sys.version)"
   ]
  },
  {
   "cell_type": "code",
   "execution_count": 2,
   "id": "540137a7",
   "metadata": {},
   "outputs": [
    {
     "name": "stdout",
     "output_type": "stream",
     "text": [
      "2024-03-04, 00:45:51\n"
     ]
    }
   ],
   "source": [
    "import time as tm\n",
    "import datetime as dt\n",
    "from datetime import datetime # .now\n",
    "program_begin = datetime.now().strftime(\"%Y-%m-%d, %H:%M:%S\")\n",
    "print(program_begin)"
   ]
  },
  {
   "cell_type": "code",
   "execution_count": 3,
   "id": "df46c41c",
   "metadata": {},
   "outputs": [],
   "source": [
    "import os\n",
    "import numpy as np\n",
    "import pandas as pd\n",
    "from PyPDF2 import PdfReader"
   ]
  },
  {
   "cell_type": "code",
   "execution_count": 4,
   "id": "5bfc86b1",
   "metadata": {},
   "outputs": [
    {
     "name": "stdout",
     "output_type": "stream",
     "text": [
      "True\n"
     ]
    }
   ],
   "source": [
    "path = 'iv'\n",
    "print(os.path.exists(path)) # confirm the existence of immigrant visa folder"
   ]
  },
  {
   "cell_type": "code",
   "execution_count": 5,
   "id": "7301ca2d",
   "metadata": {},
   "outputs": [
    {
     "data": {
      "text/plain": [
       "['.DS_Store',\n",
       " 'iv_2017-03-31.pdf',\n",
       " 'iv_2017-04-30.pdf',\n",
       " 'iv_2017-05-31.pdf',\n",
       " 'iv_2017-06-30.pdf']"
      ]
     },
     "execution_count": 5,
     "metadata": {},
     "output_type": "execute_result"
    }
   ],
   "source": [
    "# be aware of the .DS_Store that was automatically generated\n",
    "# additional work is required to filter the actual document list\n",
    "sorted(os.listdir(path))[:5]"
   ]
  },
  {
   "cell_type": "code",
   "execution_count": 6,
   "id": "92d5dfda",
   "metadata": {},
   "outputs": [
    {
     "name": "stdout",
     "output_type": "stream",
     "text": [
      "The first file is:\n",
      "/Users/tiangeng/Documents/python_files/iv/iv_2017-03-31.pdf\n",
      "The last file is:\n",
      "/Users/tiangeng/Documents/python_files/iv/iv_2024-01-31.pdf\n"
     ]
    }
   ],
   "source": [
    "# `os.getcwd() + '/' + path`\n",
    "# `sorted(os.listdir(path))` is to make sure files start from 2017 and end with the most recent month\n",
    "full_names = [os.getcwd() + '/' + path + '/' + pdf_file \n",
    "              for pdf_file in sorted(os.listdir(path)) \n",
    "              if pdf_file.startswith('iv_') and pdf_file.endswith('.pdf')]\n",
    "print(f'The first file is:\\n{full_names[0]}')\n",
    "print(f'The last file is:\\n{full_names[-1]}')"
   ]
  },
  {
   "cell_type": "code",
   "execution_count": 7,
   "id": "dee20a48",
   "metadata": {},
   "outputs": [],
   "source": [
    "public_data_folder = r'/Users/tiangeng/Public/data'\n",
    "path_txt = 'ivtxt'"
   ]
  },
  {
   "cell_type": "code",
   "execution_count": 8,
   "id": "ae6bba03",
   "metadata": {},
   "outputs": [],
   "source": [
    "def dtime(file):\n",
    "    return datetime.fromtimestamp(os.path.getmtime(file)).strftime(\"%Y-%m-%d, %A, %H:%M:%S\")    "
   ]
  },
  {
   "cell_type": "code",
   "execution_count": 9,
   "id": "65159ec7",
   "metadata": {},
   "outputs": [
    {
     "name": "stdout",
     "output_type": "stream",
     "text": [
      "The folder exists, it was created at:\n",
      "2024-03-03, Sunday, 22:38:49\n"
     ]
    }
   ],
   "source": [
    "if not os.path.exists(public_data_folder + '/'+ path_txt):\n",
    "    print('Create a new folder to store the converted .txt files.')\n",
    "    os.makedirs(public_data_folder + '/'+ path_txt)\n",
    "else:\n",
    "    print(f'The folder exists, it was created at:\\n{dtime(public_data_folder + '/'+ path_txt)}')            "
   ]
  },
  {
   "cell_type": "code",
   "execution_count": 10,
   "id": "6fd0b697",
   "metadata": {},
   "outputs": [
    {
     "name": "stdout",
     "output_type": "stream",
     "text": [
      "The first .txt filename is:\n",
      "iv_2017-03-31.txt\n",
      "There're 83 .txt files.\n"
     ]
    }
   ],
   "source": [
    "txt_names = [pdf.split('/')[-1].split('.')[0] + '.txt' for pdf in full_names]\n",
    "print(f'The first .txt filename is:\\n{txt_names[0]}\\nThere\\'re {len(txt_names)} .txt files.')"
   ]
  },
  {
   "cell_type": "markdown",
   "id": "03eec2a3",
   "metadata": {},
   "source": [
    "# `.pdf` to `.txt` Conversion"
   ]
  },
  {
   "cell_type": "code",
   "execution_count": 11,
   "id": "18475f3c",
   "metadata": {},
   "outputs": [
    {
     "name": "stdout",
     "output_type": "stream",
     "text": [
      "<PyPDF2._reader.PdfReader object at 0x159cc56d0>\n"
     ]
    }
   ],
   "source": [
    "pdf_readers_list = [PdfReader(pdf) for pdf in full_names]\n",
    "print(pdf_readers_list[0])"
   ]
  },
  {
   "cell_type": "markdown",
   "id": "67ec9d27",
   "metadata": {},
   "source": [
    "# List Comprehension"
   ]
  },
  {
   "cell_type": "code",
   "execution_count": 12,
   "id": "9e0b80e1",
   "metadata": {},
   "outputs": [
    {
     "name": "stdout",
     "output_type": "stream",
     "text": [
      "2024-03-04, 00:45:54\n",
      "2024-03-04, 00:46:42\n"
     ]
    },
    {
     "data": {
      "text/plain": [
       "'The list comprehension takes: 48 seconds.'"
      ]
     },
     "execution_count": 12,
     "metadata": {},
     "output_type": "execute_result"
    }
   ],
   "source": [
    "print(datetime.now().strftime(\"%Y-%m-%d, %H:%M:%S\"))\n",
    "start_time = datetime.now()\n",
    "test_list = [reader.pages[pg].extract_text() \n",
    "             for reader in pdf_readers_list \n",
    "             for pg in range(len(reader.pages))]\n",
    "end_time = datetime.now()\n",
    "print(datetime.now().strftime(\"%Y-%m-%d, %H:%M:%S\"))\n",
    "f'The list comprehension takes: {round((end_time-start_time).total_seconds())} seconds.'"
   ]
  },
  {
   "cell_type": "code",
   "execution_count": 13,
   "id": "958bb1b2",
   "metadata": {},
   "outputs": [
    {
     "data": {
      "text/plain": [
       "3946"
      ]
     },
     "execution_count": 13,
     "metadata": {},
     "output_type": "execute_result"
    }
   ],
   "source": [
    "len(test_list)"
   ]
  },
  {
   "cell_type": "code",
   "execution_count": 14,
   "id": "75925ae0",
   "metadata": {},
   "outputs": [
    {
     "data": {
      "text/plain": [
       "'Foreign State of Chargeability                                                                  \\nor Place of Birth Visa Class IssuancesImmigrant Visa Issuances                                                                                                           \\nby Foreign State of Chargeability                                                              \\nor Place of Birth                                                                                           \\nJanuary 2024 (FY 2024)\\nYemen FX 18                         \\nYemen IR1 162                       \\nYemen IR2 85                         \\nYemen IR5 69                         \\nYemen IW 1                           \\nZambia CR1 3                           \\nZambia E3 7                           \\nZambia F4 2                           \\nZambia FX 1                           \\nZambia I5 4                           \\nZambia IR1 3                           \\nZambia IR2 4                           \\nZambia IR5 2                           \\nZimbabwe CR1 4                           \\nZimbabwe CR2 1                           \\nZimbabwe DV 11                         \\nZimbabwe E3 18                         \\nZimbabwe EW 27                         \\nZimbabwe F1 1                           \\nZimbabwe FX 4                           \\nZimbabwe IB1 1                           \\nZimbabwe IR1 5                           \\nZimbabwe IR2 1                           \\nZimbabwe IR5 5                           \\nGRAND TOTAL 50,517                \\nPage 37 of 37'"
      ]
     },
     "execution_count": 14,
     "metadata": {},
     "output_type": "execute_result"
    }
   ],
   "source": [
    "test_list[-1]"
   ]
  },
  {
   "cell_type": "code",
   "execution_count": 15,
   "id": "cabe9e59",
   "metadata": {},
   "outputs": [
    {
     "name": "stdout",
     "output_type": "stream",
     "text": [
      "[60, 65, 68, 67, 62, 62, 52, 71, 68, 67, 65, 67, 67, 70, 71, 70, 68, 68, 57, 69, 66, 66, 65, 65, 64, 69, 68, 68, 69, 57, 58, 68, 65, 65, 63, 59, 52, 13, 6, 8, 15, 17, 28, 20, 21, 23, 22, 20, 28, 35, 37, 40, 41, 41, 42, 38, 38, 39, 38, 40, 41, 40, 39, 41, 38, 42, 39, 40, 40, 38, 39, 39, 42, 38, 40, 39, 39, 35, 37, 38, 37, 37, 37]\n"
     ]
    }
   ],
   "source": [
    "n_pages = [len(reader.pages) for reader in pdf_readers_list]\n",
    "print(n_pages)"
   ]
  },
  {
   "cell_type": "markdown",
   "id": "a242bc15",
   "metadata": {},
   "source": [
    "**Cut list into uneven groups using** `islice` in `itertools`"
   ]
  },
  {
   "cell_type": "code",
   "execution_count": 16,
   "id": "6008d528",
   "metadata": {},
   "outputs": [
    {
     "name": "stdout",
     "output_type": "stream",
     "text": [
      "2024-03-04, 00:46:42\n",
      "2024-03-04, 00:46:42\n"
     ]
    }
   ],
   "source": [
    "print(datetime.now().strftime(\"%Y-%m-%d, %H:%M:%S\"))\n",
    "from itertools import islice\n",
    "it = iter(test_list)\n",
    "sliced = [list(islice(it, 0, i)) for i in n_pages]\n",
    "print(datetime.now().strftime(\"%Y-%m-%d, %H:%M:%S\"))"
   ]
  },
  {
   "cell_type": "markdown",
   "id": "b72d6143",
   "metadata": {},
   "source": [
    "## Loop"
   ]
  },
  {
   "cell_type": "code",
   "execution_count": 17,
   "id": "8d2ed926",
   "metadata": {},
   "outputs": [
    {
     "name": "stdout",
     "output_type": "stream",
     "text": [
      "Iter #1: 2024-03-04, 00:46:43\n",
      "Iter #11: 2024-03-04, 00:46:49\n",
      "Iter #21: 2024-03-04, 00:46:56\n",
      "Iter #31: 2024-03-04, 00:47:03\n",
      "Iter #41: 2024-03-04, 00:47:07\n",
      "Iter #51: 2024-03-04, 00:47:11\n",
      "Iter #61: 2024-03-04, 00:47:16\n",
      "Iter #71: 2024-03-04, 00:47:22\n",
      "Iter #81: 2024-03-04, 00:47:28\n"
     ]
    }
   ],
   "source": [
    "new_TEXT = [None] * len(pdf_readers_list)\n",
    "loop_start = datetime.now() \n",
    "for i in range(len(pdf_readers_list)): # i loops over 83 pdf documents\n",
    "    new_TEXT[i] = [pg.extract_text() for pg in [pdf.pages for pdf in pdf_readers_list][i]]\n",
    "    if i%10 == 0:\n",
    "        print(f'Iter #{i+1}: {datetime.now().strftime(\"%Y-%m-%d, %H:%M:%S\")}') \n",
    "loop_end = datetime.now()  "
   ]
  },
  {
   "cell_type": "code",
   "execution_count": 18,
   "id": "061ec332",
   "metadata": {},
   "outputs": [
    {
     "data": {
      "text/plain": [
       "'The loop takes: 47 seconds.'"
      ]
     },
     "execution_count": 18,
     "metadata": {},
     "output_type": "execute_result"
    }
   ],
   "source": [
    "f'The loop takes: {round((loop_end-loop_start).total_seconds())} seconds.'"
   ]
  },
  {
   "cell_type": "code",
   "execution_count": 19,
   "id": "9cd59ad5",
   "metadata": {},
   "outputs": [
    {
     "name": "stdout",
     "output_type": "stream",
     "text": [
      "83\n",
      "37\n"
     ]
    }
   ],
   "source": [
    "print(len(new_TEXT)) # number of files\n",
    "print(len(new_TEXT[-1])) # number of pages in the last file"
   ]
  },
  {
   "cell_type": "markdown",
   "id": "a9cd6001",
   "metadata": {},
   "source": [
    "# Save `.txt` to File"
   ]
  },
  {
   "cell_type": "code",
   "execution_count": null,
   "id": "a1ac4662",
   "metadata": {},
   "outputs": [],
   "source": [
    "%%timeit\n",
    "for i, txt in enumerate(txt_names):\n",
    "    file = open(public_data_folder + '/'+ path_txt + '/' + txt, 'w')\n",
    "    for each_page in new_TEXT[i]:\n",
    "        file.write(each_page + \"\\n\")\n",
    "    file.close()"
   ]
  }
 ],
 "metadata": {
  "hide_input": false,
  "kernelspec": {
   "display_name": "python3.12.1",
   "language": "python",
   "name": "py312"
  },
  "language_info": {
   "codemirror_mode": {
    "name": "ipython",
    "version": 3
   },
   "file_extension": ".py",
   "mimetype": "text/x-python",
   "name": "python",
   "nbconvert_exporter": "python",
   "pygments_lexer": "ipython3",
   "version": "3.12.2"
  },
  "toc": {
   "base_numbering": 1,
   "nav_menu": {},
   "number_sections": true,
   "sideBar": true,
   "skip_h1_title": false,
   "title_cell": "Table of Contents",
   "title_sidebar": "Contents",
   "toc_cell": false,
   "toc_position": {},
   "toc_section_display": true,
   "toc_window_display": false
  },
  "varInspector": {
   "cols": {
    "lenName": 16,
    "lenType": 16,
    "lenVar": 40
   },
   "kernels_config": {
    "python": {
     "delete_cmd_postfix": "",
     "delete_cmd_prefix": "del ",
     "library": "var_list.py",
     "varRefreshCmd": "print(var_dic_list())"
    },
    "r": {
     "delete_cmd_postfix": ") ",
     "delete_cmd_prefix": "rm(",
     "library": "var_list.r",
     "varRefreshCmd": "cat(var_dic_list()) "
    }
   },
   "types_to_exclude": [
    "module",
    "function",
    "builtin_function_or_method",
    "instance",
    "_Feature"
   ],
   "window_display": false
  }
 },
 "nbformat": 4,
 "nbformat_minor": 5
}
