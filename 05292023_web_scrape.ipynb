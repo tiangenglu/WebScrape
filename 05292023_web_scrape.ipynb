{
 "cells": [
  {
   "cell_type": "markdown",
   "id": "e3d22b6f",
   "metadata": {
    "toc": true
   },
   "source": [
    "<h1>Web Scraping Step by Step 05/29/23—05/31/23<span class=\"tocSkip\"></span></h1>\n",
    "<div class=\"toc\"><ul class=\"toc-item\"><li><span><a href=\"#Purposes\" data-toc-modified-id=\"Purposes-1\"><span class=\"toc-item-num\">1&nbsp;&nbsp;</span>Purposes</a></span></li><li><span><a href=\"#Scrape\" data-toc-modified-id=\"Scrape-2\"><span class=\"toc-item-num\">2&nbsp;&nbsp;</span>Scrape</a></span><ul class=\"toc-item\"><li><span><a href=\"#Requests-&amp;-Selector\" data-toc-modified-id=\"Requests-&amp;-Selector-2.1\"><span class=\"toc-item-num\">2.1&nbsp;&nbsp;</span>Requests &amp; Selector</a></span><ul class=\"toc-item\"><li><span><a href=\"#&quot;a&quot;-and-&quot;href&quot;\" data-toc-modified-id=\"&quot;a&quot;-and-&quot;href&quot;-2.1.1\"><span class=\"toc-item-num\">2.1.1&nbsp;&nbsp;</span>\"a\" and \"href\"</a></span></li><li><span><a href=\"#XPath\" data-toc-modified-id=\"XPath-2.1.2\"><span class=\"toc-item-num\">2.1.2&nbsp;&nbsp;</span>XPath</a></span></li></ul></li><li><span><a href=\"#Extract-from-Selector\" data-toc-modified-id=\"Extract-from-Selector-2.2\"><span class=\"toc-item-num\">2.2&nbsp;&nbsp;</span>Extract from Selector</a></span></li><li><span><a href=\"#Full-URLs\" data-toc-modified-id=\"Full-URLs-2.3\"><span class=\"toc-item-num\">2.3&nbsp;&nbsp;</span>Full URLs</a></span></li><li><span><a href=\"#Beyond-Selector—Response\" data-toc-modified-id=\"Beyond-Selector—Response-2.4\"><span class=\"toc-item-num\">2.4&nbsp;&nbsp;</span>Beyond Selector—Response</a></span></li></ul></li><li><span><a href=\"#Information-Retrieval\" data-toc-modified-id=\"Information-Retrieval-3\"><span class=\"toc-item-num\">3&nbsp;&nbsp;</span>Information Retrieval</a></span><ul class=\"toc-item\"><li><span><a href=\"#Year-+-Month\" data-toc-modified-id=\"Year-+-Month-3.1\"><span class=\"toc-item-num\">3.1&nbsp;&nbsp;</span>Year + Month</a></span><ul class=\"toc-item\"><li><span><a href=\"#Dealing-with-irregularities\" data-toc-modified-id=\"Dealing-with-irregularities-3.1.1\"><span class=\"toc-item-num\">3.1.1&nbsp;&nbsp;</span>Dealing with irregularities</a></span></li><li><span><a href=\"#Re-iterate-after-removing-&quot;bad&quot;-urls\" data-toc-modified-id=\"Re-iterate-after-removing-&quot;bad&quot;-urls-3.1.2\"><span class=\"toc-item-num\">3.1.2&nbsp;&nbsp;</span>Re-iterate after removing \"bad\" urls</a></span></li><li><span><a href=\"#Finalizing-YYYY-MM-by-URL-dataframe\" data-toc-modified-id=\"Finalizing-YYYY-MM-by-URL-dataframe-3.1.3\"><span class=\"toc-item-num\">3.1.3&nbsp;&nbsp;</span>Finalizing <code>YYYY-MM</code> by URL dataframe</a></span></li></ul></li><li><span><a href=\"#Raw-Table-Elements\" data-toc-modified-id=\"Raw-Table-Elements-3.2\"><span class=\"toc-item-num\">3.2&nbsp;&nbsp;</span>Raw Table Elements</a></span></li><li><span><a href=\"#Output-Catalog-Info\" data-toc-modified-id=\"Output-Catalog-Info-3.3\"><span class=\"toc-item-num\">3.3&nbsp;&nbsp;</span>Output Catalog Info</a></span></li></ul></li><li><span><a href=\"#Dataframes-from-Raw-HTML-Elements\" data-toc-modified-id=\"Dataframes-from-Raw-HTML-Elements-4\"><span class=\"toc-item-num\">4&nbsp;&nbsp;</span>Dataframes from Raw HTML Elements</a></span><ul class=\"toc-item\"><li><span><a href=\"#Demonstration-for-Individual-Dataframe\" data-toc-modified-id=\"Demonstration-for-Individual-Dataframe-4.1\"><span class=\"toc-item-num\">4.1&nbsp;&nbsp;</span>Demonstration for Individual Dataframe</a></span><ul class=\"toc-item\"><li><span><a href=\"#The-oldest-table-(from-Web)\" data-toc-modified-id=\"The-oldest-table-(from-Web)-4.1.1\"><span class=\"toc-item-num\">4.1.1&nbsp;&nbsp;</span>The oldest table (from Web)</a></span></li><li><span><a href=\"#The-oldest-table-(scraped)\" data-toc-modified-id=\"The-oldest-table-(scraped)-4.1.2\"><span class=\"toc-item-num\">4.1.2&nbsp;&nbsp;</span>The oldest table (scraped)</a></span></li><li><span><a href=\"#The-most-recent-table-(from-Web)\" data-toc-modified-id=\"The-most-recent-table-(from-Web)-4.1.3\"><span class=\"toc-item-num\">4.1.3&nbsp;&nbsp;</span>The most recent table (from Web)</a></span></li><li><span><a href=\"#The-most-recent-table-(scraped)\" data-toc-modified-id=\"The-most-recent-table-(scraped)-4.1.4\"><span class=\"toc-item-num\">4.1.4&nbsp;&nbsp;</span>The most recent table (scraped)</a></span></li></ul></li><li><span><a href=\"#Convert-All-Dataframes\" data-toc-modified-id=\"Convert-All-Dataframes-4.2\"><span class=\"toc-item-num\">4.2&nbsp;&nbsp;</span>Convert All Dataframes</a></span></li></ul></li><li><span><a href=\"#More-Cleaning-Tasks\" data-toc-modified-id=\"More-Cleaning-Tasks-5\"><span class=\"toc-item-num\">5&nbsp;&nbsp;</span>More Cleaning Tasks</a></span><ul class=\"toc-item\"><li><span><a href=\"#Review-Column-Names\" data-toc-modified-id=\"Review-Column-Names-5.1\"><span class=\"toc-item-num\">5.1&nbsp;&nbsp;</span>Review Column Names</a></span><ul class=\"toc-item\"><li><span><a href=\"#How-many-versions-of-column-names?\" data-toc-modified-id=\"How-many-versions-of-column-names?-5.1.1\"><span class=\"toc-item-num\">5.1.1&nbsp;&nbsp;</span>How many versions of column names?</a></span></li><li><span><a href=\"#Which-dataframes-have-problematic-column-names?\" data-toc-modified-id=\"Which-dataframes-have-problematic-column-names?-5.1.2\"><span class=\"toc-item-num\">5.1.2&nbsp;&nbsp;</span>Which dataframes have problematic column names?</a></span></li><li><span><a href=\"#What-are-the-causes-of-the-problematic-column-names?\" data-toc-modified-id=\"What-are-the-causes-of-the-problematic-column-names?-5.1.3\"><span class=\"toc-item-num\">5.1.3&nbsp;&nbsp;</span>What are the causes of the problematic column names?</a></span></li></ul></li><li><span><a href=\"#Standardize-Column-Names\" data-toc-modified-id=\"Standardize-Column-Names-5.2\"><span class=\"toc-item-num\">5.2&nbsp;&nbsp;</span>Standardize Column Names</a></span><ul class=\"toc-item\"><li><span><a href=\"#Counts-of-all-column-names\" data-toc-modified-id=\"Counts-of-all-column-names-5.2.1\"><span class=\"toc-item-num\">5.2.1&nbsp;&nbsp;</span>Counts of all column names</a></span></li><li><span><a href=\"#Dictionary-of-finalized-column-names\" data-toc-modified-id=\"Dictionary-of-finalized-column-names-5.2.2\"><span class=\"toc-item-num\">5.2.2&nbsp;&nbsp;</span>Dictionary of finalized column names</a></span></li><li><span><a href=\"#Rename-all-dataframes\" data-toc-modified-id=\"Rename-all-dataframes-5.2.3\"><span class=\"toc-item-num\">5.2.3&nbsp;&nbsp;</span>Rename all dataframes</a></span></li></ul></li><li><span><a href=\"#Add-Timestamp\" data-toc-modified-id=\"Add-Timestamp-5.3\"><span class=\"toc-item-num\">5.3&nbsp;&nbsp;</span>Add Timestamp</a></span></li></ul></li><li><span><a href=\"#Merge-ALL-Dataframes\" data-toc-modified-id=\"Merge-ALL-Dataframes-6\"><span class=\"toc-item-num\">6&nbsp;&nbsp;</span>Merge ALL Dataframes</a></span></li><li><span><a href=\"#Data-Manipulation\" data-toc-modified-id=\"Data-Manipulation-7\"><span class=\"toc-item-num\">7&nbsp;&nbsp;</span>Data Manipulation</a></span><ul class=\"toc-item\"><li><span><a href=\"#Conditional-Processing-(index-&amp;-datetime)\" data-toc-modified-id=\"Conditional-Processing-(index-&amp;-datetime)-7.1\"><span class=\"toc-item-num\">7.1&nbsp;&nbsp;</span>Conditional Processing (index &amp; datetime)</a></span></li><li><span><a href=\"#Create-a-Finite-List-of-Values\" data-toc-modified-id=\"Create-a-Finite-List-of-Values-7.2\"><span class=\"toc-item-num\">7.2&nbsp;&nbsp;</span>Create a Finite List of Values</a></span></li><li><span><a href=\"#Map-New-Column-from-Dictionary\" data-toc-modified-id=\"Map-New-Column-from-Dictionary-7.3\"><span class=\"toc-item-num\">7.3&nbsp;&nbsp;</span>Map New Column from Dictionary</a></span></li></ul></li></ul></div>"
   ]
  },
  {
   "cell_type": "markdown",
   "id": "8fe2286f",
   "metadata": {},
   "source": [
    "# Purposes\n",
    "\n",
    "This jupyter notebook shows how to scrape in-text tables from 200+ webpages and then bind the 200+ tables into one dataframe.\n",
    "\n",
    "- Access inner elements from a webpage\n",
    "- Scrape online data from multiple URLs\n",
    "- Clean raw data into dataframes\n",
    "- Merge all scraped dataframes into one final dataframe\n",
    "\n",
    "Website: https://travel.state.gov/content/travel/en/legal/visa-law0/visa-bulletin.html\n",
    "\n",
    "This jupyter notebook was created on 05/29/2023, Monday, 13:26 PM\n",
    "\n",
    "This jupyter notebook was first completed at 05/31/2023, Wednesday, 22:22 PM\n"
   ]
  },
  {
   "cell_type": "code",
   "execution_count": 2,
   "id": "d47bce98",
   "metadata": {},
   "outputs": [
    {
     "name": "stdout",
     "output_type": "stream",
     "text": [
      "This jupyter notebook was created on 05/29/2023, Monday, 13:26 PM\n"
     ]
    }
   ],
   "source": [
    "import time as tm\n",
    "start_time = tm.strftime(\"%m/%d/%Y, %A, %H:%M %p\")\n",
    "print(\"This jupyter notebook was created on\", start_time)"
   ]
  },
  {
   "cell_type": "markdown",
   "id": "966c4a21",
   "metadata": {},
   "source": [
    "# Scrape"
   ]
  },
  {
   "cell_type": "code",
   "execution_count": 1,
   "id": "d6fe49a5",
   "metadata": {},
   "outputs": [],
   "source": [
    "import time as tm\n",
    "import scrapy\n",
    "import requests\n",
    "from scrapy import Selector\n",
    "import re\n",
    "import datetime as dt\n",
    "import numpy as np\n",
    "import pandas as pd"
   ]
  },
  {
   "cell_type": "markdown",
   "id": "43af3048",
   "metadata": {},
   "source": [
    "## Requests & Selector\n",
    "\n",
    "- Tech documentation: `https://docs.scrapy.org/en/latest/topics/request-response.html`\n",
    "- Reference doc: `https://campus.datacamp.com/courses/web-scraping-with-python`"
   ]
  },
  {
   "cell_type": "code",
   "execution_count": 2,
   "id": "246b9e25",
   "metadata": {},
   "outputs": [],
   "source": [
    "main_url = 'https://travel.state.gov/content/travel/en/legal/visa-law0/visa-bulletin.html'"
   ]
  },
  {
   "cell_type": "code",
   "execution_count": 3,
   "id": "81939862",
   "metadata": {},
   "outputs": [
    {
     "data": {
      "text/plain": [
       "<Selector xpath=None data='<html><head><script type=\"text/javasc...'>"
      ]
     },
     "execution_count": 3,
     "metadata": {},
     "output_type": "execute_result"
    }
   ],
   "source": [
    "main_html = requests.get(main_url).content\n",
    "main_selector = Selector(text = main_html)\n",
    "main_selector # this is a selector object"
   ]
  },
  {
   "cell_type": "code",
   "execution_count": 4,
   "id": "b9ec391e",
   "metadata": {},
   "outputs": [
    {
     "name": "stdout",
     "output_type": "stream",
     "text": [
      "There are 1883 elements in the HTML document.\n"
     ]
    }
   ],
   "source": [
    "print(\"There are\",str(len(main_selector.xpath('//*'))), \"elements in the HTML document.\")"
   ]
  },
  {
   "cell_type": "markdown",
   "id": "f34d61dd",
   "metadata": {},
   "source": [
    "### \"a\" and \"href\"\n",
    "\n",
    "- **a** tags are for hyperlinks\n",
    "- **href** attributes tells what links to go to\n",
    "\n",
    "Reference doc: `https://campus.datacamp.com/courses/web-scraping-with-python/introduction-to-html?ex=6`"
   ]
  },
  {
   "cell_type": "markdown",
   "id": "d050e223",
   "metadata": {},
   "source": [
    "### XPath\n",
    "\n",
    "- Single `/` used to move forward one generation\n",
    "- tag-names between slashes give direction to which element(s)\n",
    "- `[]` after a tag name tells which of the selected siblings to choose\n",
    "- Double `//` to look for all fugure generations, instead of one generation down\n",
    "- E.g., `xpath = //table` directs to all `table` elements within the entire HTML code\n",
    "- `@` represents \"attribute\"\n",
    "    - `@class`\n",
    "    - `@id`\n",
    "    - `@href`\n",
    "- <span class=\"mark\">Xpath Contains Notation: `contains(@attri-name, \"string-expr\")`</span>\n",
    "\n",
    "Reference docs: `https://campus.datacamp.com/courses/web-scraping-with-python/introduction-to-html?ex=9` and `https://campus.datacamp.com/courses/web-scraping-with-python/xpaths-and-selectors?ex=5`"
   ]
  },
  {
   "cell_type": "markdown",
   "id": "3dbe1c28",
   "metadata": {},
   "source": [
    "## Extract from Selector\n",
    "\n",
    "- Use the `xpath` call within a `Selector` to create new `Selector`s of specific pieces of the html code\n",
    "- The return is a `SelectorList` of `Selector` objects\n",
    "\n",
    "Reference doc: `https://campus.datacamp.com/courses/web-scraping-with-python/xpaths-and-selectors?ex=10`"
   ]
  },
  {
   "cell_type": "code",
   "execution_count": 5,
   "id": "88127195",
   "metadata": {},
   "outputs": [],
   "source": [
    "# '*' is the wildcard\n",
    "# contains(@attri-name, \"string-expr\")\n",
    "all_links = main_selector.xpath('//*[contains(@href,\"visa-law0/visa-bulletin/20\")]/@href').extract()"
   ]
  },
  {
   "cell_type": "code",
   "execution_count": 6,
   "id": "6fe377f9",
   "metadata": {},
   "outputs": [
    {
     "data": {
      "text/plain": [
       "['/content/travel/en/legal/visa-law0/visa-bulletin/2002/visa-bulletin-for-april-2002.html',\n",
       " '/content/travel/en/legal/visa-law0/visa-bulletin/2002/visa-bulletin-for-march-2002.html',\n",
       " '/content/travel/en/legal/visa-law0/visa-bulletin/2002/visa-bulletin-for-february-2002.html',\n",
       " '/content/travel/en/legal/visa-law0/visa-bulletin/2002/visa-bulletin-for-january-2002.html',\n",
       " '/content/travel/en/legal/visa-law0/visa-bulletin/2002/visa-bulletin-for-december-2001.html']"
      ]
     },
     "execution_count": 6,
     "metadata": {},
     "output_type": "execute_result"
    }
   ],
   "source": [
    "all_links[-5:]"
   ]
  },
  {
   "cell_type": "markdown",
   "id": "3b33ed41",
   "metadata": {},
   "source": [
    "## Full URLs\n",
    "\n",
    "Add the prefix of the URLS: \n",
    ">`https://travel.state.gov/`"
   ]
  },
  {
   "cell_type": "code",
   "execution_count": 7,
   "id": "0452f3df",
   "metadata": {},
   "outputs": [],
   "source": [
    "prefix = \"https://travel.state.gov\""
   ]
  },
  {
   "cell_type": "code",
   "execution_count": 8,
   "id": "7e4b96c2",
   "metadata": {},
   "outputs": [
    {
     "data": {
      "text/plain": [
       "['https://travel.state.gov/content/travel/en/legal/visa-law0/visa-bulletin/2023/visa-bulletin-for-may-2023.html',\n",
       " 'https://travel.state.gov/content/travel/en/legal/visa-law0/visa-bulletin/2023/visa-bulletin-for-june-2023.html',\n",
       " 'https://travel.state.gov/content/travel/en/legal/visa-law0/visa-bulletin/2023/visa-bulletin-for-june-2023.html',\n",
       " 'https://travel.state.gov/content/travel/en/legal/visa-law0/visa-bulletin/2023/visa-bulletin-for-may-2023.html',\n",
       " 'https://travel.state.gov/content/travel/en/legal/visa-law0/visa-bulletin/2023/visa-bulletin-for-april-2023.html']"
      ]
     },
     "execution_count": 8,
     "metadata": {},
     "output_type": "execute_result"
    }
   ],
   "source": [
    "# Concatenate the prefix with every link\n",
    "for i, link in enumerate(all_links):\n",
    "    if link.startswith('/content'):\n",
    "        all_links[i] = prefix + link\n",
    "# Take a look at the new links, they should be full\n",
    "all_links[:5] # paste these urls in browser and test whether they're good"
   ]
  },
  {
   "cell_type": "code",
   "execution_count": 9,
   "id": "1dbc20cc",
   "metadata": {},
   "outputs": [],
   "source": [
    "# What I don't like about Python is the syntax of saving a list to local file.\n",
    "# Compared to R, Python code is unnecessarily confusing and redundant for such a simple task\n",
    "file = open('visa_bulletin.txt','w')\n",
    "for url in all_links:\n",
    "    file.write(url + \"\\n\")\n",
    "file.close()    "
   ]
  },
  {
   "cell_type": "markdown",
   "id": "1daefc87",
   "metadata": {},
   "source": [
    "## Beyond Selector—Response\n",
    "\n",
    "This is beyond the scope of this example, yet it's good to keep in mind of the available tools.\n",
    "\n",
    "- The Response has all the tools with Selectors\n",
    "- The Response keeps track of the url where the HTML code was loaded from\n",
    "- The Response helps move from one site to another, so that we can \"crawl\" the web while scraping.\n",
    "- `response.url`\n",
    "- `response.follow(string_path_of_next_url)`\n",
    "\n",
    "Reference doc: `https://campus.datacamp.com/courses/web-scraping-with-python/css-locators-chaining-and-responses?ex=9`"
   ]
  },
  {
   "cell_type": "markdown",
   "id": "e001f13a",
   "metadata": {},
   "source": [
    "# Information Retrieval"
   ]
  },
  {
   "cell_type": "code",
   "execution_count": 10,
   "id": "2bbd57dd",
   "metadata": {},
   "outputs": [
    {
     "name": "stdout",
     "output_type": "stream",
     "text": [
      "We're dealing with 263 urls.\n"
     ]
    }
   ],
   "source": [
    "print(\"We're dealing with\",str(len(all_links)),\"urls.\")"
   ]
  },
  {
   "cell_type": "markdown",
   "id": "ceae2f95",
   "metadata": {},
   "source": [
    "## Year + Month"
   ]
  },
  {
   "cell_type": "code",
   "execution_count": 11,
   "id": "12145b8d",
   "metadata": {},
   "outputs": [
    {
     "data": {
      "text/plain": [
       "['https:',\n",
       " '',\n",
       " 'travel.state.gov',\n",
       " 'content',\n",
       " 'travel',\n",
       " 'en',\n",
       " 'legal',\n",
       " 'visa-law0',\n",
       " 'visa-bulletin',\n",
       " '2023',\n",
       " 'visa-bulletin-for-may-2023.html']"
      ]
     },
     "execution_count": 11,
     "metadata": {},
     "output_type": "execute_result"
    }
   ],
   "source": [
    "# take the first link as an example, first split by forward slashes\n",
    "all_links[0].split('/')"
   ]
  },
  {
   "cell_type": "code",
   "execution_count": 12,
   "id": "17b3fefc",
   "metadata": {},
   "outputs": [
    {
     "data": {
      "text/plain": [
       "['visa', 'bulletin', 'for', 'may', '2023.html']"
      ]
     },
     "execution_count": 12,
     "metadata": {},
     "output_type": "execute_result"
    }
   ],
   "source": [
    "# then split the last element by '-'\n",
    "all_links[0].split('/')[-1].split('-')"
   ]
  },
  {
   "cell_type": "code",
   "execution_count": 13,
   "id": "450dd395",
   "metadata": {},
   "outputs": [],
   "source": [
    "# initiate two empty lists of the same length of the links\n",
    "month = [None] * len(all_links)\n",
    "year = [None] * len(all_links)\n",
    "# loop over the list\n",
    "for i, link in enumerate(all_links):\n",
    "    # for each individual url, first split by `/`, work on the last element, then split by `-`\n",
    "    month[i] = link.split('/')[-1].split('-')[-2].upper()\n",
    "    year[i] = link.split('/')[-1].split('-')[-1].split('.')[0]"
   ]
  },
  {
   "cell_type": "code",
   "execution_count": 14,
   "id": "7f8f1780",
   "metadata": {},
   "outputs": [
    {
     "name": "stdout",
     "output_type": "stream",
     "text": [
      "{'APRIL', 'AUGUST', 'FEBRUARY', 'JANUARY', 'MARCH', 'DECEMBER', 'SEPTEMBER', 'JUNE', 'JULY', 'MAY', 'VISA', 'NOVEMBER', 'OCTOBER'}\n"
     ]
    }
   ],
   "source": [
    "print(set(month))"
   ]
  },
  {
   "cell_type": "code",
   "execution_count": 15,
   "id": "ea06acea",
   "metadata": {},
   "outputs": [
    {
     "name": "stdout",
     "output_type": "stream",
     "text": [
      "{'2009', '2006', '2017', '2003', '2010', '2002', '2004', 'bulletin', '2007', '2015', '2005', '2023', '2013', '2020', '2012', '2018', '2014', '2019', 'availability', '2021', '2008', '2001', '2022', '2016', '2011'}\n"
     ]
    }
   ],
   "source": [
    "print(set(year))"
   ]
  },
  {
   "cell_type": "markdown",
   "id": "8cb74583",
   "metadata": {},
   "source": [
    "### Dealing with irregularities\n",
    "\n",
    "Here I see a problem from the above output. In the extracted months, there's the word `visa` that should not be there. For the extracted years, there's the word `availability`. \n",
    "\n",
    "This indicates that although most urls have the same structure, one or more links are not. It is important to know whether the links of a different structure belong to our target urls.\n",
    "\n",
    "The best practice is to quickly check the url of the different structure."
   ]
  },
  {
   "cell_type": "code",
   "execution_count": 16,
   "id": "c1277ec2",
   "metadata": {},
   "outputs": [
    {
     "name": "stdout",
     "output_type": "stream",
     "text": [
      "<class 'list'>\n",
      "['https://travel.state.gov/content/travel/en/legal/visa-law0/visa-bulletin/2007/update-on-july-visa-availability.html']\n",
      "https://travel.state.gov/content/travel/en/legal/visa-law0/visa-bulletin/2007/update-on-july-visa-availability.html\n"
     ]
    }
   ],
   "source": [
    "excl_link = [link for link in all_links if 'visa-availability' in link]\n",
    "# check the type of the object is important\n",
    "print(type(excl_link))\n",
    "# it's a list\n",
    "print(excl_link)\n",
    "# to access the actual url, index it\n",
    "print(excl_link[0])"
   ]
  },
  {
   "cell_type": "markdown",
   "id": "bd93844a",
   "metadata": {},
   "source": [
    "### Re-iterate after removing \"bad\" urls"
   ]
  },
  {
   "cell_type": "code",
   "execution_count": 17,
   "id": "78fadd0a",
   "metadata": {},
   "outputs": [],
   "source": [
    "# create a new url list to avoid changing the original scraped url list\n",
    "new_urls = list(all_links)\n",
    "new_urls = [link for link in all_links if ('visa-availability' not in link and '2007/july-2007-visa-bulletin.html' not in link)]"
   ]
  },
  {
   "cell_type": "code",
   "execution_count": 18,
   "id": "95ed46a6",
   "metadata": {},
   "outputs": [],
   "source": [
    "new_urls = list(set(new_urls))"
   ]
  },
  {
   "cell_type": "code",
   "execution_count": 19,
   "id": "36e0594b",
   "metadata": {},
   "outputs": [
    {
     "data": {
      "text/plain": [
       "259"
      ]
     },
     "execution_count": 19,
     "metadata": {},
     "output_type": "execute_result"
    }
   ],
   "source": [
    "len(new_urls)"
   ]
  },
  {
   "cell_type": "code",
   "execution_count": 20,
   "id": "3f8bf05c",
   "metadata": {},
   "outputs": [],
   "source": [
    "file = open('visa_bulletin_final.txt','w')\n",
    "for url in new_urls:\n",
    "    file.write(url + \"\\n\")\n",
    "file.close()    "
   ]
  },
  {
   "cell_type": "code",
   "execution_count": 21,
   "id": "31c0a8d7",
   "metadata": {},
   "outputs": [],
   "source": [
    "month = [None] * len(new_urls)\n",
    "year = [None] * len(new_urls)\n",
    "# loop over the list\n",
    "for i, link in enumerate(new_urls):\n",
    "    # for each individual url, first split by `/`, work on the last element, then split by `-`\n",
    "    month[i] = link.split('/')[-1].split('-')[-2].upper()\n",
    "    year[i] = link.split('/')[-1].split('-')[-1].split('.')[0]"
   ]
  },
  {
   "cell_type": "code",
   "execution_count": 22,
   "id": "7308f4ba",
   "metadata": {},
   "outputs": [
    {
     "name": "stdout",
     "output_type": "stream",
     "text": [
      "{'AUGUST', 'APRIL', 'FEBRUARY', 'JANUARY', 'MARCH', 'DECEMBER', 'SEPTEMBER', 'JUNE', 'JULY', 'MAY', 'NOVEMBER', 'OCTOBER'}\n",
      "{'2009', '2006', '2017', '2003', '2002', '2010', '2004', '2007', '2015', '2005', '2023', '2013', '2020', '2012', '2018', '2014', '2019', '2021', '2008', '2001', '2022', '2016', '2011'}\n"
     ]
    }
   ],
   "source": [
    "print(set(month))\n",
    "print(set(year))"
   ]
  },
  {
   "cell_type": "code",
   "execution_count": 23,
   "id": "abaaf495",
   "metadata": {},
   "outputs": [
    {
     "name": "stdout",
     "output_type": "stream",
     "text": [
      "259\n",
      "259\n"
     ]
    }
   ],
   "source": [
    "print(len(month))\n",
    "print(len(year))"
   ]
  },
  {
   "cell_type": "markdown",
   "id": "237d7425",
   "metadata": {},
   "source": [
    "### Finalizing `YYYY-MM` by URL dataframe"
   ]
  },
  {
   "cell_type": "code",
   "execution_count": 24,
   "id": "e07e44f5",
   "metadata": {},
   "outputs": [],
   "source": [
    "mmyy = [None] * len(month) # specify the length of an empty list\n",
    "for i in range(len(month)):\n",
    "    mmyy[i] = month[i] + '_' + year[i]   "
   ]
  },
  {
   "cell_type": "code",
   "execution_count": 25,
   "id": "cac5b522",
   "metadata": {},
   "outputs": [
    {
     "name": "stdout",
     "output_type": "stream",
     "text": [
      "['AUGUST_2013', 'JUNE_2013', 'SEPTEMBER_2004', 'NOVEMBER_2022', 'DECEMBER_2001', 'MARCH_2006', 'MARCH_2009', 'JUNE_2022', 'FEBRUARY_2003', 'JANUARY_2014', 'FEBRUARY_2004', 'AUGUST_2017', 'FEBRUARY_2016', 'NOVEMBER_2009', 'JULY_2003', 'APRIL_2014', 'JANUARY_2019', 'FEBRUARY_2020', 'MAY_2022', 'DECEMBER_2021', 'NOVEMBER_2012', 'JULY_2019', 'NOVEMBER_2010', 'APRIL_2023', 'JULY_2021', 'NOVEMBER_2014', 'APRIL_2010', 'AUGUST_2002', 'JUNE_2006', 'JULY_2013', 'APRIL_2009', 'MARCH_2014', 'APRIL_2020', 'OCTOBER_2010', 'MAY_2019', 'FEBRUARY_2015', 'OCTOBER_2002', 'SEPTEMBER_2022', 'APRIL_2005', 'NOVEMBER_2013', 'JULY_2017', 'JULY_2009', 'NOVEMBER_2006', 'AUGUST_2009', 'APRIL_2011', 'JANUARY_2009', 'DECEMBER_2008', 'OCTOBER_2004', 'NOVEMBER_2003', 'MARCH_2016']\n"
     ]
    }
   ],
   "source": [
    "print(mmyy[:50])"
   ]
  },
  {
   "cell_type": "code",
   "execution_count": 26,
   "id": "0eeb09bc",
   "metadata": {},
   "outputs": [],
   "source": [
    "from datetime import datetime\n",
    "mmyy_dt = [None] * len(mmyy)\n",
    "time_stamp = [None] * len(mmyy)\n",
    "for i in range(len(mmyy)):\n",
    "    mmyy_dt[i] = datetime.strptime(mmyy[i],\"%B_%Y\")\n",
    "    time_stamp[i] = mmyy_dt[i].strftime(\"%Y-%m-%d\")"
   ]
  },
  {
   "cell_type": "code",
   "execution_count": 27,
   "id": "9669eed2",
   "metadata": {},
   "outputs": [
    {
     "data": {
      "text/plain": [
       "datetime.datetime"
      ]
     },
     "execution_count": 27,
     "metadata": {},
     "output_type": "execute_result"
    }
   ],
   "source": [
    "type(mmyy_dt[0])"
   ]
  },
  {
   "cell_type": "code",
   "execution_count": 28,
   "id": "cda51f6a",
   "metadata": {},
   "outputs": [
    {
     "data": {
      "text/plain": [
       "datetime.datetime(2013, 8, 1, 0, 0)"
      ]
     },
     "execution_count": 28,
     "metadata": {},
     "output_type": "execute_result"
    }
   ],
   "source": [
    "# datetime.datetime object\n",
    "mmyy_dt[0]"
   ]
  },
  {
   "cell_type": "code",
   "execution_count": 29,
   "id": "8b8a8a77",
   "metadata": {},
   "outputs": [],
   "source": [
    "url_time_df = pd.DataFrame({'url':new_urls, 'mmyy':mmyy, 'stamp':time_stamp})"
   ]
  },
  {
   "cell_type": "code",
   "execution_count": 30,
   "id": "cfe7796e",
   "metadata": {},
   "outputs": [
    {
     "data": {
      "text/plain": [
       "str"
      ]
     },
     "execution_count": 30,
     "metadata": {},
     "output_type": "execute_result"
    }
   ],
   "source": [
    "# although with type string, the list can be sorted by time sequence\n",
    "type(time_stamp[0])"
   ]
  },
  {
   "cell_type": "code",
   "execution_count": 31,
   "id": "35ad1233",
   "metadata": {},
   "outputs": [],
   "source": [
    "# sort list starting from the most recent\n",
    "#time_stamp = sorted(time_stamp, reverse=True)"
   ]
  },
  {
   "cell_type": "code",
   "execution_count": 32,
   "id": "b8b5d697",
   "metadata": {},
   "outputs": [
    {
     "data": {
      "text/html": [
       "<div>\n",
       "<style scoped>\n",
       "    .dataframe tbody tr th:only-of-type {\n",
       "        vertical-align: middle;\n",
       "    }\n",
       "\n",
       "    .dataframe tbody tr th {\n",
       "        vertical-align: top;\n",
       "    }\n",
       "\n",
       "    .dataframe thead th {\n",
       "        text-align: right;\n",
       "    }\n",
       "</style>\n",
       "<table border=\"1\" class=\"dataframe\">\n",
       "  <thead>\n",
       "    <tr style=\"text-align: right;\">\n",
       "      <th></th>\n",
       "      <th>url</th>\n",
       "      <th>mmyy</th>\n",
       "      <th>stamp</th>\n",
       "    </tr>\n",
       "  </thead>\n",
       "  <tbody>\n",
       "    <tr>\n",
       "      <th>0</th>\n",
       "      <td>https://travel.state.gov/content/travel/en/leg...</td>\n",
       "      <td>DECEMBER_2001</td>\n",
       "      <td>2001-12-01</td>\n",
       "    </tr>\n",
       "    <tr>\n",
       "      <th>1</th>\n",
       "      <td>https://travel.state.gov/content/travel/en/leg...</td>\n",
       "      <td>JANUARY_2002</td>\n",
       "      <td>2002-01-01</td>\n",
       "    </tr>\n",
       "    <tr>\n",
       "      <th>2</th>\n",
       "      <td>https://travel.state.gov/content/travel/en/leg...</td>\n",
       "      <td>FEBRUARY_2002</td>\n",
       "      <td>2002-02-01</td>\n",
       "    </tr>\n",
       "    <tr>\n",
       "      <th>3</th>\n",
       "      <td>https://travel.state.gov/content/travel/en/leg...</td>\n",
       "      <td>MARCH_2002</td>\n",
       "      <td>2002-03-01</td>\n",
       "    </tr>\n",
       "    <tr>\n",
       "      <th>4</th>\n",
       "      <td>https://travel.state.gov/content/travel/en/leg...</td>\n",
       "      <td>APRIL_2002</td>\n",
       "      <td>2002-04-01</td>\n",
       "    </tr>\n",
       "  </tbody>\n",
       "</table>\n",
       "</div>"
      ],
      "text/plain": [
       "                                                 url           mmyy  \\\n",
       "0  https://travel.state.gov/content/travel/en/leg...  DECEMBER_2001   \n",
       "1  https://travel.state.gov/content/travel/en/leg...   JANUARY_2002   \n",
       "2  https://travel.state.gov/content/travel/en/leg...  FEBRUARY_2002   \n",
       "3  https://travel.state.gov/content/travel/en/leg...     MARCH_2002   \n",
       "4  https://travel.state.gov/content/travel/en/leg...     APRIL_2002   \n",
       "\n",
       "        stamp  \n",
       "0  2001-12-01  \n",
       "1  2002-01-01  \n",
       "2  2002-02-01  \n",
       "3  2002-03-01  \n",
       "4  2002-04-01  "
      ]
     },
     "execution_count": 32,
     "metadata": {},
     "output_type": "execute_result"
    }
   ],
   "source": [
    "url_time_df = url_time_df.sort_values(['stamp'], ascending=True)\n",
    "url_time_df = url_time_df.reset_index(drop = True)\n",
    "url_time_df.head()"
   ]
  },
  {
   "cell_type": "code",
   "execution_count": 33,
   "id": "c3662dc6",
   "metadata": {},
   "outputs": [],
   "source": [
    "url_time_df.shape\n",
    "url_time_df.to_csv(\"visa_statistics_url_time.csv\", index=False)"
   ]
  },
  {
   "cell_type": "code",
   "execution_count": 34,
   "id": "4110a33d",
   "metadata": {},
   "outputs": [
    {
     "name": "stdout",
     "output_type": "stream",
     "text": [
      "Counter({'2013': 12, '2004': 12, '2022': 12, '2006': 12, '2009': 12, '2003': 12, '2014': 12, '2017': 12, '2016': 12, '2019': 12, '2020': 12, '2021': 12, '2012': 12, '2010': 12, '2002': 12, '2015': 12, '2005': 12, '2011': 12, '2008': 12, '2007': 12, '2018': 12, '2023': 6, '2001': 1})\n"
     ]
    }
   ],
   "source": [
    "# count element frequency in list\n",
    "# except for the first and the last year, all other years should have 12 counts\n",
    "import collections\n",
    "print(collections.Counter(year))"
   ]
  },
  {
   "cell_type": "markdown",
   "id": "a06f6ff1",
   "metadata": {},
   "source": [
    "## Raw Table Elements"
   ]
  },
  {
   "cell_type": "code",
   "execution_count": 35,
   "id": "6f0e3f0c",
   "metadata": {},
   "outputs": [
    {
     "data": {
      "text/plain": [
       "0      https://travel.state.gov/content/travel/en/leg...\n",
       "1      https://travel.state.gov/content/travel/en/leg...\n",
       "2      https://travel.state.gov/content/travel/en/leg...\n",
       "3      https://travel.state.gov/content/travel/en/leg...\n",
       "4      https://travel.state.gov/content/travel/en/leg...\n",
       "                             ...                        \n",
       "254    https://travel.state.gov/content/travel/en/leg...\n",
       "255    https://travel.state.gov/content/travel/en/leg...\n",
       "256    https://travel.state.gov/content/travel/en/leg...\n",
       "257    https://travel.state.gov/content/travel/en/leg...\n",
       "258    https://travel.state.gov/content/travel/en/leg...\n",
       "Name: url, Length: 259, dtype: object"
      ]
     },
     "execution_count": 35,
     "metadata": {},
     "output_type": "execute_result"
    }
   ],
   "source": [
    "url_time_df['url']"
   ]
  },
  {
   "cell_type": "code",
   "execution_count": 36,
   "id": "8d297181",
   "metadata": {},
   "outputs": [
    {
     "data": {
      "text/plain": [
       "range(0, 259)"
      ]
     },
     "execution_count": 36,
     "metadata": {},
     "output_type": "execute_result"
    }
   ],
   "source": [
    "range(len(url_time_df))"
   ]
  },
  {
   "cell_type": "code",
   "execution_count": 37,
   "id": "61894f7c",
   "metadata": {},
   "outputs": [
    {
     "name": "stdout",
     "output_type": "stream",
     "text": [
      "CPU times: user 15 s, sys: 1.17 s, total: 16.2 s\n",
      "Wall time: 3min 14s\n"
     ]
    }
   ],
   "source": [
    "%%time\n",
    "str_all = [None] * len(new_urls)\n",
    "# locate and extract the table content from each url\n",
    "for i in range(len(url_time_df)):\n",
    "    html = requests.get(url_time_df['url'][i]).content\n",
    "    # create a new Selector with text equals to the html created from above, \n",
    "    # not from the beginning of the program\n",
    "    sel = Selector(text = html)\n",
    "    str_all[i] = sel.xpath('//table').extract() "
   ]
  },
  {
   "cell_type": "code",
   "execution_count": 38,
   "id": "59509fde",
   "metadata": {},
   "outputs": [
    {
     "data": {
      "text/plain": [
       "259"
      ]
     },
     "execution_count": 38,
     "metadata": {},
     "output_type": "execute_result"
    }
   ],
   "source": [
    "len(str_all)"
   ]
  },
  {
   "cell_type": "code",
   "execution_count": 39,
   "id": "10eba535",
   "metadata": {},
   "outputs": [
    {
     "data": {
      "text/plain": [
       "list"
      ]
     },
     "execution_count": 39,
     "metadata": {},
     "output_type": "execute_result"
    }
   ],
   "source": [
    "type(str_all)"
   ]
  },
  {
   "cell_type": "code",
   "execution_count": 40,
   "id": "cf45132e",
   "metadata": {},
   "outputs": [
    {
     "name": "stdout",
     "output_type": "stream",
     "text": [
      "259\n",
      "['<table class=\"grid\" border=\"1\" cellspacing=\"0\" cellpadding=\"3\" width=\"100%\">\\n<tbody><tr><th>\\xa0</th>\\n<th>All Chargeability Areas Except Those Listed</th>\\n<th>INDIA</th>\\n<th>MEXICO</th>\\n<th>PHILIPPINES</th>\\n</tr><tr><th><p><b>Employment-<br>\\n Based</b></p>\\n</th>\\n<td valign=\"top\">\\xa0</td>\\n<td valign=\"top\">\\xa0</td>\\n<td valign=\"top\">\\xa0</td>\\n<td valign=\"top\">\\xa0</td>\\n</tr><tr><th>1st</th>\\n<td valign=\"top\">C</td>\\n<td valign=\"top\">C</td>\\n<td valign=\"top\">C</td>\\n<td valign=\"top\">C</td>\\n</tr><tr><th>2nd</th>\\n<td valign=\"top\">C</td>\\n<td valign=\"top\">C</td>\\n<td valign=\"top\">C</td>\\n<td valign=\"top\">C</td>\\n</tr><tr><th>3rd</th>\\n<td valign=\"top\">C</td>\\n<td valign=\"top\">C</td>\\n<td valign=\"top\">C</td>\\n<td valign=\"top\">C</td>\\n</tr><tr><th>Other Workers</th>\\n<td valign=\"top\">C</td>\\n<td valign=\"top\">C</td>\\n<td valign=\"top\">C</td>\\n<td valign=\"top\">C</td>\\n</tr><tr><th>4th</th>\\n<td valign=\"top\">C</td>\\n<td valign=\"top\">C</td>\\n<td valign=\"top\">C</td>\\n<td valign=\"top\">C</td>\\n</tr><tr><th>Certain Religious Workers</th>\\n<td valign=\"top\">C</td>\\n<td valign=\"top\">C</td>\\n<td valign=\"top\">C</td>\\n<td valign=\"top\">C</td>\\n</tr><tr><th>5th</th>\\n<td valign=\"top\">C</td>\\n<td valign=\"top\">C</td>\\n<td valign=\"top\">C</td>\\n<td valign=\"top\">C</td>\\n</tr><tr><th>Targeted Employment Areas/Regional Centers</th>\\n<td valign=\"top\">C</td>\\n<td valign=\"top\">C</td>\\n<td valign=\"top\">C</td>\\n<td valign=\"top\">C</td>\\n</tr></tbody></table>']\n",
      "CPU times: user 2.42 ms, sys: 106 µs, total: 2.52 ms\n",
      "Wall time: 2.49 ms\n"
     ]
    }
   ],
   "source": [
    "%%time\n",
    "# to include tables that contain the word \"Employment\"\n",
    "tables = [None] * len(str_all)\n",
    "for i in range(len(str_all)):\n",
    "    tables[i] = [tab for tab in str_all[i] if \"Employment\" in tab]\n",
    "print(len(tables))\n",
    "print(tables[0])"
   ]
  },
  {
   "cell_type": "code",
   "execution_count": 41,
   "id": "3c6fcab4",
   "metadata": {},
   "outputs": [
    {
     "name": "stdout",
     "output_type": "stream",
     "text": [
      "[1, 1, 1, 1, 1, 1, 1, 1, 1, 1, 1, 1, 1, 1, 1, 1, 1, 1, 1, 1, 1, 1, 1, 1, 1, 1, 1, 1, 1, 1, 1, 1, 1, 1, 1, 1, 1, 1, 1, 1, 1, 1, 1, 1, 1, 1, 1, 1, 1, 1, 1, 1, 1, 1, 1, 1, 1, 1, 1, 1, 1, 1, 1, 1, 1, 1, 1, 1, 1, 1, 1, 1, 1, 1, 1, 1, 1, 1, 1, 1, 1, 1, 1, 1, 1, 1, 1, 1, 1, 1, 1, 1, 1, 1, 1, 1, 1, 1, 1, 1, 1, 1, 1, 1, 1, 1, 1, 1, 1, 1, 1, 1, 1, 1, 1, 1, 1, 1, 1, 1, 1, 1, 1, 1, 1, 1, 1, 1, 1, 1, 1, 1, 1, 1, 1, 1, 1, 1, 1, 1, 1, 1, 1, 1, 1, 1, 1, 1, 1, 1, 1, 1, 1, 1, 1, 1, 1, 1, 1, 1, 1, 1, 1, 1, 1, 1, 2, 2, 2, 2, 2, 2, 2, 2, 2, 2, 2, 2, 2, 2, 2, 2, 2, 2, 2, 2, 2, 2, 2, 2, 2, 2, 2, 2, 2, 2, 2, 2, 2, 2, 2, 2, 2, 2, 2, 2, 2, 2, 2, 2, 2, 2, 2, 2, 2, 2, 2, 2, 2, 2, 2, 2, 2, 2, 2, 2, 2, 2, 2, 2, 2, 2, 2, 2, 2, 2, 2, 2, 2, 2, 2, 2, 2, 2, 2, 2, 2, 2, 2, 2, 2, 2, 2, 2, 2, 2, 2, 2, 2]\n",
      "CPU times: user 413 µs, sys: 108 µs, total: 521 µs\n",
      "Wall time: 502 µs\n"
     ]
    }
   ],
   "source": [
    "%%time\n",
    "table_len = [None] * len(str_all)\n",
    "for i in range(len(str_all)):\n",
    "    table_len[i] = len(tables[i])\n",
    "print(table_len)    "
   ]
  },
  {
   "cell_type": "code",
   "execution_count": 42,
   "id": "f4cc11e3",
   "metadata": {},
   "outputs": [],
   "source": [
    "employment_tab_url = pd.DataFrame({\n",
    "    'length': table_len, 'table': tables\n",
    "})"
   ]
  },
  {
   "cell_type": "code",
   "execution_count": 43,
   "id": "e0070708",
   "metadata": {},
   "outputs": [
    {
     "name": "stdout",
     "output_type": "stream",
     "text": [
      "(259, 3)\n",
      "(259, 2)\n"
     ]
    }
   ],
   "source": [
    "print(url_time_df.shape)\n",
    "print(employment_tab_url.shape)"
   ]
  },
  {
   "cell_type": "markdown",
   "id": "f2c4500f",
   "metadata": {},
   "source": [
    "## Output Catalog Info\n",
    "\n",
    "- Timestamp of each table\n",
    "- Raw html elements of selected tables"
   ]
  },
  {
   "cell_type": "code",
   "execution_count": 44,
   "id": "d97f6fb3",
   "metadata": {},
   "outputs": [
    {
     "data": {
      "text/html": [
       "<div>\n",
       "<style scoped>\n",
       "    .dataframe tbody tr th:only-of-type {\n",
       "        vertical-align: middle;\n",
       "    }\n",
       "\n",
       "    .dataframe tbody tr th {\n",
       "        vertical-align: top;\n",
       "    }\n",
       "\n",
       "    .dataframe thead th {\n",
       "        text-align: right;\n",
       "    }\n",
       "</style>\n",
       "<table border=\"1\" class=\"dataframe\">\n",
       "  <thead>\n",
       "    <tr style=\"text-align: right;\">\n",
       "      <th></th>\n",
       "      <th>url</th>\n",
       "      <th>mmyy</th>\n",
       "      <th>stamp</th>\n",
       "      <th>length</th>\n",
       "      <th>table</th>\n",
       "    </tr>\n",
       "  </thead>\n",
       "  <tbody>\n",
       "    <tr>\n",
       "      <th>0</th>\n",
       "      <td>https://travel.state.gov/content/travel/en/leg...</td>\n",
       "      <td>DECEMBER_2001</td>\n",
       "      <td>2001-12-01</td>\n",
       "      <td>1</td>\n",
       "      <td>[&lt;table class=\"grid\" border=\"1\" cellspacing=\"0...</td>\n",
       "    </tr>\n",
       "    <tr>\n",
       "      <th>1</th>\n",
       "      <td>https://travel.state.gov/content/travel/en/leg...</td>\n",
       "      <td>JANUARY_2002</td>\n",
       "      <td>2002-01-01</td>\n",
       "      <td>1</td>\n",
       "      <td>[&lt;table class=\"grid\" border=\"1\" cellspacing=\"0...</td>\n",
       "    </tr>\n",
       "    <tr>\n",
       "      <th>2</th>\n",
       "      <td>https://travel.state.gov/content/travel/en/leg...</td>\n",
       "      <td>FEBRUARY_2002</td>\n",
       "      <td>2002-02-01</td>\n",
       "      <td>1</td>\n",
       "      <td>[&lt;table class=\"grid\" border=\"1\" cellspacing=\"0...</td>\n",
       "    </tr>\n",
       "  </tbody>\n",
       "</table>\n",
       "</div>"
      ],
      "text/plain": [
       "                                                 url           mmyy  \\\n",
       "0  https://travel.state.gov/content/travel/en/leg...  DECEMBER_2001   \n",
       "1  https://travel.state.gov/content/travel/en/leg...   JANUARY_2002   \n",
       "2  https://travel.state.gov/content/travel/en/leg...  FEBRUARY_2002   \n",
       "\n",
       "        stamp  length                                              table  \n",
       "0  2001-12-01       1  [<table class=\"grid\" border=\"1\" cellspacing=\"0...  \n",
       "1  2002-01-01       1  [<table class=\"grid\" border=\"1\" cellspacing=\"0...  \n",
       "2  2002-02-01       1  [<table class=\"grid\" border=\"1\" cellspacing=\"0...  "
      ]
     },
     "execution_count": 44,
     "metadata": {},
     "output_type": "execute_result"
    }
   ],
   "source": [
    "info_df = pd.concat([url_time_df, employment_tab_url], axis = 1)\n",
    "info_df.head(3)"
   ]
  },
  {
   "cell_type": "code",
   "execution_count": 45,
   "id": "fdc40266",
   "metadata": {},
   "outputs": [],
   "source": [
    "info_df.to_csv(\"employment_tab_url.csv\", index = False)"
   ]
  },
  {
   "cell_type": "code",
   "execution_count": 46,
   "id": "e4245007",
   "metadata": {},
   "outputs": [],
   "source": [
    "info_df_long = info_df.explode('table')[['url','stamp','table']]"
   ]
  },
  {
   "cell_type": "code",
   "execution_count": 47,
   "id": "0cb5b7bc",
   "metadata": {},
   "outputs": [],
   "source": [
    "info_df_long.to_csv(\"employment_tab_long.csv\", index = False)"
   ]
  },
  {
   "cell_type": "code",
   "execution_count": 48,
   "id": "50c38335",
   "metadata": {},
   "outputs": [],
   "source": [
    "# Must reset index, otherwise the end index would still be like before explode\n",
    "info_df_long = info_df_long.reset_index(drop = True)"
   ]
  },
  {
   "cell_type": "code",
   "execution_count": 49,
   "id": "4170126f",
   "metadata": {},
   "outputs": [
    {
     "data": {
      "text/html": [
       "<div>\n",
       "<style scoped>\n",
       "    .dataframe tbody tr th:only-of-type {\n",
       "        vertical-align: middle;\n",
       "    }\n",
       "\n",
       "    .dataframe tbody tr th {\n",
       "        vertical-align: top;\n",
       "    }\n",
       "\n",
       "    .dataframe thead th {\n",
       "        text-align: right;\n",
       "    }\n",
       "</style>\n",
       "<table border=\"1\" class=\"dataframe\">\n",
       "  <thead>\n",
       "    <tr style=\"text-align: right;\">\n",
       "      <th></th>\n",
       "      <th>url</th>\n",
       "      <th>stamp</th>\n",
       "      <th>table</th>\n",
       "    </tr>\n",
       "  </thead>\n",
       "  <tbody>\n",
       "    <tr>\n",
       "      <th>0</th>\n",
       "      <td>https://travel.state.gov/content/travel/en/leg...</td>\n",
       "      <td>2001-12-01</td>\n",
       "      <td>&lt;table class=\"grid\" border=\"1\" cellspacing=\"0\"...</td>\n",
       "    </tr>\n",
       "    <tr>\n",
       "      <th>1</th>\n",
       "      <td>https://travel.state.gov/content/travel/en/leg...</td>\n",
       "      <td>2002-01-01</td>\n",
       "      <td>&lt;table class=\"grid\" border=\"1\" cellspacing=\"0\"...</td>\n",
       "    </tr>\n",
       "    <tr>\n",
       "      <th>2</th>\n",
       "      <td>https://travel.state.gov/content/travel/en/leg...</td>\n",
       "      <td>2002-02-01</td>\n",
       "      <td>&lt;table class=\"grid\" border=\"1\" cellspacing=\"0\"...</td>\n",
       "    </tr>\n",
       "    <tr>\n",
       "      <th>3</th>\n",
       "      <td>https://travel.state.gov/content/travel/en/leg...</td>\n",
       "      <td>2002-03-01</td>\n",
       "      <td>&lt;table class=\"grid\" border=\"1\" cellspacing=\"0\"...</td>\n",
       "    </tr>\n",
       "    <tr>\n",
       "      <th>4</th>\n",
       "      <td>https://travel.state.gov/content/travel/en/leg...</td>\n",
       "      <td>2002-04-01</td>\n",
       "      <td>&lt;table class=\"grid\" width=\"100%\" cellspacing=\"...</td>\n",
       "    </tr>\n",
       "    <tr>\n",
       "      <th>...</th>\n",
       "      <td>...</td>\n",
       "      <td>...</td>\n",
       "      <td>...</td>\n",
       "    </tr>\n",
       "    <tr>\n",
       "      <th>347</th>\n",
       "      <td>https://travel.state.gov/content/travel/en/leg...</td>\n",
       "      <td>2023-04-01</td>\n",
       "      <td>&lt;table width=\"100%\" border=\"1\" cellspacing=\"0\"...</td>\n",
       "    </tr>\n",
       "    <tr>\n",
       "      <th>348</th>\n",
       "      <td>https://travel.state.gov/content/travel/en/leg...</td>\n",
       "      <td>2023-05-01</td>\n",
       "      <td>&lt;table width=\"100%\" border=\"1\" cellspacing=\"0\"...</td>\n",
       "    </tr>\n",
       "    <tr>\n",
       "      <th>349</th>\n",
       "      <td>https://travel.state.gov/content/travel/en/leg...</td>\n",
       "      <td>2023-05-01</td>\n",
       "      <td>&lt;table width=\"100%\" border=\"1\" cellspacing=\"0\"...</td>\n",
       "    </tr>\n",
       "    <tr>\n",
       "      <th>350</th>\n",
       "      <td>https://travel.state.gov/content/travel/en/leg...</td>\n",
       "      <td>2023-06-01</td>\n",
       "      <td>&lt;table width=\"100%\" border=\"1\" cellspacing=\"0\"...</td>\n",
       "    </tr>\n",
       "    <tr>\n",
       "      <th>351</th>\n",
       "      <td>https://travel.state.gov/content/travel/en/leg...</td>\n",
       "      <td>2023-06-01</td>\n",
       "      <td>&lt;table width=\"100%\" border=\"1\" cellspacing=\"0\"...</td>\n",
       "    </tr>\n",
       "  </tbody>\n",
       "</table>\n",
       "<p>352 rows × 3 columns</p>\n",
       "</div>"
      ],
      "text/plain": [
       "                                                   url       stamp  \\\n",
       "0    https://travel.state.gov/content/travel/en/leg...  2001-12-01   \n",
       "1    https://travel.state.gov/content/travel/en/leg...  2002-01-01   \n",
       "2    https://travel.state.gov/content/travel/en/leg...  2002-02-01   \n",
       "3    https://travel.state.gov/content/travel/en/leg...  2002-03-01   \n",
       "4    https://travel.state.gov/content/travel/en/leg...  2002-04-01   \n",
       "..                                                 ...         ...   \n",
       "347  https://travel.state.gov/content/travel/en/leg...  2023-04-01   \n",
       "348  https://travel.state.gov/content/travel/en/leg...  2023-05-01   \n",
       "349  https://travel.state.gov/content/travel/en/leg...  2023-05-01   \n",
       "350  https://travel.state.gov/content/travel/en/leg...  2023-06-01   \n",
       "351  https://travel.state.gov/content/travel/en/leg...  2023-06-01   \n",
       "\n",
       "                                                 table  \n",
       "0    <table class=\"grid\" border=\"1\" cellspacing=\"0\"...  \n",
       "1    <table class=\"grid\" border=\"1\" cellspacing=\"0\"...  \n",
       "2    <table class=\"grid\" border=\"1\" cellspacing=\"0\"...  \n",
       "3    <table class=\"grid\" border=\"1\" cellspacing=\"0\"...  \n",
       "4    <table class=\"grid\" width=\"100%\" cellspacing=\"...  \n",
       "..                                                 ...  \n",
       "347  <table width=\"100%\" border=\"1\" cellspacing=\"0\"...  \n",
       "348  <table width=\"100%\" border=\"1\" cellspacing=\"0\"...  \n",
       "349  <table width=\"100%\" border=\"1\" cellspacing=\"0\"...  \n",
       "350  <table width=\"100%\" border=\"1\" cellspacing=\"0\"...  \n",
       "351  <table width=\"100%\" border=\"1\" cellspacing=\"0\"...  \n",
       "\n",
       "[352 rows x 3 columns]"
      ]
     },
     "execution_count": 49,
     "metadata": {},
     "output_type": "execute_result"
    }
   ],
   "source": [
    "info_df_long"
   ]
  },
  {
   "cell_type": "markdown",
   "id": "b2ecc476",
   "metadata": {},
   "source": [
    "# Dataframes from Raw HTML Elements"
   ]
  },
  {
   "cell_type": "markdown",
   "id": "71b863db",
   "metadata": {},
   "source": [
    "## Demonstration for Individual Dataframe"
   ]
  },
  {
   "cell_type": "markdown",
   "id": "2b52a6ab",
   "metadata": {},
   "source": [
    "### The oldest table (from Web)\n",
    "\n",
    "<table class=\"grid\" border=\"1\" cellspacing=\"0\" cellpadding=\"3\" width=\"100%\">\n",
    "<tbody><tr><th>&nbsp;</th>\n",
    "<th>All Chargeability Areas Except Those Listed</th>\n",
    "<th>INDIA</th>\n",
    "<th>MEXICO</th>\n",
    "<th>PHILIPPINES</th>\n",
    "</tr><tr><th><p><b>Employment-<br>\n",
    " Based</b></p>\n",
    "</th>\n",
    "<td valign=\"top\">&nbsp;</td>\n",
    "<td valign=\"top\">&nbsp;</td>\n",
    "<td valign=\"top\">&nbsp;</td>\n",
    "<td valign=\"top\">&nbsp;</td>\n",
    "</tr><tr><th>1st</th>\n",
    "<td valign=\"top\">C</td>\n",
    "<td valign=\"top\">C</td>\n",
    "<td valign=\"top\">C</td>\n",
    "<td valign=\"top\">C</td>\n",
    "</tr><tr><th>2nd</th>\n",
    "<td valign=\"top\">C</td>\n",
    "<td valign=\"top\">C</td>\n",
    "<td valign=\"top\">C</td>\n",
    "<td valign=\"top\">C</td>\n",
    "</tr><tr><th>3rd</th>\n",
    "<td valign=\"top\">C</td>\n",
    "<td valign=\"top\">C</td>\n",
    "<td valign=\"top\">C</td>\n",
    "<td valign=\"top\">C</td>\n",
    "</tr><tr><th>Other Workers</th>\n",
    "<td valign=\"top\">C</td>\n",
    "<td valign=\"top\">C</td>\n",
    "<td valign=\"top\">C</td>\n",
    "<td valign=\"top\">C</td>\n",
    "</tr><tr><th>4th</th>\n",
    "<td valign=\"top\">C</td>\n",
    "<td valign=\"top\">C</td>\n",
    "<td valign=\"top\">C</td>\n",
    "<td valign=\"top\">C</td>\n",
    "</tr><tr><th>Certain Religious Workers</th>\n",
    "<td valign=\"top\">C</td>\n",
    "<td valign=\"top\">C</td>\n",
    "<td valign=\"top\">C</td>\n",
    "<td valign=\"top\">C</td>\n",
    "</tr><tr><th>5th</th>\n",
    "<td valign=\"top\">C</td>\n",
    "<td valign=\"top\">C</td>\n",
    "<td valign=\"top\">C</td>\n",
    "<td valign=\"top\">C</td>\n",
    "</tr><tr><th>Targeted Employment Areas/Regional Centers</th>\n",
    "<td valign=\"top\">C</td>\n",
    "<td valign=\"top\">C</td>\n",
    "<td valign=\"top\">C</td>\n",
    "<td valign=\"top\">C</td>\n",
    "</tr></tbody></table>"
   ]
  },
  {
   "cell_type": "markdown",
   "id": "46e9887c",
   "metadata": {},
   "source": [
    "### The oldest table (scraped)"
   ]
  },
  {
   "cell_type": "code",
   "execution_count": 50,
   "id": "a0d475be",
   "metadata": {},
   "outputs": [
    {
     "data": {
      "text/html": [
       "<div>\n",
       "<style scoped>\n",
       "    .dataframe tbody tr th:only-of-type {\n",
       "        vertical-align: middle;\n",
       "    }\n",
       "\n",
       "    .dataframe tbody tr th {\n",
       "        vertical-align: top;\n",
       "    }\n",
       "\n",
       "    .dataframe thead th {\n",
       "        text-align: right;\n",
       "    }\n",
       "</style>\n",
       "<table border=\"1\" class=\"dataframe\">\n",
       "  <thead>\n",
       "    <tr style=\"text-align: right;\">\n",
       "      <th></th>\n",
       "      <th>Unnamed: 0</th>\n",
       "      <th>All Chargeability Areas Except Those Listed</th>\n",
       "      <th>INDIA</th>\n",
       "      <th>MEXICO</th>\n",
       "      <th>PHILIPPINES</th>\n",
       "    </tr>\n",
       "  </thead>\n",
       "  <tbody>\n",
       "    <tr>\n",
       "      <th>0</th>\n",
       "      <td>Employment-  Based</td>\n",
       "      <td>NaN</td>\n",
       "      <td>NaN</td>\n",
       "      <td>NaN</td>\n",
       "      <td>NaN</td>\n",
       "    </tr>\n",
       "    <tr>\n",
       "      <th>1</th>\n",
       "      <td>1st</td>\n",
       "      <td>C</td>\n",
       "      <td>C</td>\n",
       "      <td>C</td>\n",
       "      <td>C</td>\n",
       "    </tr>\n",
       "    <tr>\n",
       "      <th>2</th>\n",
       "      <td>2nd</td>\n",
       "      <td>C</td>\n",
       "      <td>C</td>\n",
       "      <td>C</td>\n",
       "      <td>C</td>\n",
       "    </tr>\n",
       "    <tr>\n",
       "      <th>3</th>\n",
       "      <td>3rd</td>\n",
       "      <td>C</td>\n",
       "      <td>C</td>\n",
       "      <td>C</td>\n",
       "      <td>C</td>\n",
       "    </tr>\n",
       "    <tr>\n",
       "      <th>4</th>\n",
       "      <td>Other Workers</td>\n",
       "      <td>C</td>\n",
       "      <td>C</td>\n",
       "      <td>C</td>\n",
       "      <td>C</td>\n",
       "    </tr>\n",
       "    <tr>\n",
       "      <th>5</th>\n",
       "      <td>4th</td>\n",
       "      <td>C</td>\n",
       "      <td>C</td>\n",
       "      <td>C</td>\n",
       "      <td>C</td>\n",
       "    </tr>\n",
       "    <tr>\n",
       "      <th>6</th>\n",
       "      <td>Certain Religious Workers</td>\n",
       "      <td>C</td>\n",
       "      <td>C</td>\n",
       "      <td>C</td>\n",
       "      <td>C</td>\n",
       "    </tr>\n",
       "    <tr>\n",
       "      <th>7</th>\n",
       "      <td>5th</td>\n",
       "      <td>C</td>\n",
       "      <td>C</td>\n",
       "      <td>C</td>\n",
       "      <td>C</td>\n",
       "    </tr>\n",
       "    <tr>\n",
       "      <th>8</th>\n",
       "      <td>Targeted Employment Areas/Regional Centers</td>\n",
       "      <td>C</td>\n",
       "      <td>C</td>\n",
       "      <td>C</td>\n",
       "      <td>C</td>\n",
       "    </tr>\n",
       "  </tbody>\n",
       "</table>\n",
       "</div>"
      ],
      "text/plain": [
       "                                   Unnamed: 0  \\\n",
       "0                          Employment-  Based   \n",
       "1                                         1st   \n",
       "2                                         2nd   \n",
       "3                                         3rd   \n",
       "4                               Other Workers   \n",
       "5                                         4th   \n",
       "6                   Certain Religious Workers   \n",
       "7                                         5th   \n",
       "8  Targeted Employment Areas/Regional Centers   \n",
       "\n",
       "  All Chargeability Areas Except Those Listed INDIA MEXICO PHILIPPINES  \n",
       "0                                         NaN   NaN    NaN         NaN  \n",
       "1                                           C     C      C           C  \n",
       "2                                           C     C      C           C  \n",
       "3                                           C     C      C           C  \n",
       "4                                           C     C      C           C  \n",
       "5                                           C     C      C           C  \n",
       "6                                           C     C      C           C  \n",
       "7                                           C     C      C           C  \n",
       "8                                           C     C      C           C  "
      ]
     },
     "execution_count": 50,
     "metadata": {},
     "output_type": "execute_result"
    }
   ],
   "source": [
    "# Initial output data frame\n",
    "# Overall, this looks Okay. \n",
    "# But we need to remove the first row and move the \"Employment-Based\" to column name\n",
    "pd.read_html(info_df_long['table'][0], header=0)[0]\n",
    "# The [0] in the end would get the dataframe, w/o it, the type is list"
   ]
  },
  {
   "cell_type": "code",
   "execution_count": 51,
   "id": "941d475b",
   "metadata": {},
   "outputs": [],
   "source": [
    "# The [0] in the end would get the dataframe, w/o it, the type is list\n",
    "# Drop NaN to keep the main information\n",
    "sample_df = pd.read_html(info_df_long['table'][0], header=0)[0].dropna(how='any')"
   ]
  },
  {
   "cell_type": "code",
   "execution_count": 52,
   "id": "34ea1f98",
   "metadata": {},
   "outputs": [],
   "source": [
    "sample_df = sample_df.rename(columns = {'Unnamed: 0':'Employment-based'})"
   ]
  },
  {
   "cell_type": "code",
   "execution_count": 53,
   "id": "4da633fc",
   "metadata": {},
   "outputs": [],
   "source": [
    "sample_df['time'] = info_df_long['stamp'][0]"
   ]
  },
  {
   "cell_type": "code",
   "execution_count": 54,
   "id": "360f3665",
   "metadata": {},
   "outputs": [
    {
     "data": {
      "text/html": [
       "<div>\n",
       "<style scoped>\n",
       "    .dataframe tbody tr th:only-of-type {\n",
       "        vertical-align: middle;\n",
       "    }\n",
       "\n",
       "    .dataframe tbody tr th {\n",
       "        vertical-align: top;\n",
       "    }\n",
       "\n",
       "    .dataframe thead th {\n",
       "        text-align: right;\n",
       "    }\n",
       "</style>\n",
       "<table border=\"1\" class=\"dataframe\">\n",
       "  <thead>\n",
       "    <tr style=\"text-align: right;\">\n",
       "      <th></th>\n",
       "      <th>Employment-based</th>\n",
       "      <th>All Chargeability Areas Except Those Listed</th>\n",
       "      <th>INDIA</th>\n",
       "      <th>MEXICO</th>\n",
       "      <th>PHILIPPINES</th>\n",
       "      <th>time</th>\n",
       "    </tr>\n",
       "  </thead>\n",
       "  <tbody>\n",
       "    <tr>\n",
       "      <th>1</th>\n",
       "      <td>1st</td>\n",
       "      <td>C</td>\n",
       "      <td>C</td>\n",
       "      <td>C</td>\n",
       "      <td>C</td>\n",
       "      <td>2001-12-01</td>\n",
       "    </tr>\n",
       "    <tr>\n",
       "      <th>2</th>\n",
       "      <td>2nd</td>\n",
       "      <td>C</td>\n",
       "      <td>C</td>\n",
       "      <td>C</td>\n",
       "      <td>C</td>\n",
       "      <td>2001-12-01</td>\n",
       "    </tr>\n",
       "    <tr>\n",
       "      <th>3</th>\n",
       "      <td>3rd</td>\n",
       "      <td>C</td>\n",
       "      <td>C</td>\n",
       "      <td>C</td>\n",
       "      <td>C</td>\n",
       "      <td>2001-12-01</td>\n",
       "    </tr>\n",
       "    <tr>\n",
       "      <th>4</th>\n",
       "      <td>Other Workers</td>\n",
       "      <td>C</td>\n",
       "      <td>C</td>\n",
       "      <td>C</td>\n",
       "      <td>C</td>\n",
       "      <td>2001-12-01</td>\n",
       "    </tr>\n",
       "    <tr>\n",
       "      <th>5</th>\n",
       "      <td>4th</td>\n",
       "      <td>C</td>\n",
       "      <td>C</td>\n",
       "      <td>C</td>\n",
       "      <td>C</td>\n",
       "      <td>2001-12-01</td>\n",
       "    </tr>\n",
       "    <tr>\n",
       "      <th>6</th>\n",
       "      <td>Certain Religious Workers</td>\n",
       "      <td>C</td>\n",
       "      <td>C</td>\n",
       "      <td>C</td>\n",
       "      <td>C</td>\n",
       "      <td>2001-12-01</td>\n",
       "    </tr>\n",
       "    <tr>\n",
       "      <th>7</th>\n",
       "      <td>5th</td>\n",
       "      <td>C</td>\n",
       "      <td>C</td>\n",
       "      <td>C</td>\n",
       "      <td>C</td>\n",
       "      <td>2001-12-01</td>\n",
       "    </tr>\n",
       "    <tr>\n",
       "      <th>8</th>\n",
       "      <td>Targeted Employment Areas/Regional Centers</td>\n",
       "      <td>C</td>\n",
       "      <td>C</td>\n",
       "      <td>C</td>\n",
       "      <td>C</td>\n",
       "      <td>2001-12-01</td>\n",
       "    </tr>\n",
       "  </tbody>\n",
       "</table>\n",
       "</div>"
      ],
      "text/plain": [
       "                             Employment-based  \\\n",
       "1                                         1st   \n",
       "2                                         2nd   \n",
       "3                                         3rd   \n",
       "4                               Other Workers   \n",
       "5                                         4th   \n",
       "6                   Certain Religious Workers   \n",
       "7                                         5th   \n",
       "8  Targeted Employment Areas/Regional Centers   \n",
       "\n",
       "  All Chargeability Areas Except Those Listed INDIA MEXICO PHILIPPINES  \\\n",
       "1                                           C     C      C           C   \n",
       "2                                           C     C      C           C   \n",
       "3                                           C     C      C           C   \n",
       "4                                           C     C      C           C   \n",
       "5                                           C     C      C           C   \n",
       "6                                           C     C      C           C   \n",
       "7                                           C     C      C           C   \n",
       "8                                           C     C      C           C   \n",
       "\n",
       "         time  \n",
       "1  2001-12-01  \n",
       "2  2001-12-01  \n",
       "3  2001-12-01  \n",
       "4  2001-12-01  \n",
       "5  2001-12-01  \n",
       "6  2001-12-01  \n",
       "7  2001-12-01  \n",
       "8  2001-12-01  "
      ]
     },
     "execution_count": 54,
     "metadata": {},
     "output_type": "execute_result"
    }
   ],
   "source": [
    "sample_df"
   ]
  },
  {
   "cell_type": "markdown",
   "id": "cfa03f19",
   "metadata": {},
   "source": [
    "### The most recent table (from Web)\n",
    "\n",
    "<table width=\"100%\" border=\"1\" cellspacing=\"0\" cellpadding=\"3\">\n",
    "<tbody><tr><td><b>Employment-<br>\n",
    " based</b></td>\n",
    "<td><b>All Chargeability<br>\n",
    " Areas&nbsp;Except<br>\n",
    " Those Listed</b></td>\n",
    "<td><b>CHINA-<br>\n",
    " mainland&nbsp;<br>\n",
    " born</b></td>\n",
    "<td><b>INDIA</b></td>\n",
    "<td><b>MEXICO&nbsp;</b></td>\n",
    "<td><b>PHILIPPINES&nbsp;</b></td>\n",
    "</tr><tr><td>1st</td>\n",
    "<td>C</td>\n",
    "<td>01JUN22</td>\n",
    "<td>01JUN22</td>\n",
    "<td>C</td>\n",
    "<td>C</td>\n",
    "</tr><tr><td>2nd</td>\n",
    "<td>01DEC22</td>\n",
    "<td>08JUL19</td>\n",
    "<td>01MAY12&nbsp;</td>\n",
    "<td>01DEC22</td>\n",
    "<td>01DEC22</td>\n",
    "</tr><tr><td>3rd</td>\n",
    "<td>01MAY23</td>\n",
    "<td>01JUN19</td>\n",
    "<td>01AUG12</td>\n",
    "<td>01MAY23</td>\n",
    "<td>01MAY23</td>\n",
    "</tr><tr><td>Other Workers</td>\n",
    "<td>01FEB20</td>\n",
    "<td>01JAN16</td>\n",
    "<td>01AUG12</td>\n",
    "<td>01FEB20</td>\n",
    "<td>01FEB20</td>\n",
    "</tr><tr><td>4th</td>\n",
    "<td>01OCT18</td>\n",
    "<td>01OCT18</td>\n",
    "<td>01OCT18</td>\n",
    "<td>01OCT18</td>\n",
    "<td>01OCT18</td>\n",
    "</tr><tr><td>Certain Religious Workers</td>\n",
    "<td>01OCT18</td>\n",
    "<td>01OCT18</td>\n",
    "<td>01OCT18</td>\n",
    "<td>01OCT18</td>\n",
    "<td>01OCT18</td>\n",
    "</tr><tr><td>5th Unreserved<br>\n",
    "(including C5, T5, I5, R5)</td>\n",
    "<td>C</td>\n",
    "<td>01JAN16</td>\n",
    "<td>08DEC19</td>\n",
    "<td>C</td>\n",
    "<td>C</td>\n",
    "</tr><tr><td>5th Set Aside:<br>\n",
    "(Rural - 20%)</td>\n",
    "<td>C</td>\n",
    "<td>C</td>\n",
    "<td>C</td>\n",
    "<td>C</td>\n",
    "<td>C</td>\n",
    "</tr><tr><td>5th Set Aside:<br>\n",
    "(High Unemployment - 10%)</td>\n",
    "<td>C</td>\n",
    "<td>C</td>\n",
    "<td>C</td>\n",
    "<td>C</td>\n",
    "<td>C</td>\n",
    "</tr><tr><td>5th Set Aside:<br>\n",
    "(Infrastructure - 2%)</td>\n",
    "<td>C</td>\n",
    "<td>C</td>\n",
    "<td>C</td>\n",
    "<td>C</td>\n",
    "<td>C</td>\n",
    "</tr></tbody></table>"
   ]
  },
  {
   "cell_type": "code",
   "execution_count": 55,
   "id": "468c03a2",
   "metadata": {},
   "outputs": [
    {
     "data": {
      "text/plain": [
       "352"
      ]
     },
     "execution_count": 55,
     "metadata": {},
     "output_type": "execute_result"
    }
   ],
   "source": [
    "range(len(info_df_long)).stop"
   ]
  },
  {
   "cell_type": "markdown",
   "id": "38fc2c59",
   "metadata": {},
   "source": [
    "### The most recent table (scraped)"
   ]
  },
  {
   "cell_type": "code",
   "execution_count": 56,
   "id": "ff9dcd94",
   "metadata": {},
   "outputs": [
    {
     "data": {
      "text/html": [
       "<div>\n",
       "<style scoped>\n",
       "    .dataframe tbody tr th:only-of-type {\n",
       "        vertical-align: middle;\n",
       "    }\n",
       "\n",
       "    .dataframe tbody tr th {\n",
       "        vertical-align: top;\n",
       "    }\n",
       "\n",
       "    .dataframe thead th {\n",
       "        text-align: right;\n",
       "    }\n",
       "</style>\n",
       "<table border=\"1\" class=\"dataframe\">\n",
       "  <thead>\n",
       "    <tr style=\"text-align: right;\">\n",
       "      <th></th>\n",
       "      <th>Employment-  based</th>\n",
       "      <th>All Chargeability  Areas Except  Those Listed</th>\n",
       "      <th>CHINA-  mainland born</th>\n",
       "      <th>INDIA</th>\n",
       "      <th>MEXICO</th>\n",
       "      <th>PHILIPPINES</th>\n",
       "      <th>time</th>\n",
       "    </tr>\n",
       "  </thead>\n",
       "  <tbody>\n",
       "    <tr>\n",
       "      <th>0</th>\n",
       "      <td>1st</td>\n",
       "      <td>C</td>\n",
       "      <td>01JUN22</td>\n",
       "      <td>01JUN22</td>\n",
       "      <td>C</td>\n",
       "      <td>C</td>\n",
       "      <td>2023-06-01</td>\n",
       "    </tr>\n",
       "    <tr>\n",
       "      <th>1</th>\n",
       "      <td>2nd</td>\n",
       "      <td>01DEC22</td>\n",
       "      <td>08JUL19</td>\n",
       "      <td>01MAY12</td>\n",
       "      <td>01DEC22</td>\n",
       "      <td>01DEC22</td>\n",
       "      <td>2023-06-01</td>\n",
       "    </tr>\n",
       "    <tr>\n",
       "      <th>2</th>\n",
       "      <td>3rd</td>\n",
       "      <td>01MAY23</td>\n",
       "      <td>01JUN19</td>\n",
       "      <td>01AUG12</td>\n",
       "      <td>01MAY23</td>\n",
       "      <td>01MAY23</td>\n",
       "      <td>2023-06-01</td>\n",
       "    </tr>\n",
       "    <tr>\n",
       "      <th>3</th>\n",
       "      <td>Other Workers</td>\n",
       "      <td>01FEB20</td>\n",
       "      <td>01JAN16</td>\n",
       "      <td>01AUG12</td>\n",
       "      <td>01FEB20</td>\n",
       "      <td>01FEB20</td>\n",
       "      <td>2023-06-01</td>\n",
       "    </tr>\n",
       "    <tr>\n",
       "      <th>4</th>\n",
       "      <td>4th</td>\n",
       "      <td>01OCT18</td>\n",
       "      <td>01OCT18</td>\n",
       "      <td>01OCT18</td>\n",
       "      <td>01OCT18</td>\n",
       "      <td>01OCT18</td>\n",
       "      <td>2023-06-01</td>\n",
       "    </tr>\n",
       "    <tr>\n",
       "      <th>5</th>\n",
       "      <td>Certain Religious Workers</td>\n",
       "      <td>01OCT18</td>\n",
       "      <td>01OCT18</td>\n",
       "      <td>01OCT18</td>\n",
       "      <td>01OCT18</td>\n",
       "      <td>01OCT18</td>\n",
       "      <td>2023-06-01</td>\n",
       "    </tr>\n",
       "    <tr>\n",
       "      <th>6</th>\n",
       "      <td>5th Unreserved (including C5, T5, I5, R5)</td>\n",
       "      <td>C</td>\n",
       "      <td>01JAN16</td>\n",
       "      <td>08DEC19</td>\n",
       "      <td>C</td>\n",
       "      <td>C</td>\n",
       "      <td>2023-06-01</td>\n",
       "    </tr>\n",
       "    <tr>\n",
       "      <th>7</th>\n",
       "      <td>5th Set Aside: (Rural - 20%)</td>\n",
       "      <td>C</td>\n",
       "      <td>C</td>\n",
       "      <td>C</td>\n",
       "      <td>C</td>\n",
       "      <td>C</td>\n",
       "      <td>2023-06-01</td>\n",
       "    </tr>\n",
       "    <tr>\n",
       "      <th>8</th>\n",
       "      <td>5th Set Aside: (High Unemployment - 10%)</td>\n",
       "      <td>C</td>\n",
       "      <td>C</td>\n",
       "      <td>C</td>\n",
       "      <td>C</td>\n",
       "      <td>C</td>\n",
       "      <td>2023-06-01</td>\n",
       "    </tr>\n",
       "    <tr>\n",
       "      <th>9</th>\n",
       "      <td>5th Set Aside: (Infrastructure - 2%)</td>\n",
       "      <td>C</td>\n",
       "      <td>C</td>\n",
       "      <td>C</td>\n",
       "      <td>C</td>\n",
       "      <td>C</td>\n",
       "      <td>2023-06-01</td>\n",
       "    </tr>\n",
       "  </tbody>\n",
       "</table>\n",
       "</div>"
      ],
      "text/plain": [
       "                          Employment-  based  \\\n",
       "0                                        1st   \n",
       "1                                        2nd   \n",
       "2                                        3rd   \n",
       "3                              Other Workers   \n",
       "4                                        4th   \n",
       "5                  Certain Religious Workers   \n",
       "6  5th Unreserved (including C5, T5, I5, R5)   \n",
       "7               5th Set Aside: (Rural - 20%)   \n",
       "8   5th Set Aside: (High Unemployment - 10%)   \n",
       "9       5th Set Aside: (Infrastructure - 2%)   \n",
       "\n",
       "  All Chargeability  Areas Except  Those Listed CHINA-  mainland born  \\\n",
       "0                                             C               01JUN22   \n",
       "1                                       01DEC22               08JUL19   \n",
       "2                                       01MAY23               01JUN19   \n",
       "3                                       01FEB20               01JAN16   \n",
       "4                                       01OCT18               01OCT18   \n",
       "5                                       01OCT18               01OCT18   \n",
       "6                                             C               01JAN16   \n",
       "7                                             C                     C   \n",
       "8                                             C                     C   \n",
       "9                                             C                     C   \n",
       "\n",
       "     INDIA   MEXICO PHILIPPINES        time  \n",
       "0  01JUN22        C           C  2023-06-01  \n",
       "1  01MAY12  01DEC22     01DEC22  2023-06-01  \n",
       "2  01AUG12  01MAY23     01MAY23  2023-06-01  \n",
       "3  01AUG12  01FEB20     01FEB20  2023-06-01  \n",
       "4  01OCT18  01OCT18     01OCT18  2023-06-01  \n",
       "5  01OCT18  01OCT18     01OCT18  2023-06-01  \n",
       "6  08DEC19        C           C  2023-06-01  \n",
       "7        C        C           C  2023-06-01  \n",
       "8        C        C           C  2023-06-01  \n",
       "9        C        C           C  2023-06-01  "
      ]
     },
     "execution_count": 56,
     "metadata": {},
     "output_type": "execute_result"
    }
   ],
   "source": [
    "# `range(len(info_df_long)).stop - 1` to index the last table\n",
    "sample_df2 = pd.read_html(info_df_long['table'][range(len(info_df_long)).stop - 1], header=0)[0]\n",
    "sample_df2['time'] = info_df_long['stamp'][range(len(info_df_long)).stop - 1]\n",
    "sample_df2"
   ]
  },
  {
   "cell_type": "code",
   "execution_count": 57,
   "id": "59c40976",
   "metadata": {},
   "outputs": [
    {
     "data": {
      "text/plain": [
       "'Employment-  based'"
      ]
     },
     "execution_count": 57,
     "metadata": {},
     "output_type": "execute_result"
    }
   ],
   "source": [
    "# The extracted column name. This is Okay. But it can be changed.\n",
    "sample_df2.columns[0]"
   ]
  },
  {
   "cell_type": "code",
   "execution_count": 58,
   "id": "444da0a8",
   "metadata": {},
   "outputs": [
    {
     "data": {
      "text/html": [
       "<div>\n",
       "<style scoped>\n",
       "    .dataframe tbody tr th:only-of-type {\n",
       "        vertical-align: middle;\n",
       "    }\n",
       "\n",
       "    .dataframe tbody tr th {\n",
       "        vertical-align: top;\n",
       "    }\n",
       "\n",
       "    .dataframe thead th {\n",
       "        text-align: right;\n",
       "    }\n",
       "</style>\n",
       "<table border=\"1\" class=\"dataframe\">\n",
       "  <thead>\n",
       "    <tr style=\"text-align: right;\">\n",
       "      <th></th>\n",
       "      <th>Employment-  Based</th>\n",
       "      <th>All Chargeability Areas Except Those Listed</th>\n",
       "      <th>CHINA - mainland born</th>\n",
       "      <th>INDIA</th>\n",
       "      <th>MEXICO</th>\n",
       "      <th>PHILIPPINES</th>\n",
       "    </tr>\n",
       "  </thead>\n",
       "  <tbody>\n",
       "    <tr>\n",
       "      <th>0</th>\n",
       "      <td>1st</td>\n",
       "      <td>C</td>\n",
       "      <td>C</td>\n",
       "      <td>C</td>\n",
       "      <td>C</td>\n",
       "      <td>C</td>\n",
       "    </tr>\n",
       "    <tr>\n",
       "      <th>1</th>\n",
       "      <td>2nd</td>\n",
       "      <td>C</td>\n",
       "      <td>01JAN12</td>\n",
       "      <td>01MAY05</td>\n",
       "      <td>C</td>\n",
       "      <td>C</td>\n",
       "    </tr>\n",
       "    <tr>\n",
       "      <th>2</th>\n",
       "      <td>3rd</td>\n",
       "      <td>15AUG15</td>\n",
       "      <td>15OCT11</td>\n",
       "      <td>08MAR04</td>\n",
       "      <td>15AUG15</td>\n",
       "      <td>01JAN07</td>\n",
       "    </tr>\n",
       "    <tr>\n",
       "      <th>3</th>\n",
       "      <td>Other Workers</td>\n",
       "      <td>15AUG15</td>\n",
       "      <td>01JAN06</td>\n",
       "      <td>08MAR04</td>\n",
       "      <td>15AUG15</td>\n",
       "      <td>01JAN07</td>\n",
       "    </tr>\n",
       "    <tr>\n",
       "      <th>4</th>\n",
       "      <td>4th</td>\n",
       "      <td>C</td>\n",
       "      <td>C</td>\n",
       "      <td>C</td>\n",
       "      <td>C</td>\n",
       "      <td>C</td>\n",
       "    </tr>\n",
       "    <tr>\n",
       "      <th>5</th>\n",
       "      <td>Certain Religious Workers</td>\n",
       "      <td>U</td>\n",
       "      <td>U</td>\n",
       "      <td>U</td>\n",
       "      <td>U</td>\n",
       "      <td>U</td>\n",
       "    </tr>\n",
       "    <tr>\n",
       "      <th>6</th>\n",
       "      <td>5th Non-Regional Center (C5 and T5)</td>\n",
       "      <td>C</td>\n",
       "      <td>08OCT13</td>\n",
       "      <td>C</td>\n",
       "      <td>C</td>\n",
       "      <td>C</td>\n",
       "    </tr>\n",
       "    <tr>\n",
       "      <th>7</th>\n",
       "      <td>5th Regional Center (I5 and R5)</td>\n",
       "      <td>U</td>\n",
       "      <td>U</td>\n",
       "      <td>U</td>\n",
       "      <td>U</td>\n",
       "      <td>U</td>\n",
       "    </tr>\n",
       "  </tbody>\n",
       "</table>\n",
       "</div>"
      ],
      "text/plain": [
       "                    Employment-  Based  \\\n",
       "0                                  1st   \n",
       "1                                  2nd   \n",
       "2                                  3rd   \n",
       "3                        Other Workers   \n",
       "4                                  4th   \n",
       "5            Certain Religious Workers   \n",
       "6  5th Non-Regional Center (C5 and T5)   \n",
       "7      5th Regional Center (I5 and R5)   \n",
       "\n",
       "  All Chargeability Areas Except Those Listed CHINA - mainland born    INDIA  \\\n",
       "0                                           C                     C        C   \n",
       "1                                           C               01JAN12  01MAY05   \n",
       "2                                     15AUG15               15OCT11  08MAR04   \n",
       "3                                     15AUG15               01JAN06  08MAR04   \n",
       "4                                           C                     C        C   \n",
       "5                                           U                     U        U   \n",
       "6                                           C               08OCT13        C   \n",
       "7                                           U                     U        U   \n",
       "\n",
       "    MEXICO PHILIPPINES  \n",
       "0        C           C  \n",
       "1        C           C  \n",
       "2  15AUG15     01JAN07  \n",
       "3  15AUG15     01JAN07  \n",
       "4        C           C  \n",
       "5        U           U  \n",
       "6        C           C  \n",
       "7        U           U  "
      ]
     },
     "execution_count": 58,
     "metadata": {},
     "output_type": "execute_result"
    }
   ],
   "source": [
    "pd.read_html(info_df_long['table'][166], header=0)[0]"
   ]
  },
  {
   "cell_type": "markdown",
   "id": "5bdb7e5b",
   "metadata": {},
   "source": [
    "## Convert All Dataframes"
   ]
  },
  {
   "cell_type": "code",
   "execution_count": 59,
   "id": "d50227ab",
   "metadata": {},
   "outputs": [
    {
     "data": {
      "text/plain": [
       "(259, 3)"
      ]
     },
     "execution_count": 59,
     "metadata": {},
     "output_type": "execute_result"
    }
   ],
   "source": [
    "# If there're more than one Employment-Based table, keep the first one\n",
    "info_df_short = info_df_long.drop_duplicates(subset='stamp', keep = 'first')\n",
    "info_df_short = info_df_short.reset_index(drop = True)\n",
    "info_df_short.shape"
   ]
  },
  {
   "cell_type": "markdown",
   "id": "61022ae9",
   "metadata": {},
   "source": [
    "The following step is to create a list of dataframes out of the raw elements. This is the most time-consuming step."
   ]
  },
  {
   "cell_type": "code",
   "execution_count": 60,
   "id": "c9a22e0b",
   "metadata": {},
   "outputs": [
    {
     "name": "stdout",
     "output_type": "stream",
     "text": [
      "CPU times: user 2min 27s, sys: 700 ms, total: 2min 28s\n",
      "Wall time: 2min 28s\n"
     ]
    }
   ],
   "source": [
    "%%time\n",
    "DF_list = [None] * len(info_df_short)\n",
    "for raw in info_df_short['table']:\n",
    "    # .dropna(how = \"any\") is optional and specific given the properties of these dataframes\n",
    "    # without the .dropna() statement, the executing time would reduce to half\n",
    "    DF_list = [pd.read_html(raw, header=0)[0].dropna(how = \"any\") for raw in info_df_short['table']]"
   ]
  },
  {
   "cell_type": "code",
   "execution_count": 62,
   "id": "9d3fb710",
   "metadata": {},
   "outputs": [
    {
     "name": "stdout",
     "output_type": "stream",
     "text": [
      "CPU times: user 26.2 ms, sys: 2.15 ms, total: 28.4 ms\n",
      "Wall time: 26.1 ms\n"
     ]
    }
   ],
   "source": [
    "%%time\n",
    "# Change column names. Note that we can't just change the name of the first column.\n",
    "# We have to address all column names\n",
    "for df in DF_list:\n",
    "    df.columns = [\"Employment-Based\"] + list(df.columns[1:])"
   ]
  },
  {
   "cell_type": "code",
   "execution_count": 63,
   "id": "da7b9b2f",
   "metadata": {},
   "outputs": [
    {
     "data": {
      "text/html": [
       "<div>\n",
       "<style scoped>\n",
       "    .dataframe tbody tr th:only-of-type {\n",
       "        vertical-align: middle;\n",
       "    }\n",
       "\n",
       "    .dataframe tbody tr th {\n",
       "        vertical-align: top;\n",
       "    }\n",
       "\n",
       "    .dataframe thead th {\n",
       "        text-align: right;\n",
       "    }\n",
       "</style>\n",
       "<table border=\"1\" class=\"dataframe\">\n",
       "  <thead>\n",
       "    <tr style=\"text-align: right;\">\n",
       "      <th></th>\n",
       "      <th>Employment-Based</th>\n",
       "      <th>All Chargeability Areas Except Those Listed</th>\n",
       "      <th>INDIA</th>\n",
       "      <th>MEXICO</th>\n",
       "      <th>PHILIPPINES</th>\n",
       "    </tr>\n",
       "  </thead>\n",
       "  <tbody>\n",
       "    <tr>\n",
       "      <th>1</th>\n",
       "      <td>1st</td>\n",
       "      <td>C</td>\n",
       "      <td>C</td>\n",
       "      <td>C</td>\n",
       "      <td>C</td>\n",
       "    </tr>\n",
       "    <tr>\n",
       "      <th>2</th>\n",
       "      <td>2nd</td>\n",
       "      <td>C</td>\n",
       "      <td>C</td>\n",
       "      <td>C</td>\n",
       "      <td>C</td>\n",
       "    </tr>\n",
       "    <tr>\n",
       "      <th>3</th>\n",
       "      <td>3rd</td>\n",
       "      <td>C</td>\n",
       "      <td>C</td>\n",
       "      <td>C</td>\n",
       "      <td>C</td>\n",
       "    </tr>\n",
       "    <tr>\n",
       "      <th>4</th>\n",
       "      <td>Other Workers</td>\n",
       "      <td>C</td>\n",
       "      <td>C</td>\n",
       "      <td>C</td>\n",
       "      <td>C</td>\n",
       "    </tr>\n",
       "    <tr>\n",
       "      <th>5</th>\n",
       "      <td>4th</td>\n",
       "      <td>C</td>\n",
       "      <td>C</td>\n",
       "      <td>C</td>\n",
       "      <td>C</td>\n",
       "    </tr>\n",
       "    <tr>\n",
       "      <th>6</th>\n",
       "      <td>Certain Religious Workers</td>\n",
       "      <td>C</td>\n",
       "      <td>C</td>\n",
       "      <td>C</td>\n",
       "      <td>C</td>\n",
       "    </tr>\n",
       "    <tr>\n",
       "      <th>7</th>\n",
       "      <td>5th</td>\n",
       "      <td>C</td>\n",
       "      <td>C</td>\n",
       "      <td>C</td>\n",
       "      <td>C</td>\n",
       "    </tr>\n",
       "    <tr>\n",
       "      <th>8</th>\n",
       "      <td>Targeted Employment Areas/Regional Centers</td>\n",
       "      <td>C</td>\n",
       "      <td>C</td>\n",
       "      <td>C</td>\n",
       "      <td>C</td>\n",
       "    </tr>\n",
       "  </tbody>\n",
       "</table>\n",
       "</div>"
      ],
      "text/plain": [
       "                             Employment-Based  \\\n",
       "1                                         1st   \n",
       "2                                         2nd   \n",
       "3                                         3rd   \n",
       "4                               Other Workers   \n",
       "5                                         4th   \n",
       "6                   Certain Religious Workers   \n",
       "7                                         5th   \n",
       "8  Targeted Employment Areas/Regional Centers   \n",
       "\n",
       "  All Chargeability Areas Except Those Listed INDIA MEXICO PHILIPPINES  \n",
       "1                                           C     C      C           C  \n",
       "2                                           C     C      C           C  \n",
       "3                                           C     C      C           C  \n",
       "4                                           C     C      C           C  \n",
       "5                                           C     C      C           C  \n",
       "6                                           C     C      C           C  \n",
       "7                                           C     C      C           C  \n",
       "8                                           C     C      C           C  "
      ]
     },
     "execution_count": 63,
     "metadata": {},
     "output_type": "execute_result"
    }
   ],
   "source": [
    "DF_list[0]"
   ]
  },
  {
   "cell_type": "markdown",
   "id": "1ce4c334",
   "metadata": {},
   "source": [
    "# More Cleaning Tasks\n",
    "\n",
    "Double-check the column names: if there're still problems(hopefully not but usually there are), think of ad-hoc solutions"
   ]
  },
  {
   "cell_type": "code",
   "execution_count": 64,
   "id": "f1de3873",
   "metadata": {},
   "outputs": [
    {
     "name": "stdout",
     "output_type": "stream",
     "text": [
      "2128\n"
     ]
    }
   ],
   "source": [
    "import sys\n",
    "# Create a duplicated list so that we always have an original version of the dataframe list\n",
    "DF_list_archive = list(DF_list)\n",
    "print(sys.getsizeof(DF_list_archive))"
   ]
  },
  {
   "cell_type": "markdown",
   "id": "94ef7a1e",
   "metadata": {},
   "source": [
    "## Review Column Names"
   ]
  },
  {
   "cell_type": "markdown",
   "id": "a166e703",
   "metadata": {},
   "source": [
    "### How many versions of column names?\n",
    "\n",
    "This step is optional. Rather than looking at the combination of column names, we can also examine individual column names. But this is just to show the idea of viewing how many \"versions\" of dataframes do we have.\n",
    "\n",
    "- If the vast majority of dataframes have identical set of column names, we can consider manually modify the few dataframes with different dataframes. \n",
    "- If there're many different set of column names and the counts of dataframes with specific versions of column names are evenly distributed, it would be better to assign a standardized spelling for individual column names."
   ]
  },
  {
   "cell_type": "code",
   "execution_count": 65,
   "id": "3b44c645",
   "metadata": {},
   "outputs": [],
   "source": [
    "# A good start is to check the column names for all\n",
    "col_names = []\n",
    "ids = []\n",
    "for i,df in enumerate(DF_list):\n",
    "    # must be string\n",
    "    ids.append(str(i))\n",
    "    col_names.append(df.columns)\n",
    "   # print(str(i),df.columns)  "
   ]
  },
  {
   "cell_type": "code",
   "execution_count": 66,
   "id": "aa1224ad",
   "metadata": {},
   "outputs": [],
   "source": [
    "colnames_df =pd.DataFrame({\n",
    "    'ids': ids,'col_names': [', '.join(x) for x in col_names]})"
   ]
  },
  {
   "cell_type": "code",
   "execution_count": 67,
   "id": "64185b98",
   "metadata": {},
   "outputs": [
    {
     "data": {
      "text/html": [
       "<div>\n",
       "<style scoped>\n",
       "    .dataframe tbody tr th:only-of-type {\n",
       "        vertical-align: middle;\n",
       "    }\n",
       "\n",
       "    .dataframe tbody tr th {\n",
       "        vertical-align: top;\n",
       "    }\n",
       "\n",
       "    .dataframe thead th {\n",
       "        text-align: right;\n",
       "    }\n",
       "</style>\n",
       "<table border=\"1\" class=\"dataframe\">\n",
       "  <thead>\n",
       "    <tr style=\"text-align: right;\">\n",
       "      <th></th>\n",
       "      <th>ids</th>\n",
       "      <th>col_names</th>\n",
       "    </tr>\n",
       "  </thead>\n",
       "  <tbody>\n",
       "    <tr>\n",
       "      <th>0</th>\n",
       "      <td>0</td>\n",
       "      <td>Employment-Based, All Chargeability Areas Exce...</td>\n",
       "    </tr>\n",
       "    <tr>\n",
       "      <th>1</th>\n",
       "      <td>1</td>\n",
       "      <td>Employment-Based, All Chargeability Areas Exce...</td>\n",
       "    </tr>\n",
       "    <tr>\n",
       "      <th>2</th>\n",
       "      <td>2</td>\n",
       "      <td>Employment-Based, All Chargeability Areas Exce...</td>\n",
       "    </tr>\n",
       "    <tr>\n",
       "      <th>3</th>\n",
       "      <td>3</td>\n",
       "      <td>Employment-Based, All Chargeability Areas Exce...</td>\n",
       "    </tr>\n",
       "    <tr>\n",
       "      <th>4</th>\n",
       "      <td>4</td>\n",
       "      <td>Employment-Based, All Chargeability Areas Exce...</td>\n",
       "    </tr>\n",
       "  </tbody>\n",
       "</table>\n",
       "</div>"
      ],
      "text/plain": [
       "  ids                                          col_names\n",
       "0   0  Employment-Based, All Chargeability Areas Exce...\n",
       "1   1  Employment-Based, All Chargeability Areas Exce...\n",
       "2   2  Employment-Based, All Chargeability Areas Exce...\n",
       "3   3  Employment-Based, All Chargeability Areas Exce...\n",
       "4   4  Employment-Based, All Chargeability Areas Exce..."
      ]
     },
     "execution_count": 67,
     "metadata": {},
     "output_type": "execute_result"
    }
   ],
   "source": [
    "colnames_df.head()"
   ]
  },
  {
   "cell_type": "code",
   "execution_count": 68,
   "id": "73bf020a",
   "metadata": {},
   "outputs": [
    {
     "data": {
      "text/plain": [
       "36"
      ]
     },
     "execution_count": 68,
     "metadata": {},
     "output_type": "execute_result"
    }
   ],
   "source": [
    "# unique combination of column names\n",
    "len(set(colnames_df['col_names']))"
   ]
  },
  {
   "cell_type": "markdown",
   "id": "352179fd",
   "metadata": {},
   "source": [
    "### Which dataframes have problematic column names?\n",
    "\n",
    "Again, this step is also optional. We can output the following dataframe and examine dataframes of which ids require more attention."
   ]
  },
  {
   "cell_type": "code",
   "execution_count": 69,
   "id": "8f182f44",
   "metadata": {},
   "outputs": [],
   "source": [
    "colnames_df_summary =colnames_df.groupby('col_names').agg(ids = ('ids',','.join))\n",
    "colnames_df_summary['col_names'] = colnames_df_summary.index\n",
    "colnames_df_summary = colnames_df_summary.reset_index(drop = True)"
   ]
  },
  {
   "cell_type": "markdown",
   "id": "f07b9831",
   "metadata": {},
   "source": [
    "Because the dataframes were published over the past two decades, the table formats are inconsistent."
   ]
  },
  {
   "cell_type": "markdown",
   "id": "cfd47200",
   "metadata": {},
   "source": [
    "### What are the causes of the problematic column names?\n",
    "\n",
    "Take a look at one of the dataframes with problematic column names:"
   ]
  },
  {
   "cell_type": "code",
   "execution_count": 70,
   "id": "ff81a6fb",
   "metadata": {},
   "outputs": [
    {
     "data": {
      "text/html": [
       "<div>\n",
       "<style scoped>\n",
       "    .dataframe tbody tr th:only-of-type {\n",
       "        vertical-align: middle;\n",
       "    }\n",
       "\n",
       "    .dataframe tbody tr th {\n",
       "        vertical-align: top;\n",
       "    }\n",
       "\n",
       "    .dataframe thead th {\n",
       "        text-align: right;\n",
       "    }\n",
       "</style>\n",
       "<table border=\"1\" class=\"dataframe\">\n",
       "  <thead>\n",
       "    <tr style=\"text-align: right;\">\n",
       "      <th></th>\n",
       "      <th>Employment-Based</th>\n",
       "      <th>Priority Dates for Employment-Based Immigrant Visas.1</th>\n",
       "      <th>Priority Dates for Employment-Based Immigrant Visas.2</th>\n",
       "      <th>Priority Dates for Employment-Based Immigrant Visas.3</th>\n",
       "      <th>Priority Dates for Employment-Based Immigrant Visas.4</th>\n",
       "    </tr>\n",
       "  </thead>\n",
       "  <tbody>\n",
       "    <tr>\n",
       "      <th>0</th>\n",
       "      <td>Employment-Based</td>\n",
       "      <td>All Chargeability Areas Except Those Listed</td>\n",
       "      <td>INDIA</td>\n",
       "      <td>MEXICO</td>\n",
       "      <td>PHILIPPINES</td>\n",
       "    </tr>\n",
       "    <tr>\n",
       "      <th>1</th>\n",
       "      <td>1st</td>\n",
       "      <td>C</td>\n",
       "      <td>C</td>\n",
       "      <td>C</td>\n",
       "      <td>C</td>\n",
       "    </tr>\n",
       "    <tr>\n",
       "      <th>2</th>\n",
       "      <td>2nd</td>\n",
       "      <td>C</td>\n",
       "      <td>C</td>\n",
       "      <td>C</td>\n",
       "      <td>C</td>\n",
       "    </tr>\n",
       "    <tr>\n",
       "      <th>3</th>\n",
       "      <td>3rd</td>\n",
       "      <td>C</td>\n",
       "      <td>C</td>\n",
       "      <td>C</td>\n",
       "      <td>C</td>\n",
       "    </tr>\n",
       "    <tr>\n",
       "      <th>4</th>\n",
       "      <td>Other Workers</td>\n",
       "      <td>C</td>\n",
       "      <td>C</td>\n",
       "      <td>C</td>\n",
       "      <td>C</td>\n",
       "    </tr>\n",
       "    <tr>\n",
       "      <th>5</th>\n",
       "      <td>4th</td>\n",
       "      <td>C</td>\n",
       "      <td>C</td>\n",
       "      <td>C</td>\n",
       "      <td>C</td>\n",
       "    </tr>\n",
       "    <tr>\n",
       "      <th>6</th>\n",
       "      <td>Certain Religious  Workers</td>\n",
       "      <td>C</td>\n",
       "      <td>C</td>\n",
       "      <td>C</td>\n",
       "      <td>C</td>\n",
       "    </tr>\n",
       "    <tr>\n",
       "      <th>7</th>\n",
       "      <td>5th</td>\n",
       "      <td>C</td>\n",
       "      <td>C</td>\n",
       "      <td>C</td>\n",
       "      <td>C</td>\n",
       "    </tr>\n",
       "    <tr>\n",
       "      <th>8</th>\n",
       "      <td>Targeted Employment Areas/Regional Centers</td>\n",
       "      <td>C</td>\n",
       "      <td>C</td>\n",
       "      <td>C</td>\n",
       "      <td>C</td>\n",
       "    </tr>\n",
       "  </tbody>\n",
       "</table>\n",
       "</div>"
      ],
      "text/plain": [
       "                             Employment-Based  \\\n",
       "0                            Employment-Based   \n",
       "1                                         1st   \n",
       "2                                         2nd   \n",
       "3                                         3rd   \n",
       "4                               Other Workers   \n",
       "5                                         4th   \n",
       "6                  Certain Religious  Workers   \n",
       "7                                         5th   \n",
       "8  Targeted Employment Areas/Regional Centers   \n",
       "\n",
       "  Priority Dates for Employment-Based Immigrant Visas.1  \\\n",
       "0        All Chargeability Areas Except Those Listed      \n",
       "1                                                  C      \n",
       "2                                                  C      \n",
       "3                                                  C      \n",
       "4                                                  C      \n",
       "5                                                  C      \n",
       "6                                                  C      \n",
       "7                                                  C      \n",
       "8                                                  C      \n",
       "\n",
       "  Priority Dates for Employment-Based Immigrant Visas.2  \\\n",
       "0                                              INDIA      \n",
       "1                                                  C      \n",
       "2                                                  C      \n",
       "3                                                  C      \n",
       "4                                                  C      \n",
       "5                                                  C      \n",
       "6                                                  C      \n",
       "7                                                  C      \n",
       "8                                                  C      \n",
       "\n",
       "  Priority Dates for Employment-Based Immigrant Visas.3  \\\n",
       "0                                             MEXICO      \n",
       "1                                                  C      \n",
       "2                                                  C      \n",
       "3                                                  C      \n",
       "4                                                  C      \n",
       "5                                                  C      \n",
       "6                                                  C      \n",
       "7                                                  C      \n",
       "8                                                  C      \n",
       "\n",
       "  Priority Dates for Employment-Based Immigrant Visas.4  \n",
       "0                                        PHILIPPINES     \n",
       "1                                                  C     \n",
       "2                                                  C     \n",
       "3                                                  C     \n",
       "4                                                  C     \n",
       "5                                                  C     \n",
       "6                                                  C     \n",
       "7                                                  C     \n",
       "8                                                  C     "
      ]
     },
     "execution_count": 70,
     "metadata": {},
     "output_type": "execute_result"
    }
   ],
   "source": [
    "DF_list[27]"
   ]
  },
  {
   "cell_type": "code",
   "execution_count": 71,
   "id": "1090cd05",
   "metadata": {},
   "outputs": [
    {
     "data": {
      "text/plain": [
       "True"
      ]
     },
     "execution_count": 71,
     "metadata": {},
     "output_type": "execute_result"
    }
   ],
   "source": [
    "DF_list[27].iloc[0].str.contains(\"Chargeability\").any()"
   ]
  },
  {
   "cell_type": "code",
   "execution_count": 72,
   "id": "d9449cd6",
   "metadata": {},
   "outputs": [
    {
     "data": {
      "text/plain": [
       "True"
      ]
     },
     "execution_count": 72,
     "metadata": {},
     "output_type": "execute_result"
    }
   ],
   "source": [
    "DF_list[27].iloc[0].str.contains(\"Chargeability\", case = False).any() == True"
   ]
  },
  {
   "cell_type": "code",
   "execution_count": 73,
   "id": "0c6e6805",
   "metadata": {},
   "outputs": [
    {
     "name": "stdout",
     "output_type": "stream",
     "text": [
      "26 True\n",
      "27 True\n",
      "28 True\n",
      "[26, 27, 28]\n"
     ]
    }
   ],
   "source": [
    "# Get the indeces of dataframes with problematic column names\n",
    "edit_index = []\n",
    "for i,df in enumerate(DF_list):\n",
    "    if df.iloc[0].str.contains(\"Chargeability\", case = False).any() == True:\n",
    "        print(str(i),df.iloc[0].str.contains(\"Chargeability\", case = False).any())\n",
    "        edit_index.append(i)\n",
    "print(edit_index)        "
   ]
  },
  {
   "cell_type": "code",
   "execution_count": 74,
   "id": "3ada6841",
   "metadata": {},
   "outputs": [],
   "source": [
    "# make first row as column names\n",
    "for i in edit_index:\n",
    "    DF_list[i].columns = DF_list[i].iloc[0]    "
   ]
  },
  {
   "cell_type": "code",
   "execution_count": 75,
   "id": "42889ba8",
   "metadata": {},
   "outputs": [],
   "source": [
    "# drop first row\n",
    "for i in edit_index:\n",
    "    if DF_list[i].iloc[0].str.contains(\"Chargeability\", case = False).any() == True:\n",
    "        DF_list[i] = DF_list[i].iloc[1:]        "
   ]
  },
  {
   "cell_type": "code",
   "execution_count": 76,
   "id": "606e6d05",
   "metadata": {},
   "outputs": [
    {
     "data": {
      "text/html": [
       "<div>\n",
       "<style scoped>\n",
       "    .dataframe tbody tr th:only-of-type {\n",
       "        vertical-align: middle;\n",
       "    }\n",
       "\n",
       "    .dataframe tbody tr th {\n",
       "        vertical-align: top;\n",
       "    }\n",
       "\n",
       "    .dataframe thead th {\n",
       "        text-align: right;\n",
       "    }\n",
       "</style>\n",
       "<table border=\"1\" class=\"dataframe\">\n",
       "  <thead>\n",
       "    <tr style=\"text-align: right;\">\n",
       "      <th></th>\n",
       "      <th>Employment-Based</th>\n",
       "      <th>All Chargeability Areas Except Those Listed</th>\n",
       "      <th>INDIA</th>\n",
       "      <th>MEXICO</th>\n",
       "      <th>PHILIPPINES</th>\n",
       "    </tr>\n",
       "  </thead>\n",
       "  <tbody>\n",
       "    <tr>\n",
       "      <th>1</th>\n",
       "      <td>1st</td>\n",
       "      <td>C</td>\n",
       "      <td>C</td>\n",
       "      <td>C</td>\n",
       "      <td>C</td>\n",
       "    </tr>\n",
       "    <tr>\n",
       "      <th>2</th>\n",
       "      <td>2nd</td>\n",
       "      <td>C</td>\n",
       "      <td>C</td>\n",
       "      <td>C</td>\n",
       "      <td>C</td>\n",
       "    </tr>\n",
       "    <tr>\n",
       "      <th>3</th>\n",
       "      <td>3rd</td>\n",
       "      <td>C</td>\n",
       "      <td>C</td>\n",
       "      <td>C</td>\n",
       "      <td>C</td>\n",
       "    </tr>\n",
       "    <tr>\n",
       "      <th>4</th>\n",
       "      <td>Other Workers</td>\n",
       "      <td>C</td>\n",
       "      <td>C</td>\n",
       "      <td>C</td>\n",
       "      <td>C</td>\n",
       "    </tr>\n",
       "    <tr>\n",
       "      <th>5</th>\n",
       "      <td>4th</td>\n",
       "      <td>C</td>\n",
       "      <td>C</td>\n",
       "      <td>C</td>\n",
       "      <td>C</td>\n",
       "    </tr>\n",
       "    <tr>\n",
       "      <th>6</th>\n",
       "      <td>Certain Religious  Workers</td>\n",
       "      <td>C</td>\n",
       "      <td>C</td>\n",
       "      <td>C</td>\n",
       "      <td>C</td>\n",
       "    </tr>\n",
       "    <tr>\n",
       "      <th>7</th>\n",
       "      <td>5th</td>\n",
       "      <td>C</td>\n",
       "      <td>C</td>\n",
       "      <td>C</td>\n",
       "      <td>C</td>\n",
       "    </tr>\n",
       "    <tr>\n",
       "      <th>8</th>\n",
       "      <td>Targeted Employment Areas/Regional Centers</td>\n",
       "      <td>C</td>\n",
       "      <td>C</td>\n",
       "      <td>C</td>\n",
       "      <td>C</td>\n",
       "    </tr>\n",
       "  </tbody>\n",
       "</table>\n",
       "</div>"
      ],
      "text/plain": [
       "0                            Employment-Based  \\\n",
       "1                                         1st   \n",
       "2                                         2nd   \n",
       "3                                         3rd   \n",
       "4                               Other Workers   \n",
       "5                                         4th   \n",
       "6                  Certain Religious  Workers   \n",
       "7                                         5th   \n",
       "8  Targeted Employment Areas/Regional Centers   \n",
       "\n",
       "0 All Chargeability Areas Except Those Listed INDIA MEXICO PHILIPPINES  \n",
       "1                                           C     C      C           C  \n",
       "2                                           C     C      C           C  \n",
       "3                                           C     C      C           C  \n",
       "4                                           C     C      C           C  \n",
       "5                                           C     C      C           C  \n",
       "6                                           C     C      C           C  \n",
       "7                                           C     C      C           C  \n",
       "8                                           C     C      C           C  "
      ]
     },
     "execution_count": 76,
     "metadata": {},
     "output_type": "execute_result"
    }
   ],
   "source": [
    "# After making the first row as the column names and removing the first row:\n",
    "DF_list[26]"
   ]
  },
  {
   "cell_type": "code",
   "execution_count": 77,
   "id": "4eaa8c06",
   "metadata": {},
   "outputs": [
    {
     "data": {
      "text/html": [
       "<div>\n",
       "<style scoped>\n",
       "    .dataframe tbody tr th:only-of-type {\n",
       "        vertical-align: middle;\n",
       "    }\n",
       "\n",
       "    .dataframe tbody tr th {\n",
       "        vertical-align: top;\n",
       "    }\n",
       "\n",
       "    .dataframe thead th {\n",
       "        text-align: right;\n",
       "    }\n",
       "</style>\n",
       "<table border=\"1\" class=\"dataframe\">\n",
       "  <thead>\n",
       "    <tr style=\"text-align: right;\">\n",
       "      <th></th>\n",
       "      <th>Employment-Based</th>\n",
       "      <th>All Chargeability Areas Except Those Listed</th>\n",
       "      <th>INDIA</th>\n",
       "      <th>MEXICO</th>\n",
       "      <th>PHILIPPINES</th>\n",
       "    </tr>\n",
       "  </thead>\n",
       "  <tbody>\n",
       "    <tr>\n",
       "      <th>1</th>\n",
       "      <td>1st</td>\n",
       "      <td>C</td>\n",
       "      <td>C</td>\n",
       "      <td>C</td>\n",
       "      <td>C</td>\n",
       "    </tr>\n",
       "    <tr>\n",
       "      <th>2</th>\n",
       "      <td>2nd</td>\n",
       "      <td>C</td>\n",
       "      <td>C</td>\n",
       "      <td>C</td>\n",
       "      <td>C</td>\n",
       "    </tr>\n",
       "    <tr>\n",
       "      <th>3</th>\n",
       "      <td>3rd</td>\n",
       "      <td>C</td>\n",
       "      <td>C</td>\n",
       "      <td>C</td>\n",
       "      <td>C</td>\n",
       "    </tr>\n",
       "    <tr>\n",
       "      <th>4</th>\n",
       "      <td>Other Workers</td>\n",
       "      <td>C</td>\n",
       "      <td>C</td>\n",
       "      <td>C</td>\n",
       "      <td>C</td>\n",
       "    </tr>\n",
       "    <tr>\n",
       "      <th>5</th>\n",
       "      <td>4th</td>\n",
       "      <td>C</td>\n",
       "      <td>C</td>\n",
       "      <td>C</td>\n",
       "      <td>C</td>\n",
       "    </tr>\n",
       "    <tr>\n",
       "      <th>6</th>\n",
       "      <td>Certain Religious  Workers</td>\n",
       "      <td>C</td>\n",
       "      <td>C</td>\n",
       "      <td>C</td>\n",
       "      <td>C</td>\n",
       "    </tr>\n",
       "    <tr>\n",
       "      <th>7</th>\n",
       "      <td>5th</td>\n",
       "      <td>C</td>\n",
       "      <td>C</td>\n",
       "      <td>C</td>\n",
       "      <td>C</td>\n",
       "    </tr>\n",
       "    <tr>\n",
       "      <th>8</th>\n",
       "      <td>Targeted Employment Areas/Regional Centers</td>\n",
       "      <td>C</td>\n",
       "      <td>C</td>\n",
       "      <td>C</td>\n",
       "      <td>C</td>\n",
       "    </tr>\n",
       "  </tbody>\n",
       "</table>\n",
       "</div>"
      ],
      "text/plain": [
       "0                            Employment-Based  \\\n",
       "1                                         1st   \n",
       "2                                         2nd   \n",
       "3                                         3rd   \n",
       "4                               Other Workers   \n",
       "5                                         4th   \n",
       "6                  Certain Religious  Workers   \n",
       "7                                         5th   \n",
       "8  Targeted Employment Areas/Regional Centers   \n",
       "\n",
       "0 All Chargeability Areas Except Those Listed INDIA MEXICO PHILIPPINES  \n",
       "1                                           C     C      C           C  \n",
       "2                                           C     C      C           C  \n",
       "3                                           C     C      C           C  \n",
       "4                                           C     C      C           C  \n",
       "5                                           C     C      C           C  \n",
       "6                                           C     C      C           C  \n",
       "7                                           C     C      C           C  \n",
       "8                                           C     C      C           C  "
      ]
     },
     "execution_count": 77,
     "metadata": {},
     "output_type": "execute_result"
    }
   ],
   "source": [
    "# Verify the outcome after the loop, this looks like the above item, meaning the loop works properly\n",
    "DF_list[28]"
   ]
  },
  {
   "cell_type": "code",
   "execution_count": 78,
   "id": "d903c37a",
   "metadata": {},
   "outputs": [],
   "source": [
    "# Certain column names are too long and prone to spelling/spacing variations.\n",
    "# Assign a consistent spelling/spacing to it\n",
    "for df in DF_list:\n",
    "    # can only concatenate list (not \"str\") to list\n",
    "    df.columns = [\"Employment-Based\"] + [\"All_Chargeability_Except_Listed\"] + list(df.columns[2:])"
   ]
  },
  {
   "cell_type": "code",
   "execution_count": 79,
   "id": "2159656a",
   "metadata": {},
   "outputs": [
    {
     "data": {
      "text/html": [
       "<div>\n",
       "<style scoped>\n",
       "    .dataframe tbody tr th:only-of-type {\n",
       "        vertical-align: middle;\n",
       "    }\n",
       "\n",
       "    .dataframe tbody tr th {\n",
       "        vertical-align: top;\n",
       "    }\n",
       "\n",
       "    .dataframe thead th {\n",
       "        text-align: right;\n",
       "    }\n",
       "</style>\n",
       "<table border=\"1\" class=\"dataframe\">\n",
       "  <thead>\n",
       "    <tr style=\"text-align: right;\">\n",
       "      <th></th>\n",
       "      <th>Employment-Based</th>\n",
       "      <th>All_Chargeability_Except_Listed</th>\n",
       "      <th>INDIA</th>\n",
       "      <th>MEXICO</th>\n",
       "      <th>PHILIPPINES</th>\n",
       "    </tr>\n",
       "  </thead>\n",
       "  <tbody>\n",
       "    <tr>\n",
       "      <th>1</th>\n",
       "      <td>1st</td>\n",
       "      <td>C</td>\n",
       "      <td>C</td>\n",
       "      <td>C</td>\n",
       "      <td>C</td>\n",
       "    </tr>\n",
       "    <tr>\n",
       "      <th>2</th>\n",
       "      <td>2nd</td>\n",
       "      <td>C</td>\n",
       "      <td>C</td>\n",
       "      <td>C</td>\n",
       "      <td>C</td>\n",
       "    </tr>\n",
       "    <tr>\n",
       "      <th>3</th>\n",
       "      <td>3rd</td>\n",
       "      <td>C</td>\n",
       "      <td>C</td>\n",
       "      <td>C</td>\n",
       "      <td>C</td>\n",
       "    </tr>\n",
       "    <tr>\n",
       "      <th>4</th>\n",
       "      <td>Other Workers</td>\n",
       "      <td>C</td>\n",
       "      <td>C</td>\n",
       "      <td>C</td>\n",
       "      <td>C</td>\n",
       "    </tr>\n",
       "    <tr>\n",
       "      <th>5</th>\n",
       "      <td>4th</td>\n",
       "      <td>C</td>\n",
       "      <td>C</td>\n",
       "      <td>C</td>\n",
       "      <td>C</td>\n",
       "    </tr>\n",
       "    <tr>\n",
       "      <th>6</th>\n",
       "      <td>Certain Religious Workers</td>\n",
       "      <td>C</td>\n",
       "      <td>C</td>\n",
       "      <td>C</td>\n",
       "      <td>C</td>\n",
       "    </tr>\n",
       "    <tr>\n",
       "      <th>7</th>\n",
       "      <td>5th</td>\n",
       "      <td>C</td>\n",
       "      <td>C</td>\n",
       "      <td>C</td>\n",
       "      <td>C</td>\n",
       "    </tr>\n",
       "    <tr>\n",
       "      <th>8</th>\n",
       "      <td>Targeted Employment Areas/Regional Centers</td>\n",
       "      <td>C</td>\n",
       "      <td>C</td>\n",
       "      <td>C</td>\n",
       "      <td>C</td>\n",
       "    </tr>\n",
       "  </tbody>\n",
       "</table>\n",
       "</div>"
      ],
      "text/plain": [
       "                             Employment-Based All_Chargeability_Except_Listed  \\\n",
       "1                                         1st                               C   \n",
       "2                                         2nd                               C   \n",
       "3                                         3rd                               C   \n",
       "4                               Other Workers                               C   \n",
       "5                                         4th                               C   \n",
       "6                   Certain Religious Workers                               C   \n",
       "7                                         5th                               C   \n",
       "8  Targeted Employment Areas/Regional Centers                               C   \n",
       "\n",
       "  INDIA MEXICO PHILIPPINES  \n",
       "1     C      C           C  \n",
       "2     C      C           C  \n",
       "3     C      C           C  \n",
       "4     C      C           C  \n",
       "5     C      C           C  \n",
       "6     C      C           C  \n",
       "7     C      C           C  \n",
       "8     C      C           C  "
      ]
     },
     "execution_count": 79,
     "metadata": {},
     "output_type": "execute_result"
    }
   ],
   "source": [
    "DF_list[1]"
   ]
  },
  {
   "cell_type": "code",
   "execution_count": 80,
   "id": "2ac30486",
   "metadata": {},
   "outputs": [
    {
     "data": {
      "text/html": [
       "<div>\n",
       "<style scoped>\n",
       "    .dataframe tbody tr th:only-of-type {\n",
       "        vertical-align: middle;\n",
       "    }\n",
       "\n",
       "    .dataframe tbody tr th {\n",
       "        vertical-align: top;\n",
       "    }\n",
       "\n",
       "    .dataframe thead th {\n",
       "        text-align: right;\n",
       "    }\n",
       "</style>\n",
       "<table border=\"1\" class=\"dataframe\">\n",
       "  <thead>\n",
       "    <tr style=\"text-align: right;\">\n",
       "      <th></th>\n",
       "      <th>ids</th>\n",
       "      <th>col_names</th>\n",
       "    </tr>\n",
       "  </thead>\n",
       "  <tbody>\n",
       "    <tr>\n",
       "      <th>0</th>\n",
       "      <td>37,38,39,43,45,46,47,48,49</td>\n",
       "      <td>Employment-Based, All_Chargeability_Except_Lis...</td>\n",
       "    </tr>\n",
       "    <tr>\n",
       "      <th>1</th>\n",
       "      <td>154,159,161,163,164,170,171</td>\n",
       "      <td>Employment-Based, All_Chargeability_Except_Lis...</td>\n",
       "    </tr>\n",
       "    <tr>\n",
       "      <th>2</th>\n",
       "      <td>124,125,126,127,128,129,131,132,133,134,135,13...</td>\n",
       "      <td>Employment-Based, All_Chargeability_Except_Lis...</td>\n",
       "    </tr>\n",
       "    <tr>\n",
       "      <th>3</th>\n",
       "      <td>51,52,56</td>\n",
       "      <td>Employment-Based, All_Chargeability_Except_Lis...</td>\n",
       "    </tr>\n",
       "    <tr>\n",
       "      <th>4</th>\n",
       "      <td>50</td>\n",
       "      <td>Employment-Based, All_Chargeability_Except_Lis...</td>\n",
       "    </tr>\n",
       "    <tr>\n",
       "      <th>5</th>\n",
       "      <td>42,44</td>\n",
       "      <td>Employment-Based, All_Chargeability_Except_Lis...</td>\n",
       "    </tr>\n",
       "    <tr>\n",
       "      <th>6</th>\n",
       "      <td>173,174,175,176,177,178,179,180,181,182,183,18...</td>\n",
       "      <td>Employment-Based, All_Chargeability_Except_Lis...</td>\n",
       "    </tr>\n",
       "    <tr>\n",
       "      <th>7</th>\n",
       "      <td>197,198,199,200,201,202,203,204,205,206,207,20...</td>\n",
       "      <td>Employment-Based, All_Chargeability_Except_Lis...</td>\n",
       "    </tr>\n",
       "    <tr>\n",
       "      <th>8</th>\n",
       "      <td>57,58,59,60,61,62,63,64,65,66,67,68,69,70,71,7...</td>\n",
       "      <td>Employment-Based, All_Chargeability_Except_Lis...</td>\n",
       "    </tr>\n",
       "    <tr>\n",
       "      <th>9</th>\n",
       "      <td>102,103,104,105,108,109,110,111</td>\n",
       "      <td>Employment-Based, All_Chargeability_Except_Lis...</td>\n",
       "    </tr>\n",
       "    <tr>\n",
       "      <th>10</th>\n",
       "      <td>40,41,91,93,95,96,97,98,99,100,106,107,112,115...</td>\n",
       "      <td>Employment-Based, All_Chargeability_Except_Lis...</td>\n",
       "    </tr>\n",
       "    <tr>\n",
       "      <th>11</th>\n",
       "      <td>53,54,55,172</td>\n",
       "      <td>Employment-Based, All_Chargeability_Except_Lis...</td>\n",
       "    </tr>\n",
       "    <tr>\n",
       "      <th>12</th>\n",
       "      <td>0,1,2,3,4,5,6,7,8,9,10,11,19,20,21,22,23,24,25...</td>\n",
       "      <td>Employment-Based, All_Chargeability_Except_Lis...</td>\n",
       "    </tr>\n",
       "    <tr>\n",
       "      <th>13</th>\n",
       "      <td>31</td>\n",
       "      <td>Employment-Based, All_Chargeability_Except_Lis...</td>\n",
       "    </tr>\n",
       "    <tr>\n",
       "      <th>14</th>\n",
       "      <td>12,13,14,15,16,17,18</td>\n",
       "      <td>Employment-Based, All_Chargeability_Except_Lis...</td>\n",
       "    </tr>\n",
       "  </tbody>\n",
       "</table>\n",
       "</div>"
      ],
      "text/plain": [
       "                                                  ids  \\\n",
       "0                          37,38,39,43,45,46,47,48,49   \n",
       "1                         154,159,161,163,164,170,171   \n",
       "2   124,125,126,127,128,129,131,132,133,134,135,13...   \n",
       "3                                            51,52,56   \n",
       "4                                                  50   \n",
       "5                                               42,44   \n",
       "6   173,174,175,176,177,178,179,180,181,182,183,18...   \n",
       "7   197,198,199,200,201,202,203,204,205,206,207,20...   \n",
       "8   57,58,59,60,61,62,63,64,65,66,67,68,69,70,71,7...   \n",
       "9                     102,103,104,105,108,109,110,111   \n",
       "10  40,41,91,93,95,96,97,98,99,100,106,107,112,115...   \n",
       "11                                       53,54,55,172   \n",
       "12  0,1,2,3,4,5,6,7,8,9,10,11,19,20,21,22,23,24,25...   \n",
       "13                                                 31   \n",
       "14                               12,13,14,15,16,17,18   \n",
       "\n",
       "                                            col_names  \n",
       "0   Employment-Based, All_Chargeability_Except_Lis...  \n",
       "1   Employment-Based, All_Chargeability_Except_Lis...  \n",
       "2   Employment-Based, All_Chargeability_Except_Lis...  \n",
       "3   Employment-Based, All_Chargeability_Except_Lis...  \n",
       "4   Employment-Based, All_Chargeability_Except_Lis...  \n",
       "5   Employment-Based, All_Chargeability_Except_Lis...  \n",
       "6   Employment-Based, All_Chargeability_Except_Lis...  \n",
       "7   Employment-Based, All_Chargeability_Except_Lis...  \n",
       "8   Employment-Based, All_Chargeability_Except_Lis...  \n",
       "9   Employment-Based, All_Chargeability_Except_Lis...  \n",
       "10  Employment-Based, All_Chargeability_Except_Lis...  \n",
       "11  Employment-Based, All_Chargeability_Except_Lis...  \n",
       "12  Employment-Based, All_Chargeability_Except_Lis...  \n",
       "13  Employment-Based, All_Chargeability_Except_Lis...  \n",
       "14  Employment-Based, All_Chargeability_Except_Lis...  "
      ]
     },
     "execution_count": 80,
     "metadata": {},
     "output_type": "execute_result"
    }
   ],
   "source": [
    "# Re-run the summary of column names\n",
    "col_names = []\n",
    "ids = []\n",
    "for i,df in enumerate(DF_list):\n",
    "    # must be string\n",
    "    ids.append(str(i))\n",
    "    col_names.append(df.columns)\n",
    "   # print(str(i),df.columns)  \n",
    "colnames_df =pd.DataFrame({\n",
    "    'ids': ids,'col_names': [', '.join(x) for x in col_names]})\n",
    "\n",
    "colnames_df_summary =colnames_df.groupby('col_names').agg(ids = ('ids',','.join))\n",
    "colnames_df_summary['col_names'] = colnames_df_summary.index\n",
    "colnames_df_summary = colnames_df_summary.reset_index(drop = True)\n",
    "colnames_df_summary"
   ]
  },
  {
   "cell_type": "code",
   "execution_count": 81,
   "id": "6e257dbc",
   "metadata": {},
   "outputs": [],
   "source": [
    "colnames_df_summary.to_csv('colnames_df_summary.csv')"
   ]
  },
  {
   "cell_type": "code",
   "execution_count": 82,
   "id": "d6607ede",
   "metadata": {},
   "outputs": [
    {
     "data": {
      "text/html": [
       "<div>\n",
       "<style scoped>\n",
       "    .dataframe tbody tr th:only-of-type {\n",
       "        vertical-align: middle;\n",
       "    }\n",
       "\n",
       "    .dataframe tbody tr th {\n",
       "        vertical-align: top;\n",
       "    }\n",
       "\n",
       "    .dataframe thead th {\n",
       "        text-align: right;\n",
       "    }\n",
       "</style>\n",
       "<table border=\"1\" class=\"dataframe\">\n",
       "  <thead>\n",
       "    <tr style=\"text-align: right;\">\n",
       "      <th></th>\n",
       "      <th>Employment-Based</th>\n",
       "      <th>All_Chargeability_Except_Listed</th>\n",
       "      <th>CHINA-  mainland born</th>\n",
       "      <th>EL SALVADOR  GUATEMALA  HONDURAS</th>\n",
       "      <th>INDIA</th>\n",
       "      <th>MEXICO</th>\n",
       "      <th>PHILIPPINES</th>\n",
       "    </tr>\n",
       "  </thead>\n",
       "  <tbody>\n",
       "    <tr>\n",
       "      <th>0</th>\n",
       "      <td>1st</td>\n",
       "      <td>C</td>\n",
       "      <td>C</td>\n",
       "      <td>C</td>\n",
       "      <td>C</td>\n",
       "      <td>C</td>\n",
       "      <td>C</td>\n",
       "    </tr>\n",
       "    <tr>\n",
       "      <th>1</th>\n",
       "      <td>2nd</td>\n",
       "      <td>C</td>\n",
       "      <td>01SEP12</td>\n",
       "      <td>C</td>\n",
       "      <td>22NOV08</td>\n",
       "      <td>C</td>\n",
       "      <td>C</td>\n",
       "    </tr>\n",
       "    <tr>\n",
       "      <th>2</th>\n",
       "      <td>3rd</td>\n",
       "      <td>15FEB16</td>\n",
       "      <td>15AUG13</td>\n",
       "      <td>15FEB16</td>\n",
       "      <td>01SEP04</td>\n",
       "      <td>15FEB16</td>\n",
       "      <td>08AUG08</td>\n",
       "    </tr>\n",
       "    <tr>\n",
       "      <th>3</th>\n",
       "      <td>Other Workers</td>\n",
       "      <td>15FEB16</td>\n",
       "      <td>22APR07</td>\n",
       "      <td>15FEB16</td>\n",
       "      <td>01SEP04</td>\n",
       "      <td>15FEB16</td>\n",
       "      <td>08AUG08</td>\n",
       "    </tr>\n",
       "    <tr>\n",
       "      <th>4</th>\n",
       "      <td>4th</td>\n",
       "      <td>C</td>\n",
       "      <td>C</td>\n",
       "      <td>01JAN10</td>\n",
       "      <td>C</td>\n",
       "      <td>C</td>\n",
       "      <td>C</td>\n",
       "    </tr>\n",
       "    <tr>\n",
       "      <th>5</th>\n",
       "      <td>Certain Religious Workers</td>\n",
       "      <td>C</td>\n",
       "      <td>C</td>\n",
       "      <td>01JAN10</td>\n",
       "      <td>C</td>\n",
       "      <td>C</td>\n",
       "      <td>C</td>\n",
       "    </tr>\n",
       "    <tr>\n",
       "      <th>6</th>\n",
       "      <td>5th Non-Regional Center (C5 and T5)</td>\n",
       "      <td>C</td>\n",
       "      <td>08FEB14</td>\n",
       "      <td>C</td>\n",
       "      <td>C</td>\n",
       "      <td>C</td>\n",
       "      <td>C</td>\n",
       "    </tr>\n",
       "    <tr>\n",
       "      <th>7</th>\n",
       "      <td>5th Regional Center (I5 and R5)</td>\n",
       "      <td>C</td>\n",
       "      <td>08FEB14</td>\n",
       "      <td>C</td>\n",
       "      <td>C</td>\n",
       "      <td>C</td>\n",
       "      <td>C</td>\n",
       "    </tr>\n",
       "  </tbody>\n",
       "</table>\n",
       "</div>"
      ],
      "text/plain": [
       "                      Employment-Based All_Chargeability_Except_Listed  \\\n",
       "0                                  1st                               C   \n",
       "1                                  2nd                               C   \n",
       "2                                  3rd                         15FEB16   \n",
       "3                        Other Workers                         15FEB16   \n",
       "4                                  4th                               C   \n",
       "5            Certain Religious Workers                               C   \n",
       "6  5th Non-Regional Center (C5 and T5)                               C   \n",
       "7      5th Regional Center (I5 and R5)                               C   \n",
       "\n",
       "  CHINA-  mainland born EL SALVADOR  GUATEMALA  HONDURAS    INDIA   MEXICO  \\\n",
       "0                     C                                C        C        C   \n",
       "1               01SEP12                                C  22NOV08        C   \n",
       "2               15AUG13                          15FEB16  01SEP04  15FEB16   \n",
       "3               22APR07                          15FEB16  01SEP04  15FEB16   \n",
       "4                     C                          01JAN10        C        C   \n",
       "5                     C                          01JAN10        C        C   \n",
       "6               08FEB14                                C        C        C   \n",
       "7               08FEB14                                C        C        C   \n",
       "\n",
       "  PHILIPPINES  \n",
       "0           C  \n",
       "1           C  \n",
       "2     08AUG08  \n",
       "3     08AUG08  \n",
       "4           C  \n",
       "5           C  \n",
       "6           C  \n",
       "7           C  "
      ]
     },
     "execution_count": 82,
     "metadata": {},
     "output_type": "execute_result"
    }
   ],
   "source": [
    "# Another iregular column name \"EL SALVADOR GUATEMALA HONDURAS\"\n",
    "# Column names that contain multiple countries\n",
    "DF_list[173]"
   ]
  },
  {
   "cell_type": "markdown",
   "id": "804b1561",
   "metadata": {},
   "source": [
    "## Standardize Column Names\n",
    "\n",
    "Identify column names that can/should be merged. Here, a good example is the variations of China. An efficient way is to put all variations to a list create a dictionary. The variations of column names are as the keys and the finalized column name as the value."
   ]
  },
  {
   "cell_type": "markdown",
   "id": "1ddda74f",
   "metadata": {},
   "source": [
    "### Counts of all column names"
   ]
  },
  {
   "cell_type": "code",
   "execution_count": 83,
   "id": "b98f9d10",
   "metadata": {},
   "outputs": [
    {
     "data": {
      "text/plain": [
       "{'Employment-Based': 259,\n",
       " 'All_Chargeability_Except_Listed': 259,\n",
       " 'INDIA': 243,\n",
       " 'MEXICO': 250,\n",
       " 'PHILIPPINES': 248,\n",
       " 'PHILLIPINES': 2,\n",
       " 'CH': 9,\n",
       " 'IN': 9,\n",
       " 'ME': 9,\n",
       " 'PH': 9,\n",
       " 'CHINA- mainland born': 30,\n",
       " 'CHINA-  mainland  born': 2,\n",
       " 'CHINA': 4,\n",
       " 'CHINA-mainland born': 4,\n",
       " 'CHINA-  mainland born': 126,\n",
       " 'DOMINICAN REPUBLIC': 8,\n",
       " 'CHINA - mainland born': 40,\n",
       " 'CHINA -  mainland born': 7,\n",
       " 'EL SALVADOR  GUATEMALA  HONDURAS': 83,\n",
       " 'VIETNAM': 41}"
      ]
     },
     "execution_count": 83,
     "metadata": {},
     "output_type": "execute_result"
    }
   ],
   "source": [
    "# initiate an empty dictionary\n",
    "counts_col = {}\n",
    "\n",
    "# hierarchical(nested) loop over every column name in every dataframe in the list of dataframes\n",
    "for df in DF_list:\n",
    "    for col in df.columns:\n",
    "        if col in counts_col.keys():\n",
    "            counts_col[col] += 1\n",
    "        else:\n",
    "            counts_col[col] = 1\n",
    "# print the resulting dictionary of column name counts\n",
    "counts_col"
   ]
  },
  {
   "cell_type": "markdown",
   "id": "576f4dbc",
   "metadata": {},
   "source": [
    "### Dictionary of finalized column names"
   ]
  },
  {
   "cell_type": "code",
   "execution_count": 84,
   "id": "13f1f3fd",
   "metadata": {},
   "outputs": [
    {
     "data": {
      "text/plain": [
       "['CHINA- mainland born',\n",
       " 'CHINA-  mainland  born',\n",
       " 'CHINA',\n",
       " 'CHINA-mainland born',\n",
       " 'CHINA-  mainland born',\n",
       " 'CHINA - mainland born',\n",
       " 'CHINA -  mainland born']"
      ]
     },
     "execution_count": 84,
     "metadata": {},
     "output_type": "execute_result"
    }
   ],
   "source": [
    "# Collect all variations of China\n",
    "CHINA = []\n",
    "for key in counts_col.keys():\n",
    "    if \"CHINA\" in key.upper():\n",
    "        CHINA.append(key)\n",
    "CHINA        "
   ]
  },
  {
   "cell_type": "code",
   "execution_count": 86,
   "id": "573d7360",
   "metadata": {},
   "outputs": [
    {
     "name": "stdout",
     "output_type": "stream",
     "text": [
      "['CHINA-MAINLAND', 'CHINA-MAINLAND', 'CHINA-MAINLAND', 'CHINA-MAINLAND', 'CHINA-MAINLAND', 'CHINA-MAINLAND', 'CHINA-MAINLAND']\n"
     ]
    },
    {
     "data": {
      "text/plain": [
       "{'CHINA- mainland born': 'CHINA-MAINLAND',\n",
       " 'CHINA-  mainland  born': 'CHINA-MAINLAND',\n",
       " 'CHINA': 'CHINA-MAINLAND',\n",
       " 'CHINA-mainland born': 'CHINA-MAINLAND',\n",
       " 'CHINA-  mainland born': 'CHINA-MAINLAND',\n",
       " 'CHINA - mainland born': 'CHINA-MAINLAND',\n",
       " 'CHINA -  mainland born': 'CHINA-MAINLAND'}"
      ]
     },
     "execution_count": 86,
     "metadata": {},
     "output_type": "execute_result"
    }
   ],
   "source": [
    "# Create a value list\n",
    "print([\"CHINA-MAINLAND\"]*len(CHINA))\n",
    "# Create a dictionary of variations of China as keys, and \"CHINA-MAINLAND\" as values\n",
    "rename1 = dict(zip(CHINA, [\"CHINA-MAINLAND\"]*len(CHINA)))\n",
    "rename1"
   ]
  },
  {
   "cell_type": "code",
   "execution_count": 87,
   "id": "f2372cf6",
   "metadata": {},
   "outputs": [],
   "source": [
    "rename2 = {\n",
    "    'PHILLIPINES':'PHILIPPINES',\n",
    "    'CH':'CHINA-MAINLAND',\n",
    "    'IN':'INDIA',\n",
    "    'ME':'MEXICO',\n",
    "    'PH':'PHILIPPINES'\n",
    "}"
   ]
  },
  {
   "cell_type": "code",
   "execution_count": 88,
   "id": "ff9a4f91",
   "metadata": {},
   "outputs": [
    {
     "data": {
      "text/plain": [
       "{'CHINA- mainland born': 'CHINA-MAINLAND',\n",
       " 'CHINA-  mainland  born': 'CHINA-MAINLAND',\n",
       " 'CHINA': 'CHINA-MAINLAND',\n",
       " 'CHINA-mainland born': 'CHINA-MAINLAND',\n",
       " 'CHINA-  mainland born': 'CHINA-MAINLAND',\n",
       " 'CHINA - mainland born': 'CHINA-MAINLAND',\n",
       " 'CHINA -  mainland born': 'CHINA-MAINLAND',\n",
       " 'PHILLIPINES': 'PHILIPPINES',\n",
       " 'CH': 'CHINA-MAINLAND',\n",
       " 'IN': 'INDIA',\n",
       " 'ME': 'MEXICO',\n",
       " 'PH': 'PHILIPPINES'}"
      ]
     },
     "execution_count": 88,
     "metadata": {},
     "output_type": "execute_result"
    }
   ],
   "source": [
    "# update rename1 by appending items in rename2\n",
    "rename1.update(rename2)\n",
    "# rename1 is the final dictionary that includes information in rename2\n",
    "rename1"
   ]
  },
  {
   "cell_type": "markdown",
   "id": "7867f75f",
   "metadata": {},
   "source": [
    "### Rename all dataframes"
   ]
  },
  {
   "cell_type": "code",
   "execution_count": 89,
   "id": "503d7611",
   "metadata": {},
   "outputs": [
    {
     "name": "stdout",
     "output_type": "stream",
     "text": [
      "CPU times: user 39.6 ms, sys: 882 µs, total: 40.5 ms\n",
      "Wall time: 39.7 ms\n"
     ]
    }
   ],
   "source": [
    "%%time\n",
    "for i in range(len(DF_list)):\n",
    "    DF_list[i] = DF_list[i].rename(columns = rename1)    "
   ]
  },
  {
   "cell_type": "code",
   "execution_count": 90,
   "id": "449fad57",
   "metadata": {},
   "outputs": [
    {
     "data": {
      "text/plain": [
       "{'Employment-Based': 259,\n",
       " 'All_Chargeability_Except_Listed': 259,\n",
       " 'INDIA': 252,\n",
       " 'MEXICO': 259,\n",
       " 'PHILIPPINES': 259,\n",
       " 'CHINA-MAINLAND': 222,\n",
       " 'DOMINICAN REPUBLIC': 8,\n",
       " 'EL SALVADOR  GUATEMALA  HONDURAS': 83,\n",
       " 'VIETNAM': 41}"
      ]
     },
     "execution_count": 90,
     "metadata": {},
     "output_type": "execute_result"
    }
   ],
   "source": [
    "# After standardizing the columns of of China, re-run the dictionary\n",
    "counts_col = {}\n",
    "\n",
    "# hierarchical(nested) loop over every column name in every dataframe in the list of dataframes\n",
    "for df in DF_list:\n",
    "    for col in df.columns:\n",
    "        if col in counts_col.keys():\n",
    "            counts_col[col] += 1\n",
    "        else:\n",
    "            counts_col[col] = 1\n",
    "# print the resulting dictionary of column name counts\n",
    "counts_col"
   ]
  },
  {
   "cell_type": "markdown",
   "id": "ba3ac5e6",
   "metadata": {},
   "source": [
    "## Add Timestamp \n",
    "\n",
    "Add the timestamp column to every dataframe in the list so that we keep the time information after joining the dataframes."
   ]
  },
  {
   "cell_type": "code",
   "execution_count": 91,
   "id": "25971337",
   "metadata": {},
   "outputs": [
    {
     "data": {
      "text/html": [
       "<div>\n",
       "<style scoped>\n",
       "    .dataframe tbody tr th:only-of-type {\n",
       "        vertical-align: middle;\n",
       "    }\n",
       "\n",
       "    .dataframe tbody tr th {\n",
       "        vertical-align: top;\n",
       "    }\n",
       "\n",
       "    .dataframe thead th {\n",
       "        text-align: right;\n",
       "    }\n",
       "</style>\n",
       "<table border=\"1\" class=\"dataframe\">\n",
       "  <thead>\n",
       "    <tr style=\"text-align: right;\">\n",
       "      <th></th>\n",
       "      <th>url</th>\n",
       "      <th>stamp</th>\n",
       "      <th>table</th>\n",
       "    </tr>\n",
       "  </thead>\n",
       "  <tbody>\n",
       "    <tr>\n",
       "      <th>0</th>\n",
       "      <td>https://travel.state.gov/content/travel/en/leg...</td>\n",
       "      <td>2001-12-01</td>\n",
       "      <td>&lt;table class=\"grid\" border=\"1\" cellspacing=\"0\"...</td>\n",
       "    </tr>\n",
       "    <tr>\n",
       "      <th>1</th>\n",
       "      <td>https://travel.state.gov/content/travel/en/leg...</td>\n",
       "      <td>2002-01-01</td>\n",
       "      <td>&lt;table class=\"grid\" border=\"1\" cellspacing=\"0\"...</td>\n",
       "    </tr>\n",
       "    <tr>\n",
       "      <th>2</th>\n",
       "      <td>https://travel.state.gov/content/travel/en/leg...</td>\n",
       "      <td>2002-02-01</td>\n",
       "      <td>&lt;table class=\"grid\" border=\"1\" cellspacing=\"0\"...</td>\n",
       "    </tr>\n",
       "    <tr>\n",
       "      <th>3</th>\n",
       "      <td>https://travel.state.gov/content/travel/en/leg...</td>\n",
       "      <td>2002-03-01</td>\n",
       "      <td>&lt;table class=\"grid\" border=\"1\" cellspacing=\"0\"...</td>\n",
       "    </tr>\n",
       "    <tr>\n",
       "      <th>4</th>\n",
       "      <td>https://travel.state.gov/content/travel/en/leg...</td>\n",
       "      <td>2002-04-01</td>\n",
       "      <td>&lt;table class=\"grid\" width=\"100%\" cellspacing=\"...</td>\n",
       "    </tr>\n",
       "  </tbody>\n",
       "</table>\n",
       "</div>"
      ],
      "text/plain": [
       "                                                 url       stamp  \\\n",
       "0  https://travel.state.gov/content/travel/en/leg...  2001-12-01   \n",
       "1  https://travel.state.gov/content/travel/en/leg...  2002-01-01   \n",
       "2  https://travel.state.gov/content/travel/en/leg...  2002-02-01   \n",
       "3  https://travel.state.gov/content/travel/en/leg...  2002-03-01   \n",
       "4  https://travel.state.gov/content/travel/en/leg...  2002-04-01   \n",
       "\n",
       "                                               table  \n",
       "0  <table class=\"grid\" border=\"1\" cellspacing=\"0\"...  \n",
       "1  <table class=\"grid\" border=\"1\" cellspacing=\"0\"...  \n",
       "2  <table class=\"grid\" border=\"1\" cellspacing=\"0\"...  \n",
       "3  <table class=\"grid\" border=\"1\" cellspacing=\"0\"...  \n",
       "4  <table class=\"grid\" width=\"100%\" cellspacing=\"...  "
      ]
     },
     "execution_count": 91,
     "metadata": {},
     "output_type": "execute_result"
    }
   ],
   "source": [
    "# This is the table that contains the catelog information of the dataframes\n",
    "info_df_short = info_df_short.reset_index(drop=True)\n",
    "info_df_short.head()"
   ]
  },
  {
   "cell_type": "code",
   "execution_count": 92,
   "id": "c28ad60c",
   "metadata": {},
   "outputs": [
    {
     "name": "stdout",
     "output_type": "stream",
     "text": [
      "CPU times: user 41.6 ms, sys: 3.88 ms, total: 45.5 ms\n",
      "Wall time: 42.3 ms\n"
     ]
    }
   ],
   "source": [
    "%%time\n",
    "for i in range(len(DF_list)):\n",
    "    DF_list[i]['time'] = info_df_short['stamp'][i]"
   ]
  },
  {
   "cell_type": "code",
   "execution_count": 93,
   "id": "4847194c",
   "metadata": {},
   "outputs": [
    {
     "data": {
      "text/plain": [
       "{'Employment-Based': 259,\n",
       " 'All_Chargeability_Except_Listed': 259,\n",
       " 'INDIA': 252,\n",
       " 'MEXICO': 259,\n",
       " 'PHILIPPINES': 259,\n",
       " 'time': 259,\n",
       " 'CHINA-MAINLAND': 222,\n",
       " 'DOMINICAN REPUBLIC': 8,\n",
       " 'EL SALVADOR  GUATEMALA  HONDURAS': 83,\n",
       " 'VIETNAM': 41}"
      ]
     },
     "execution_count": 93,
     "metadata": {},
     "output_type": "execute_result"
    }
   ],
   "source": [
    "# Re-run this, 'time' should appear here with its count equals to the length of the list\n",
    "counts_col = {}\n",
    "\n",
    "# hierarchical(nested) loop over every column name in every dataframe in the list of dataframes\n",
    "for df in DF_list:\n",
    "    for col in df.columns:\n",
    "        if col in counts_col.keys():\n",
    "            counts_col[col] += 1\n",
    "        else:\n",
    "            counts_col[col] = 1\n",
    "# print the resulting dictionary of column name counts\n",
    "counts_col"
   ]
  },
  {
   "cell_type": "markdown",
   "id": "3f70b500",
   "metadata": {},
   "source": [
    "# Merge ALL Dataframes\n",
    "\n",
    "Merge them vertically, although the column names are different across dataframes."
   ]
  },
  {
   "cell_type": "code",
   "execution_count": 94,
   "id": "b10bbe59",
   "metadata": {},
   "outputs": [
    {
     "data": {
      "text/html": [
       "<div>\n",
       "<style scoped>\n",
       "    .dataframe tbody tr th:only-of-type {\n",
       "        vertical-align: middle;\n",
       "    }\n",
       "\n",
       "    .dataframe tbody tr th {\n",
       "        vertical-align: top;\n",
       "    }\n",
       "\n",
       "    .dataframe thead th {\n",
       "        text-align: right;\n",
       "    }\n",
       "</style>\n",
       "<table border=\"1\" class=\"dataframe\">\n",
       "  <thead>\n",
       "    <tr style=\"text-align: right;\">\n",
       "      <th></th>\n",
       "      <th>Employment-Based</th>\n",
       "      <th>All_Chargeability_Except_Listed</th>\n",
       "      <th>INDIA</th>\n",
       "      <th>MEXICO</th>\n",
       "      <th>PHILIPPINES</th>\n",
       "      <th>CHINA-MAINLAND</th>\n",
       "      <th>DOMINICAN REPUBLIC</th>\n",
       "      <th>EL SALVADOR  GUATEMALA  HONDURAS</th>\n",
       "      <th>VIETNAM</th>\n",
       "    </tr>\n",
       "    <tr>\n",
       "      <th>time</th>\n",
       "      <th></th>\n",
       "      <th></th>\n",
       "      <th></th>\n",
       "      <th></th>\n",
       "      <th></th>\n",
       "      <th></th>\n",
       "      <th></th>\n",
       "      <th></th>\n",
       "      <th></th>\n",
       "    </tr>\n",
       "  </thead>\n",
       "  <tbody>\n",
       "    <tr>\n",
       "      <th>2001-12-01</th>\n",
       "      <td>1st</td>\n",
       "      <td>C</td>\n",
       "      <td>C</td>\n",
       "      <td>C</td>\n",
       "      <td>C</td>\n",
       "      <td>NaN</td>\n",
       "      <td>NaN</td>\n",
       "      <td>NaN</td>\n",
       "      <td>NaN</td>\n",
       "    </tr>\n",
       "    <tr>\n",
       "      <th>2001-12-01</th>\n",
       "      <td>2nd</td>\n",
       "      <td>C</td>\n",
       "      <td>C</td>\n",
       "      <td>C</td>\n",
       "      <td>C</td>\n",
       "      <td>NaN</td>\n",
       "      <td>NaN</td>\n",
       "      <td>NaN</td>\n",
       "      <td>NaN</td>\n",
       "    </tr>\n",
       "    <tr>\n",
       "      <th>2001-12-01</th>\n",
       "      <td>3rd</td>\n",
       "      <td>C</td>\n",
       "      <td>C</td>\n",
       "      <td>C</td>\n",
       "      <td>C</td>\n",
       "      <td>NaN</td>\n",
       "      <td>NaN</td>\n",
       "      <td>NaN</td>\n",
       "      <td>NaN</td>\n",
       "    </tr>\n",
       "    <tr>\n",
       "      <th>2001-12-01</th>\n",
       "      <td>Other Workers</td>\n",
       "      <td>C</td>\n",
       "      <td>C</td>\n",
       "      <td>C</td>\n",
       "      <td>C</td>\n",
       "      <td>NaN</td>\n",
       "      <td>NaN</td>\n",
       "      <td>NaN</td>\n",
       "      <td>NaN</td>\n",
       "    </tr>\n",
       "    <tr>\n",
       "      <th>2001-12-01</th>\n",
       "      <td>4th</td>\n",
       "      <td>C</td>\n",
       "      <td>C</td>\n",
       "      <td>C</td>\n",
       "      <td>C</td>\n",
       "      <td>NaN</td>\n",
       "      <td>NaN</td>\n",
       "      <td>NaN</td>\n",
       "      <td>NaN</td>\n",
       "    </tr>\n",
       "    <tr>\n",
       "      <th>...</th>\n",
       "      <td>...</td>\n",
       "      <td>...</td>\n",
       "      <td>...</td>\n",
       "      <td>...</td>\n",
       "      <td>...</td>\n",
       "      <td>...</td>\n",
       "      <td>...</td>\n",
       "      <td>...</td>\n",
       "      <td>...</td>\n",
       "    </tr>\n",
       "    <tr>\n",
       "      <th>2023-06-01</th>\n",
       "      <td>Certain Religious Workers</td>\n",
       "      <td>01SEP18</td>\n",
       "      <td>01SEP18</td>\n",
       "      <td>01SEP18</td>\n",
       "      <td>01SEP18</td>\n",
       "      <td>01SEP18</td>\n",
       "      <td>NaN</td>\n",
       "      <td>NaN</td>\n",
       "      <td>NaN</td>\n",
       "    </tr>\n",
       "    <tr>\n",
       "      <th>2023-06-01</th>\n",
       "      <td>5th Unreserved (including C5, T5, I5, R5)</td>\n",
       "      <td>C</td>\n",
       "      <td>01APR17</td>\n",
       "      <td>C</td>\n",
       "      <td>C</td>\n",
       "      <td>08SEP15</td>\n",
       "      <td>NaN</td>\n",
       "      <td>NaN</td>\n",
       "      <td>NaN</td>\n",
       "    </tr>\n",
       "    <tr>\n",
       "      <th>2023-06-01</th>\n",
       "      <td>5th Set Aside: Rural (20%)</td>\n",
       "      <td>C</td>\n",
       "      <td>C</td>\n",
       "      <td>C</td>\n",
       "      <td>C</td>\n",
       "      <td>C</td>\n",
       "      <td>NaN</td>\n",
       "      <td>NaN</td>\n",
       "      <td>NaN</td>\n",
       "    </tr>\n",
       "    <tr>\n",
       "      <th>2023-06-01</th>\n",
       "      <td>5th Set Aside: High Unemployment (10%)</td>\n",
       "      <td>C</td>\n",
       "      <td>C</td>\n",
       "      <td>C</td>\n",
       "      <td>C</td>\n",
       "      <td>C</td>\n",
       "      <td>NaN</td>\n",
       "      <td>NaN</td>\n",
       "      <td>NaN</td>\n",
       "    </tr>\n",
       "    <tr>\n",
       "      <th>2023-06-01</th>\n",
       "      <td>5th Set Aside: Infrastructure (2%)</td>\n",
       "      <td>C</td>\n",
       "      <td>C</td>\n",
       "      <td>C</td>\n",
       "      <td>C</td>\n",
       "      <td>C</td>\n",
       "      <td>NaN</td>\n",
       "      <td>NaN</td>\n",
       "      <td>NaN</td>\n",
       "    </tr>\n",
       "  </tbody>\n",
       "</table>\n",
       "<p>2096 rows × 9 columns</p>\n",
       "</div>"
      ],
      "text/plain": [
       "                                     Employment-Based  \\\n",
       "time                                                    \n",
       "2001-12-01                                        1st   \n",
       "2001-12-01                                        2nd   \n",
       "2001-12-01                                        3rd   \n",
       "2001-12-01                              Other Workers   \n",
       "2001-12-01                                        4th   \n",
       "...                                               ...   \n",
       "2023-06-01                  Certain Religious Workers   \n",
       "2023-06-01  5th Unreserved (including C5, T5, I5, R5)   \n",
       "2023-06-01                 5th Set Aside: Rural (20%)   \n",
       "2023-06-01     5th Set Aside: High Unemployment (10%)   \n",
       "2023-06-01         5th Set Aside: Infrastructure (2%)   \n",
       "\n",
       "           All_Chargeability_Except_Listed    INDIA   MEXICO PHILIPPINES  \\\n",
       "time                                                                       \n",
       "2001-12-01                               C        C        C           C   \n",
       "2001-12-01                               C        C        C           C   \n",
       "2001-12-01                               C        C        C           C   \n",
       "2001-12-01                               C        C        C           C   \n",
       "2001-12-01                               C        C        C           C   \n",
       "...                                    ...      ...      ...         ...   \n",
       "2023-06-01                         01SEP18  01SEP18  01SEP18     01SEP18   \n",
       "2023-06-01                               C  01APR17        C           C   \n",
       "2023-06-01                               C        C        C           C   \n",
       "2023-06-01                               C        C        C           C   \n",
       "2023-06-01                               C        C        C           C   \n",
       "\n",
       "           CHINA-MAINLAND DOMINICAN REPUBLIC EL SALVADOR  GUATEMALA  HONDURAS  \\\n",
       "time                                                                            \n",
       "2001-12-01            NaN                NaN                              NaN   \n",
       "2001-12-01            NaN                NaN                              NaN   \n",
       "2001-12-01            NaN                NaN                              NaN   \n",
       "2001-12-01            NaN                NaN                              NaN   \n",
       "2001-12-01            NaN                NaN                              NaN   \n",
       "...                   ...                ...                              ...   \n",
       "2023-06-01        01SEP18                NaN                              NaN   \n",
       "2023-06-01        08SEP15                NaN                              NaN   \n",
       "2023-06-01              C                NaN                              NaN   \n",
       "2023-06-01              C                NaN                              NaN   \n",
       "2023-06-01              C                NaN                              NaN   \n",
       "\n",
       "           VIETNAM  \n",
       "time                \n",
       "2001-12-01     NaN  \n",
       "2001-12-01     NaN  \n",
       "2001-12-01     NaN  \n",
       "2001-12-01     NaN  \n",
       "2001-12-01     NaN  \n",
       "...            ...  \n",
       "2023-06-01     NaN  \n",
       "2023-06-01     NaN  \n",
       "2023-06-01     NaN  \n",
       "2023-06-01     NaN  \n",
       "2023-06-01     NaN  \n",
       "\n",
       "[2096 rows x 9 columns]"
      ]
     },
     "execution_count": 94,
     "metadata": {},
     "output_type": "execute_result"
    }
   ],
   "source": [
    "# concatenate all dataframes via a generator\n",
    "# it is wise to temporarily make the 'time' variable the index\n",
    "# so that we can later add the 'time' column to the end of the long dataframe\n",
    "pd.concat([df for df in DF_list]).set_index(['time'])"
   ]
  },
  {
   "cell_type": "code",
   "execution_count": 95,
   "id": "a20ad48d",
   "metadata": {},
   "outputs": [],
   "source": [
    "alldata = pd.concat([df for df in DF_list]).set_index(['time'])"
   ]
  },
  {
   "cell_type": "code",
   "execution_count": 96,
   "id": "c7cb1553",
   "metadata": {},
   "outputs": [
    {
     "data": {
      "text/plain": [
       "INDIA                                 56\n",
       "CHINA-MAINLAND                       295\n",
       "DOMINICAN REPUBLIC                  2025\n",
       "EL SALVADOR  GUATEMALA  HONDURAS    1409\n",
       "VIETNAM                             1768\n",
       "dtype: int64"
      ]
     },
     "execution_count": 96,
     "metadata": {},
     "output_type": "execute_result"
    }
   ],
   "source": [
    "# Confirm that all NaN are in the columns of countries/regions\n",
    "alldata.isna().sum()[alldata.isna().sum()>0]"
   ]
  },
  {
   "cell_type": "code",
   "execution_count": 97,
   "id": "2dca208b",
   "metadata": {},
   "outputs": [],
   "source": [
    "alldata = alldata.fillna('C')\n",
    "alldata['time'] = alldata.index\n",
    "alldata = alldata.reset_index(drop = True)"
   ]
  },
  {
   "cell_type": "code",
   "execution_count": 98,
   "id": "6a80d902",
   "metadata": {},
   "outputs": [
    {
     "data": {
      "text/html": [
       "<div>\n",
       "<style scoped>\n",
       "    .dataframe tbody tr th:only-of-type {\n",
       "        vertical-align: middle;\n",
       "    }\n",
       "\n",
       "    .dataframe tbody tr th {\n",
       "        vertical-align: top;\n",
       "    }\n",
       "\n",
       "    .dataframe thead th {\n",
       "        text-align: right;\n",
       "    }\n",
       "</style>\n",
       "<table border=\"1\" class=\"dataframe\">\n",
       "  <thead>\n",
       "    <tr style=\"text-align: right;\">\n",
       "      <th></th>\n",
       "      <th>Employment-Based</th>\n",
       "      <th>All_Chargeability_Except_Listed</th>\n",
       "      <th>INDIA</th>\n",
       "      <th>MEXICO</th>\n",
       "      <th>PHILIPPINES</th>\n",
       "      <th>CHINA-MAINLAND</th>\n",
       "      <th>DOMINICAN REPUBLIC</th>\n",
       "      <th>EL SALVADOR  GUATEMALA  HONDURAS</th>\n",
       "      <th>VIETNAM</th>\n",
       "      <th>time</th>\n",
       "    </tr>\n",
       "  </thead>\n",
       "  <tbody>\n",
       "    <tr>\n",
       "      <th>0</th>\n",
       "      <td>1st</td>\n",
       "      <td>C</td>\n",
       "      <td>C</td>\n",
       "      <td>C</td>\n",
       "      <td>C</td>\n",
       "      <td>C</td>\n",
       "      <td>C</td>\n",
       "      <td>C</td>\n",
       "      <td>C</td>\n",
       "      <td>2001-12-01</td>\n",
       "    </tr>\n",
       "    <tr>\n",
       "      <th>1</th>\n",
       "      <td>2nd</td>\n",
       "      <td>C</td>\n",
       "      <td>C</td>\n",
       "      <td>C</td>\n",
       "      <td>C</td>\n",
       "      <td>C</td>\n",
       "      <td>C</td>\n",
       "      <td>C</td>\n",
       "      <td>C</td>\n",
       "      <td>2001-12-01</td>\n",
       "    </tr>\n",
       "    <tr>\n",
       "      <th>2</th>\n",
       "      <td>3rd</td>\n",
       "      <td>C</td>\n",
       "      <td>C</td>\n",
       "      <td>C</td>\n",
       "      <td>C</td>\n",
       "      <td>C</td>\n",
       "      <td>C</td>\n",
       "      <td>C</td>\n",
       "      <td>C</td>\n",
       "      <td>2001-12-01</td>\n",
       "    </tr>\n",
       "    <tr>\n",
       "      <th>3</th>\n",
       "      <td>Other Workers</td>\n",
       "      <td>C</td>\n",
       "      <td>C</td>\n",
       "      <td>C</td>\n",
       "      <td>C</td>\n",
       "      <td>C</td>\n",
       "      <td>C</td>\n",
       "      <td>C</td>\n",
       "      <td>C</td>\n",
       "      <td>2001-12-01</td>\n",
       "    </tr>\n",
       "    <tr>\n",
       "      <th>4</th>\n",
       "      <td>4th</td>\n",
       "      <td>C</td>\n",
       "      <td>C</td>\n",
       "      <td>C</td>\n",
       "      <td>C</td>\n",
       "      <td>C</td>\n",
       "      <td>C</td>\n",
       "      <td>C</td>\n",
       "      <td>C</td>\n",
       "      <td>2001-12-01</td>\n",
       "    </tr>\n",
       "    <tr>\n",
       "      <th>...</th>\n",
       "      <td>...</td>\n",
       "      <td>...</td>\n",
       "      <td>...</td>\n",
       "      <td>...</td>\n",
       "      <td>...</td>\n",
       "      <td>...</td>\n",
       "      <td>...</td>\n",
       "      <td>...</td>\n",
       "      <td>...</td>\n",
       "      <td>...</td>\n",
       "    </tr>\n",
       "    <tr>\n",
       "      <th>2091</th>\n",
       "      <td>Certain Religious Workers</td>\n",
       "      <td>01SEP18</td>\n",
       "      <td>01SEP18</td>\n",
       "      <td>01SEP18</td>\n",
       "      <td>01SEP18</td>\n",
       "      <td>01SEP18</td>\n",
       "      <td>C</td>\n",
       "      <td>C</td>\n",
       "      <td>C</td>\n",
       "      <td>2023-06-01</td>\n",
       "    </tr>\n",
       "    <tr>\n",
       "      <th>2092</th>\n",
       "      <td>5th Unreserved (including C5, T5, I5, R5)</td>\n",
       "      <td>C</td>\n",
       "      <td>01APR17</td>\n",
       "      <td>C</td>\n",
       "      <td>C</td>\n",
       "      <td>08SEP15</td>\n",
       "      <td>C</td>\n",
       "      <td>C</td>\n",
       "      <td>C</td>\n",
       "      <td>2023-06-01</td>\n",
       "    </tr>\n",
       "    <tr>\n",
       "      <th>2093</th>\n",
       "      <td>5th Set Aside: Rural (20%)</td>\n",
       "      <td>C</td>\n",
       "      <td>C</td>\n",
       "      <td>C</td>\n",
       "      <td>C</td>\n",
       "      <td>C</td>\n",
       "      <td>C</td>\n",
       "      <td>C</td>\n",
       "      <td>C</td>\n",
       "      <td>2023-06-01</td>\n",
       "    </tr>\n",
       "    <tr>\n",
       "      <th>2094</th>\n",
       "      <td>5th Set Aside: High Unemployment (10%)</td>\n",
       "      <td>C</td>\n",
       "      <td>C</td>\n",
       "      <td>C</td>\n",
       "      <td>C</td>\n",
       "      <td>C</td>\n",
       "      <td>C</td>\n",
       "      <td>C</td>\n",
       "      <td>C</td>\n",
       "      <td>2023-06-01</td>\n",
       "    </tr>\n",
       "    <tr>\n",
       "      <th>2095</th>\n",
       "      <td>5th Set Aside: Infrastructure (2%)</td>\n",
       "      <td>C</td>\n",
       "      <td>C</td>\n",
       "      <td>C</td>\n",
       "      <td>C</td>\n",
       "      <td>C</td>\n",
       "      <td>C</td>\n",
       "      <td>C</td>\n",
       "      <td>C</td>\n",
       "      <td>2023-06-01</td>\n",
       "    </tr>\n",
       "  </tbody>\n",
       "</table>\n",
       "<p>2096 rows × 10 columns</p>\n",
       "</div>"
      ],
      "text/plain": [
       "                               Employment-Based  \\\n",
       "0                                           1st   \n",
       "1                                           2nd   \n",
       "2                                           3rd   \n",
       "3                                 Other Workers   \n",
       "4                                           4th   \n",
       "...                                         ...   \n",
       "2091                  Certain Religious Workers   \n",
       "2092  5th Unreserved (including C5, T5, I5, R5)   \n",
       "2093                 5th Set Aside: Rural (20%)   \n",
       "2094     5th Set Aside: High Unemployment (10%)   \n",
       "2095         5th Set Aside: Infrastructure (2%)   \n",
       "\n",
       "     All_Chargeability_Except_Listed    INDIA   MEXICO PHILIPPINES  \\\n",
       "0                                  C        C        C           C   \n",
       "1                                  C        C        C           C   \n",
       "2                                  C        C        C           C   \n",
       "3                                  C        C        C           C   \n",
       "4                                  C        C        C           C   \n",
       "...                              ...      ...      ...         ...   \n",
       "2091                         01SEP18  01SEP18  01SEP18     01SEP18   \n",
       "2092                               C  01APR17        C           C   \n",
       "2093                               C        C        C           C   \n",
       "2094                               C        C        C           C   \n",
       "2095                               C        C        C           C   \n",
       "\n",
       "     CHINA-MAINLAND DOMINICAN REPUBLIC EL SALVADOR  GUATEMALA  HONDURAS  \\\n",
       "0                 C                  C                                C   \n",
       "1                 C                  C                                C   \n",
       "2                 C                  C                                C   \n",
       "3                 C                  C                                C   \n",
       "4                 C                  C                                C   \n",
       "...             ...                ...                              ...   \n",
       "2091        01SEP18                  C                                C   \n",
       "2092        08SEP15                  C                                C   \n",
       "2093              C                  C                                C   \n",
       "2094              C                  C                                C   \n",
       "2095              C                  C                                C   \n",
       "\n",
       "     VIETNAM        time  \n",
       "0          C  2001-12-01  \n",
       "1          C  2001-12-01  \n",
       "2          C  2001-12-01  \n",
       "3          C  2001-12-01  \n",
       "4          C  2001-12-01  \n",
       "...      ...         ...  \n",
       "2091       C  2023-06-01  \n",
       "2092       C  2023-06-01  \n",
       "2093       C  2023-06-01  \n",
       "2094       C  2023-06-01  \n",
       "2095       C  2023-06-01  \n",
       "\n",
       "[2096 rows x 10 columns]"
      ]
     },
     "execution_count": 98,
     "metadata": {},
     "output_type": "execute_result"
    }
   ],
   "source": [
    "alldata"
   ]
  },
  {
   "cell_type": "code",
   "execution_count": 99,
   "id": "3eaf95a1",
   "metadata": {},
   "outputs": [],
   "source": [
    "alldata.to_csv(\"visa_bulletin.csv\", index=False)"
   ]
  },
  {
   "cell_type": "markdown",
   "id": "0c854067",
   "metadata": {},
   "source": [
    "# Data Manipulation"
   ]
  },
  {
   "cell_type": "code",
   "execution_count": 100,
   "id": "6ecbc7b2",
   "metadata": {},
   "outputs": [],
   "source": [
    "# make a copy of the merged dataframe\n",
    "df_work = alldata.copy(deep = True)"
   ]
  },
  {
   "cell_type": "markdown",
   "id": "ac145c7b",
   "metadata": {},
   "source": [
    "## Conditional Processing (index & datetime)"
   ]
  },
  {
   "cell_type": "code",
   "execution_count": 101,
   "id": "17156360",
   "metadata": {},
   "outputs": [],
   "source": [
    "# Create a country list whose\n",
    "country_list = ['All_Chargeability_Except_Listed', 'INDIA', 'MEXICO', 'PHILIPPINES',\n",
    "       'CHINA-MAINLAND', 'DOMINICAN REPUBLIC',\n",
    "       'EL SALVADOR  GUATEMALA  HONDURAS', 'VIETNAM']"
   ]
  },
  {
   "cell_type": "markdown",
   "id": "31df866e",
   "metadata": {},
   "source": [
    "We see that there're two types of values. The first type is the single-letter (in most cases, capital letter \"C\") place holder. The second type is a 7-character date, e.g., \"08SEP15\". I want to use the date information to calculate the time difference from the \"actual time\" (as given in the 'time' column).\n",
    "\n",
    "We need conditional processing of the values: if it is a single-letter place holder, ignore it for now; if it is a date, read it as a date and then calculate the time difference."
   ]
  },
  {
   "cell_type": "code",
   "execution_count": 102,
   "id": "7b593364",
   "metadata": {},
   "outputs": [
    {
     "data": {
      "text/plain": [
       "{1: 1611, 7: 485}"
      ]
     },
     "execution_count": 102,
     "metadata": {},
     "output_type": "execute_result"
    }
   ],
   "source": [
    "# Count the number of digits of all cells in a column\n",
    "lens = []\n",
    "for row in df_work['MEXICO']:\n",
    "    length = len(row)\n",
    "    lens.append(length)\n",
    "# use np.unique(, return_counts = True), then zip it to a tuple, and create a dictionary    \n",
    "dict(zip(*np.unique(lens, return_counts=True)))    "
   ]
  },
  {
   "cell_type": "code",
   "execution_count": 103,
   "id": "66a3f82a",
   "metadata": {},
   "outputs": [
    {
     "data": {
      "text/plain": [
       "{1: 13540, 7: 3228}"
      ]
     },
     "execution_count": 103,
     "metadata": {},
     "output_type": "execute_result"
    }
   ],
   "source": [
    "# apply it to all columns of countries/regions\n",
    "lens = []\n",
    "for col in df_work[country_list]:\n",
    "    for row in df_work[col]:\n",
    "        length = len(row)\n",
    "        lens.append(length)\n",
    "dict(zip(*np.unique(lens, return_counts=True)))         "
   ]
  },
  {
   "cell_type": "markdown",
   "id": "4c76d0cf",
   "metadata": {},
   "source": [
    "The above frequency distribution of number of characters in the observations across all country columns helps determine the conditions for conditional processing.\n",
    "\n",
    "If all observations in the column are dates, we can use `pd.to_datetime(df[col], infer_datetime_format = True, errors = 'coerce'|'ignore')`. But here, we use conditional processing at the unit of cell."
   ]
  },
  {
   "cell_type": "markdown",
   "id": "13c53d4f",
   "metadata": {},
   "source": [
    "Test date format conversion using single value:"
   ]
  },
  {
   "cell_type": "code",
   "execution_count": 104,
   "id": "1f5e100f",
   "metadata": {},
   "outputs": [
    {
     "data": {
      "text/plain": [
       "'2015-09-08'"
      ]
     },
     "execution_count": 104,
     "metadata": {},
     "output_type": "execute_result"
    }
   ],
   "source": [
    "datetime.strptime('08SEP15', \"%d%b%y\").strftime(\"%Y-%m-%d\")"
   ]
  },
  {
   "cell_type": "markdown",
   "id": "d76ad063",
   "metadata": {},
   "source": [
    "Get the numeric indeces for both row and column:"
   ]
  },
  {
   "cell_type": "code",
   "execution_count": 105,
   "id": "5325ecd2",
   "metadata": {},
   "outputs": [
    {
     "data": {
      "text/plain": [
       "[1, 2, 3, 4, 5, 6, 7, 8]"
      ]
     },
     "execution_count": 105,
     "metadata": {},
     "output_type": "execute_result"
    }
   ],
   "source": [
    "# get column index through list comprehension\n",
    "country_list_index = [df_work.columns.get_loc(c) for c in country_list if c in df_work]\n",
    "country_list_index"
   ]
  },
  {
   "cell_type": "code",
   "execution_count": 106,
   "id": "f944ccc2",
   "metadata": {},
   "outputs": [
    {
     "data": {
      "text/plain": [
       "range(0, 2096)"
      ]
     },
     "execution_count": 106,
     "metadata": {},
     "output_type": "execute_result"
    }
   ],
   "source": [
    "# get row index range\n",
    "range(len(df_work))"
   ]
  },
  {
   "cell_type": "code",
   "execution_count": 107,
   "id": "fb837c14",
   "metadata": {},
   "outputs": [],
   "source": [
    "# nested loop over the i th row and the j th column\n",
    "for i in range(len(df_work)):\n",
    "    for j in country_list_index:\n",
    "        if len(df_work.iloc[i,j]) == 7:\n",
    "            df_work.iloc[i,j] = datetime.strptime(df_work.iloc[i,j], \"%d%b%y\").strftime(\"%Y-%m-%d\")       "
   ]
  },
  {
   "cell_type": "code",
   "execution_count": 108,
   "id": "8a3827dc",
   "metadata": {},
   "outputs": [
    {
     "data": {
      "text/html": [
       "<div>\n",
       "<style scoped>\n",
       "    .dataframe tbody tr th:only-of-type {\n",
       "        vertical-align: middle;\n",
       "    }\n",
       "\n",
       "    .dataframe tbody tr th {\n",
       "        vertical-align: top;\n",
       "    }\n",
       "\n",
       "    .dataframe thead th {\n",
       "        text-align: right;\n",
       "    }\n",
       "</style>\n",
       "<table border=\"1\" class=\"dataframe\">\n",
       "  <thead>\n",
       "    <tr style=\"text-align: right;\">\n",
       "      <th></th>\n",
       "      <th>Employment-Based</th>\n",
       "      <th>All_Chargeability_Except_Listed</th>\n",
       "      <th>INDIA</th>\n",
       "      <th>MEXICO</th>\n",
       "      <th>PHILIPPINES</th>\n",
       "      <th>CHINA-MAINLAND</th>\n",
       "      <th>DOMINICAN REPUBLIC</th>\n",
       "      <th>EL SALVADOR  GUATEMALA  HONDURAS</th>\n",
       "      <th>VIETNAM</th>\n",
       "      <th>time</th>\n",
       "    </tr>\n",
       "  </thead>\n",
       "  <tbody>\n",
       "    <tr>\n",
       "      <th>0</th>\n",
       "      <td>1st</td>\n",
       "      <td>C</td>\n",
       "      <td>C</td>\n",
       "      <td>C</td>\n",
       "      <td>C</td>\n",
       "      <td>C</td>\n",
       "      <td>C</td>\n",
       "      <td>C</td>\n",
       "      <td>C</td>\n",
       "      <td>2001-12-01</td>\n",
       "    </tr>\n",
       "    <tr>\n",
       "      <th>1</th>\n",
       "      <td>2nd</td>\n",
       "      <td>C</td>\n",
       "      <td>C</td>\n",
       "      <td>C</td>\n",
       "      <td>C</td>\n",
       "      <td>C</td>\n",
       "      <td>C</td>\n",
       "      <td>C</td>\n",
       "      <td>C</td>\n",
       "      <td>2001-12-01</td>\n",
       "    </tr>\n",
       "    <tr>\n",
       "      <th>2</th>\n",
       "      <td>3rd</td>\n",
       "      <td>C</td>\n",
       "      <td>C</td>\n",
       "      <td>C</td>\n",
       "      <td>C</td>\n",
       "      <td>C</td>\n",
       "      <td>C</td>\n",
       "      <td>C</td>\n",
       "      <td>C</td>\n",
       "      <td>2001-12-01</td>\n",
       "    </tr>\n",
       "    <tr>\n",
       "      <th>3</th>\n",
       "      <td>Other Workers</td>\n",
       "      <td>C</td>\n",
       "      <td>C</td>\n",
       "      <td>C</td>\n",
       "      <td>C</td>\n",
       "      <td>C</td>\n",
       "      <td>C</td>\n",
       "      <td>C</td>\n",
       "      <td>C</td>\n",
       "      <td>2001-12-01</td>\n",
       "    </tr>\n",
       "    <tr>\n",
       "      <th>4</th>\n",
       "      <td>4th</td>\n",
       "      <td>C</td>\n",
       "      <td>C</td>\n",
       "      <td>C</td>\n",
       "      <td>C</td>\n",
       "      <td>C</td>\n",
       "      <td>C</td>\n",
       "      <td>C</td>\n",
       "      <td>C</td>\n",
       "      <td>2001-12-01</td>\n",
       "    </tr>\n",
       "    <tr>\n",
       "      <th>...</th>\n",
       "      <td>...</td>\n",
       "      <td>...</td>\n",
       "      <td>...</td>\n",
       "      <td>...</td>\n",
       "      <td>...</td>\n",
       "      <td>...</td>\n",
       "      <td>...</td>\n",
       "      <td>...</td>\n",
       "      <td>...</td>\n",
       "      <td>...</td>\n",
       "    </tr>\n",
       "    <tr>\n",
       "      <th>2091</th>\n",
       "      <td>Certain Religious Workers</td>\n",
       "      <td>2018-09-01</td>\n",
       "      <td>2018-09-01</td>\n",
       "      <td>2018-09-01</td>\n",
       "      <td>2018-09-01</td>\n",
       "      <td>2018-09-01</td>\n",
       "      <td>C</td>\n",
       "      <td>C</td>\n",
       "      <td>C</td>\n",
       "      <td>2023-06-01</td>\n",
       "    </tr>\n",
       "    <tr>\n",
       "      <th>2092</th>\n",
       "      <td>5th Unreserved (including C5, T5, I5, R5)</td>\n",
       "      <td>C</td>\n",
       "      <td>2017-04-01</td>\n",
       "      <td>C</td>\n",
       "      <td>C</td>\n",
       "      <td>2015-09-08</td>\n",
       "      <td>C</td>\n",
       "      <td>C</td>\n",
       "      <td>C</td>\n",
       "      <td>2023-06-01</td>\n",
       "    </tr>\n",
       "    <tr>\n",
       "      <th>2093</th>\n",
       "      <td>5th Set Aside: Rural (20%)</td>\n",
       "      <td>C</td>\n",
       "      <td>C</td>\n",
       "      <td>C</td>\n",
       "      <td>C</td>\n",
       "      <td>C</td>\n",
       "      <td>C</td>\n",
       "      <td>C</td>\n",
       "      <td>C</td>\n",
       "      <td>2023-06-01</td>\n",
       "    </tr>\n",
       "    <tr>\n",
       "      <th>2094</th>\n",
       "      <td>5th Set Aside: High Unemployment (10%)</td>\n",
       "      <td>C</td>\n",
       "      <td>C</td>\n",
       "      <td>C</td>\n",
       "      <td>C</td>\n",
       "      <td>C</td>\n",
       "      <td>C</td>\n",
       "      <td>C</td>\n",
       "      <td>C</td>\n",
       "      <td>2023-06-01</td>\n",
       "    </tr>\n",
       "    <tr>\n",
       "      <th>2095</th>\n",
       "      <td>5th Set Aside: Infrastructure (2%)</td>\n",
       "      <td>C</td>\n",
       "      <td>C</td>\n",
       "      <td>C</td>\n",
       "      <td>C</td>\n",
       "      <td>C</td>\n",
       "      <td>C</td>\n",
       "      <td>C</td>\n",
       "      <td>C</td>\n",
       "      <td>2023-06-01</td>\n",
       "    </tr>\n",
       "  </tbody>\n",
       "</table>\n",
       "<p>2096 rows × 10 columns</p>\n",
       "</div>"
      ],
      "text/plain": [
       "                               Employment-Based  \\\n",
       "0                                           1st   \n",
       "1                                           2nd   \n",
       "2                                           3rd   \n",
       "3                                 Other Workers   \n",
       "4                                           4th   \n",
       "...                                         ...   \n",
       "2091                  Certain Religious Workers   \n",
       "2092  5th Unreserved (including C5, T5, I5, R5)   \n",
       "2093                 5th Set Aside: Rural (20%)   \n",
       "2094     5th Set Aside: High Unemployment (10%)   \n",
       "2095         5th Set Aside: Infrastructure (2%)   \n",
       "\n",
       "     All_Chargeability_Except_Listed       INDIA      MEXICO PHILIPPINES  \\\n",
       "0                                  C           C           C           C   \n",
       "1                                  C           C           C           C   \n",
       "2                                  C           C           C           C   \n",
       "3                                  C           C           C           C   \n",
       "4                                  C           C           C           C   \n",
       "...                              ...         ...         ...         ...   \n",
       "2091                      2018-09-01  2018-09-01  2018-09-01  2018-09-01   \n",
       "2092                               C  2017-04-01           C           C   \n",
       "2093                               C           C           C           C   \n",
       "2094                               C           C           C           C   \n",
       "2095                               C           C           C           C   \n",
       "\n",
       "     CHINA-MAINLAND DOMINICAN REPUBLIC EL SALVADOR  GUATEMALA  HONDURAS  \\\n",
       "0                 C                  C                                C   \n",
       "1                 C                  C                                C   \n",
       "2                 C                  C                                C   \n",
       "3                 C                  C                                C   \n",
       "4                 C                  C                                C   \n",
       "...             ...                ...                              ...   \n",
       "2091     2018-09-01                  C                                C   \n",
       "2092     2015-09-08                  C                                C   \n",
       "2093              C                  C                                C   \n",
       "2094              C                  C                                C   \n",
       "2095              C                  C                                C   \n",
       "\n",
       "     VIETNAM        time  \n",
       "0          C  2001-12-01  \n",
       "1          C  2001-12-01  \n",
       "2          C  2001-12-01  \n",
       "3          C  2001-12-01  \n",
       "4          C  2001-12-01  \n",
       "...      ...         ...  \n",
       "2091       C  2023-06-01  \n",
       "2092       C  2023-06-01  \n",
       "2093       C  2023-06-01  \n",
       "2094       C  2023-06-01  \n",
       "2095       C  2023-06-01  \n",
       "\n",
       "[2096 rows x 10 columns]"
      ]
     },
     "execution_count": 108,
     "metadata": {},
     "output_type": "execute_result"
    }
   ],
   "source": [
    "df_work"
   ]
  },
  {
   "cell_type": "markdown",
   "id": "b50631a5",
   "metadata": {
    "heading_collapsed": true
   },
   "source": [
    "## Create a Finite List of Values"
   ]
  },
  {
   "cell_type": "code",
   "execution_count": 109,
   "id": "dff13124",
   "metadata": {
    "hidden": true
   },
   "outputs": [
    {
     "data": {
      "text/plain": [
       "{'1st': 259,\n",
       " '2nd': 259,\n",
       " '3rd': 259,\n",
       " '4th': 259,\n",
       " '5th': 113,\n",
       " '5th  Targeted  Employment Areas/  Regional Centers  and Pilot Programs': 1,\n",
       " '5th  Targeted  Employment Areas/  Regional Centers and  Pilot Programs': 1,\n",
       " '5th  Targeted  Employment Areas/ Regional Centers and Pilot Programs': 1,\n",
       " '5th  Targeted\\xa0Employment Areas/  Regional Centers and Pilot Programs': 1,\n",
       " '5th Non-Regional Center (C5 and T5)': 5,\n",
       " '5th Non-Regional\\xa0Center (C5 and T5)': 55,\n",
       " '5th Pilot Progams': 1,\n",
       " '5th Pilot Programs': 19,\n",
       " '5th Regional Center (I5 and R5)': 3,\n",
       " '5th Regional\\xa0Center (I5 and R5)': 1,\n",
       " '5th Set Aside: High Unemployment (10%)': 14,\n",
       " '5th Set Aside: Infrastructure (2%)': 14,\n",
       " '5th Set Aside: Rural (20%)': 14,\n",
       " '5th Targeted Employment Areas/ Regional Centers': 1,\n",
       " '5th Targeted Employment Areas/ Regional Centers and Pilot Programs': 5,\n",
       " '5th Targeted Employment Areas/ Regional Centers and Pilot\\xa0Programs': 1,\n",
       " '5th Targeted Employment Areas/Regional Centers and Pilot Programs': 1,\n",
       " '5th Targeted EmploymentAreas/ Regional Centers and Pilot Programs': 40,\n",
       " '5th Unreserved (C5, T5, and all others)': 1,\n",
       " '5th Unreserved (including C5, T5, I5, R5)': 13,\n",
       " '5th\\xa0Non-Regional\\xa0Center (C5 and T5)': 20,\n",
       " '5th\\xa0Regional\\xa0Center (I5 and R5)': 76,\n",
       " '5th\\xa0Unreserved (I5 and R5)': 1,\n",
       " 'Certain Religious  Workers': 8,\n",
       " 'Certain Religious Workers': 248,\n",
       " 'Certain Religiuos  Workers': 1,\n",
       " 'Employment-Based': 1,\n",
       " 'Iraqi & Afghani Translators': 8,\n",
       " 'Other Worker': 1,\n",
       " 'Other Workers': 246,\n",
       " 'Other Workers*': 2,\n",
       " 'Other\\xa0Workers': 10,\n",
       " 'Schedule A  Workers': 1,\n",
       " 'Schedule A Workers': 15,\n",
       " 'Schedule A\\xa0Workers': 1,\n",
       " 'Schedule\\xa0A\\xa0Workers': 3,\n",
       " 'Targeted Employ-  ment Areas/  Regional Centers': 1,\n",
       " 'Targeted Employ-ment Areas/Regional Centers': 2,\n",
       " 'Targeted Employment Areas /  Regional Centers': 1,\n",
       " 'Targeted Employment Areas/  Regional Centers': 1,\n",
       " 'Targeted Employment Areas/ Regional Centers': 32,\n",
       " 'Targeted Employment Areas/Regional Centers': 57,\n",
       " 'Targeted\\xa0Employment Areas': 1,\n",
       " 'Targeted\\xa0Employment Areas/ Regional Centers': 15,\n",
       " 'Targeted\\xa0Employment Areas/Regional Centers': 3}"
      ]
     },
     "execution_count": 109,
     "metadata": {},
     "output_type": "execute_result"
    }
   ],
   "source": [
    "eb_dict = dict(zip(*np.unique(df_work['Employment-Based'], return_counts=True)))\n",
    "eb_dict"
   ]
  },
  {
   "cell_type": "code",
   "execution_count": 110,
   "id": "4f934c59",
   "metadata": {
    "code_folding": [
     0
    ],
    "hidden": true
   },
   "outputs": [],
   "source": [
    "# This is the most time-consuming manual work.\n",
    "# Think of more automatic ways when the list gets longer.\n",
    "eb_rename_dict = {\n",
    "    '5th Non-Regional\\xa0Center (C5 and T5)':'5th Non-Regional Center',\n",
    "    '5th Non-Regional Center (C5 and T5)':'5th Non-Regional Center',\n",
    "    '5th Regional\\xa0Center (I5 and R5)':'5th Non-Regional Center',\n",
    "    '5th\\xa0Non-Regional\\xa0Center (C5 and T5)':'5th Non-Regional Center',\n",
    "    '5th Pilot Progams':'5th Targeted Employment Areas',\n",
    "    '5th Pilot Programs':'5th Targeted Employment Areas',\n",
    "    '5th Regional Center (I5 and R5)':'5th Targeted Employment Areas',\n",
    "    '5th Regional\\xa0Center (I5 and R5)':'5th Targeted Employment Areas',\n",
    "    '5th\\xa0Regional\\xa0Center (I5 and R5)':'5th Targeted Employment Areas',\n",
    "    '5th Unreserved (C5, T5, and all others)':'5th Unreserved',\n",
    "    '5th Unreserved (including C5, T5, I5, R5)':'5th Unreserved',\n",
    "    '5th\\xa0Unreserved (I5 and R5)':'5th Unreserved',\n",
    "    '5th Set Aside: High Unemployment (10%)':'5th Set Aside',\n",
    "    '5th Set Aside: Infrastructure (2%)':'5th Set Aside',\n",
    "    '5th Set Aside: Rural (20%)':'5th Set Aside',\n",
    "    'Iraqi & Afghani Translators':'Iraqi & Afghani Translators',\n",
    "    'Other Worker':'Other Workers',\n",
    "    'Other Workers':'Other Workers',\n",
    "    'Other Workers*':'Other Workers',\n",
    "    'Other\\xa0Workers':'Other Workers',\n",
    "    'Schedule A  Workers':'Schedule A Workers',\n",
    "    'Schedule A Workers':'Schedule A Workers',\n",
    "    'Schedule A\\xa0Workers':'Schedule A Workers',\n",
    "    'Schedule\\xa0A\\xa0Workers':'Schedule A Workers',\n",
    "    'Certain Religious  Workers':'Certain Religious Workers',\n",
    "    'Certain Religiuos  Workers':'Certain Religious Workers',\n",
    "    'Certain Religious Workers':'Certain Religious Workers',\n",
    "    'Employment-Based':'Employment-Based',\n",
    "    '1st':'1st',\n",
    "    '2nd':'2nd',\n",
    "    '3rd':'3rd',\n",
    "    '4th':'4th',\n",
    "    '5th':'5th'\n",
    "}"
   ]
  },
  {
   "cell_type": "code",
   "execution_count": 111,
   "id": "e65503bd",
   "metadata": {
    "hidden": true
   },
   "outputs": [],
   "source": [
    "# Collect all variations of 5th\n",
    "eb5_tar = []\n",
    "for key in eb_dict.keys():\n",
    "    if \"TARGETED\" in key.upper():\n",
    "        eb5_tar.append(key)"
   ]
  },
  {
   "cell_type": "code",
   "execution_count": 112,
   "id": "b007ef12",
   "metadata": {
    "hidden": true
   },
   "outputs": [
    {
     "data": {
      "text/plain": [
       "{'1st',\n",
       " '2nd',\n",
       " '3rd',\n",
       " '4th',\n",
       " '5th',\n",
       " '5th Non-Regional Center',\n",
       " '5th Set Aside',\n",
       " '5th Targeted Employment Areas',\n",
       " '5th Unreserved',\n",
       " 'Certain Religious Workers',\n",
       " 'Employment-Based',\n",
       " 'Iraqi & Afghani Translators',\n",
       " 'Other Workers',\n",
       " 'Schedule A Workers'}"
      ]
     },
     "execution_count": 112,
     "metadata": {},
     "output_type": "execute_result"
    }
   ],
   "source": [
    "eb_dict = dict(zip(eb5_tar, [\"5th Targeted Employment Areas\"]*len(eb5_tar)))\n",
    "eb_rename_dict.update(eb_dict)\n",
    "set(eb_rename_dict.values())"
   ]
  },
  {
   "cell_type": "code",
   "execution_count": 113,
   "id": "21b1d3b1",
   "metadata": {
    "hidden": true
   },
   "outputs": [
    {
     "data": {
      "text/html": [
       "<div>\n",
       "<style scoped>\n",
       "    .dataframe tbody tr th:only-of-type {\n",
       "        vertical-align: middle;\n",
       "    }\n",
       "\n",
       "    .dataframe tbody tr th {\n",
       "        vertical-align: top;\n",
       "    }\n",
       "\n",
       "    .dataframe thead th {\n",
       "        text-align: right;\n",
       "    }\n",
       "</style>\n",
       "<table border=\"1\" class=\"dataframe\">\n",
       "  <thead>\n",
       "    <tr style=\"text-align: right;\">\n",
       "      <th></th>\n",
       "      <th>Employment-Based</th>\n",
       "      <th>All_Chargeability_Except_Listed</th>\n",
       "      <th>INDIA</th>\n",
       "      <th>MEXICO</th>\n",
       "      <th>PHILIPPINES</th>\n",
       "      <th>CHINA-MAINLAND</th>\n",
       "      <th>DOMINICAN REPUBLIC</th>\n",
       "      <th>EL SALVADOR  GUATEMALA  HONDURAS</th>\n",
       "      <th>VIETNAM</th>\n",
       "      <th>time</th>\n",
       "    </tr>\n",
       "  </thead>\n",
       "  <tbody>\n",
       "    <tr>\n",
       "      <th>127</th>\n",
       "      <td>Employment-Based</td>\n",
       "      <td>C</td>\n",
       "      <td>C</td>\n",
       "      <td>C</td>\n",
       "      <td>C</td>\n",
       "      <td>C</td>\n",
       "      <td>C</td>\n",
       "      <td>C</td>\n",
       "      <td>C</td>\n",
       "      <td>2003-04-01</td>\n",
       "    </tr>\n",
       "  </tbody>\n",
       "</table>\n",
       "</div>"
      ],
      "text/plain": [
       "     Employment-Based All_Chargeability_Except_Listed INDIA MEXICO  \\\n",
       "127  Employment-Based                               C     C      C   \n",
       "\n",
       "    PHILIPPINES CHINA-MAINLAND DOMINICAN REPUBLIC  \\\n",
       "127           C              C                  C   \n",
       "\n",
       "    EL SALVADOR  GUATEMALA  HONDURAS VIETNAM        time  \n",
       "127                                C       C  2003-04-01  "
      ]
     },
     "execution_count": 113,
     "metadata": {},
     "output_type": "execute_result"
    }
   ],
   "source": [
    "# Index any \"suspicious\" rows to check whether more cleaning work is needed\n",
    "# If needed, confirm with the original web table\n",
    "# https://travel.state.gov/content/travel/en/legal/visa-law0/visa-bulletin/2003/visa-bulletin-for-april-2003.html\n",
    "df_work[df_work['Employment-Based'] == 'Employment-Based']"
   ]
  },
  {
   "cell_type": "markdown",
   "id": "d0f8f75a",
   "metadata": {},
   "source": [
    "## Map New Column from Dictionary"
   ]
  },
  {
   "cell_type": "code",
   "execution_count": 114,
   "id": "c091f712",
   "metadata": {},
   "outputs": [],
   "source": [
    "df_work['category'] = df_work['Employment-Based'].map(eb_rename_dict)"
   ]
  },
  {
   "cell_type": "code",
   "execution_count": 115,
   "id": "428dd331",
   "metadata": {},
   "outputs": [
    {
     "data": {
      "text/plain": [
       "Series([], dtype: int64)"
      ]
     },
     "execution_count": 115,
     "metadata": {},
     "output_type": "execute_result"
    }
   ],
   "source": [
    "# Examine the unmapped values, then modify the dictionary until all values are mapped\n",
    "df_work.isna().sum()[df_work.isna().sum()>0]"
   ]
  },
  {
   "cell_type": "code",
   "execution_count": 116,
   "id": "45cb4589",
   "metadata": {},
   "outputs": [
    {
     "data": {
      "text/plain": [
       "Series([], Name: Employment-Based, dtype: int64)"
      ]
     },
     "execution_count": 116,
     "metadata": {},
     "output_type": "execute_result"
    }
   ],
   "source": [
    "# This identify the unmapped keys\n",
    "df_work['Employment-Based'][df_work['category'].isnull()].value_counts()"
   ]
  },
  {
   "cell_type": "code",
   "execution_count": 117,
   "id": "b52c08af",
   "metadata": {},
   "outputs": [
    {
     "data": {
      "text/plain": [
       "5th Targeted Employment Areas    265\n",
       "1st                              259\n",
       "2nd                              259\n",
       "3rd                              259\n",
       "Other Workers                    259\n",
       "4th                              259\n",
       "Certain Religious Workers        257\n",
       "5th                              113\n",
       "5th Non-Regional Center           80\n",
       "5th Set Aside                     42\n",
       "Schedule A Workers                20\n",
       "5th Unreserved                    15\n",
       "Iraqi & Afghani Translators        8\n",
       "Employment-Based                   1\n",
       "Name: category, dtype: int64"
      ]
     },
     "execution_count": 117,
     "metadata": {},
     "output_type": "execute_result"
    }
   ],
   "source": [
    "# The reduced/merged list of visa categories\n",
    "df_work['category'].value_counts()"
   ]
  },
  {
   "cell_type": "code",
   "execution_count": 118,
   "id": "8e4f4608",
   "metadata": {},
   "outputs": [],
   "source": [
    "df_work.to_csv(\"visa_bulletin_updated.csv\", index=False)"
   ]
  },
  {
   "cell_type": "code",
   "execution_count": 119,
   "id": "f0486731",
   "metadata": {
    "scrolled": true
   },
   "outputs": [
    {
     "name": "stdout",
     "output_type": "stream",
     "text": [
      "This jupyter notebook was first last completed at 05/31/2023, Wednesday, 22:58 PM\n"
     ]
    }
   ],
   "source": [
    "print(\"This jupyter notebook was first last completed at\", tm.strftime(\"%m/%d/%Y, %A, %H:%M %p\"))"
   ]
  }
 ],
 "metadata": {
  "hide_input": false,
  "kernelspec": {
   "display_name": "Python 3.9.5 64-bit",
   "language": "python",
   "name": "python395jvsc74a57bd07812ea015bdcee6f23a998adcdd2ef97c151c0c241b7b7070987d9313e41299d"
  },
  "language_info": {
   "codemirror_mode": {
    "name": "ipython",
    "version": 3
   },
   "file_extension": ".py",
   "mimetype": "text/x-python",
   "name": "python",
   "nbconvert_exporter": "python",
   "pygments_lexer": "ipython3",
   "version": "3.9.7"
  },
  "latex_envs": {
   "LaTeX_envs_menu_present": true,
   "autoclose": false,
   "autocomplete": true,
   "bibliofile": "biblio.bib",
   "cite_by": "apalike",
   "current_citInitial": 1,
   "eqLabelWithNumbers": true,
   "eqNumInitial": 1,
   "hotkeys": {
    "equation": "Ctrl-E",
    "itemize": "Ctrl-I"
   },
   "labels_anchors": false,
   "latex_user_defs": false,
   "report_style_numbering": false,
   "user_envs_cfg": false
  },
  "toc": {
   "base_numbering": 1,
   "nav_menu": {},
   "number_sections": true,
   "sideBar": true,
   "skip_h1_title": false,
   "title_cell": "Web Scraping Step by Step 05/29/23—05/31/23",
   "title_sidebar": "Contents",
   "toc_cell": true,
   "toc_position": {
    "height": "calc(100% - 180px)",
    "left": "10px",
    "top": "150px",
    "width": "331px"
   },
   "toc_section_display": true,
   "toc_window_display": true
  },
  "varInspector": {
   "cols": {
    "lenName": 16,
    "lenType": 16,
    "lenVar": 40
   },
   "kernels_config": {
    "python": {
     "delete_cmd_postfix": "",
     "delete_cmd_prefix": "del ",
     "library": "var_list.py",
     "varRefreshCmd": "print(var_dic_list())"
    },
    "r": {
     "delete_cmd_postfix": ") ",
     "delete_cmd_prefix": "rm(",
     "library": "var_list.r",
     "varRefreshCmd": "cat(var_dic_list()) "
    }
   },
   "types_to_exclude": [
    "module",
    "function",
    "builtin_function_or_method",
    "instance",
    "_Feature"
   ],
   "window_display": false
  }
 },
 "nbformat": 4,
 "nbformat_minor": 5
}
